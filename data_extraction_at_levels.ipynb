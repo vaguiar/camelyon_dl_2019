{
  "nbformat": 4,
  "nbformat_minor": 0,
  "metadata": {
    "colab": {
      "name": "data-extraction-at-levels",
      "version": "0.3.2",
      "provenance": [],
      "collapsed_sections": [],
      "include_colab_link": true
    },
    "kernelspec": {
      "name": "python3",
      "display_name": "Python 3"
    }
  },
  "cells": [
    {
      "cell_type": "markdown",
      "metadata": {
        "id": "view-in-github",
        "colab_type": "text"
      },
      "source": [
        "<a href=\"https://colab.research.google.com/github/vaguiar/camelyon_dl_2019/blob/data-exploration/data_extraction_at_levels.ipynb\" target=\"_parent\"><img src=\"https://colab.research.google.com/assets/colab-badge.svg\" alt=\"Open In Colab\"/></a>"
      ]
    },
    {
      "cell_type": "code",
      "metadata": {
        "id": "4Q-ICxs-kqEK",
        "colab_type": "code",
        "outputId": "fbcc24ee-9b35-4c26-eedf-083902772bac",
        "colab": {
          "base_uri": "https://localhost:8080/",
          "height": 224
        }
      },
      "source": [
        "# Install the OpenSlide C library and Python bindings\n",
        "!apt-get install openslide-tools\n",
        "!pip install openslide-python"
      ],
      "execution_count": 1,
      "outputs": [
        {
          "output_type": "stream",
          "text": [
            "Reading package lists... Done\n",
            "Building dependency tree       \n",
            "Reading state information... Done\n",
            "openslide-tools is already the newest version (3.4.1+dfsg-2).\n",
            "The following package was automatically installed and is no longer required:\n",
            "  libnvidia-common-410\n",
            "Use 'apt autoremove' to remove it.\n",
            "0 upgraded, 0 newly installed, 0 to remove and 16 not upgraded.\n",
            "Requirement already satisfied: openslide-python in /usr/local/lib/python3.6/dist-packages (1.1.1)\n",
            "Requirement already satisfied: Pillow in /usr/local/lib/python3.6/dist-packages (from openslide-python) (4.3.0)\n",
            "Requirement already satisfied: olefile in /usr/local/lib/python3.6/dist-packages (from Pillow->openslide-python) (0.46)\n"
          ],
          "name": "stdout"
        }
      ]
    },
    {
      "cell_type": "code",
      "metadata": {
        "id": "zxAR3TmatePH",
        "colab_type": "code",
        "colab": {}
      },
      "source": [
        "%matplotlib inline\n",
        "import matplotlib.pyplot as plt\n",
        "import numpy as np\n",
        "from openslide import open_slide, __library_version__ as openslide_version\n",
        "import os\n",
        "import io\n",
        "from PIL import Image\n",
        "from skimage.color import rgb2gray"
      ],
      "execution_count": 0,
      "outputs": []
    },
    {
      "cell_type": "markdown",
      "metadata": {
        "id": "ydSekjDWXHMY",
        "colab_type": "text"
      },
      "source": [
        "### Setting up GCP"
      ]
    },
    {
      "cell_type": "code",
      "metadata": {
        "id": "D8CacwAVXBSW",
        "colab_type": "code",
        "colab": {}
      },
      "source": [
        "from google.colab import auth\n",
        "auth.authenticate_user()"
      ],
      "execution_count": 0,
      "outputs": []
    },
    {
      "cell_type": "code",
      "metadata": {
        "id": "ZrOGONKRvCZw",
        "colab_type": "code",
        "outputId": "bce3b907-daad-4264-d044-82e9235f266e",
        "colab": {
          "base_uri": "https://localhost:8080/",
          "height": 68
        }
      },
      "source": [
        "GCP_PROJECT_ID = 'triple-voyage-239123'\n",
        "GCP_BUCKET_NAME = 'vaa2114_dl_2019'\n",
        "\n",
        "GCP_TRAIN_TUMOR_FOLDER = 'train/level5/tumor'\n",
        "GCP_TRAIN_NON_TUMOR_FOLDER = 'train/level5/non_tumor'\n",
        "\n",
        "GCP_TEST_TUMOR_FOLDER = 'test/level5/tumor'\n",
        "GCP_TEST_NON_TUMOR_FOLDER = 'test/level5/non_tumor'\n",
        "\n",
        "print(\"GCP Paths:\")\n",
        "print(GCP_TRAIN_TUMOR_FOLDER)\n",
        "print(GCP_TRAIN_NON_TUMOR_FOLDER)"
      ],
      "execution_count": 8,
      "outputs": [
        {
          "output_type": "stream",
          "text": [
            "GCP Paths:\n",
            "train/level5/tumor\n",
            "train/level5/non_tumor\n"
          ],
          "name": "stdout"
        }
      ]
    },
    {
      "cell_type": "code",
      "metadata": {
        "id": "u8I33849Eqdy",
        "colab_type": "code",
        "outputId": "4ba3d82c-c6dd-4e75-b02f-06bbcd4377ef",
        "colab": {
          "base_uri": "https://localhost:8080/",
          "height": 34
        }
      },
      "source": [
        "!gcloud config set project {GCP_PROJECT_ID}"
      ],
      "execution_count": 11,
      "outputs": [
        {
          "output_type": "stream",
          "text": [
            "Updated property [core/project].\n"
          ],
          "name": "stdout"
        }
      ]
    },
    {
      "cell_type": "code",
      "metadata": {
        "id": "GBk8oOwkvCUc",
        "colab_type": "code",
        "colab": {}
      },
      "source": [
        "from google.cloud import storage\n",
        "\n",
        "CLIENT = storage.Client(project=GCP_PROJECT_ID)\n",
        "BUCKET_ = CLIENT.bucket(GCP_BUCKET_NAME)\n",
        "\n",
        "def save_to_gcp(gcp_file_name, file_buf):\n",
        "  \n",
        "  blob = BUCKET_.blob(gcp_file_name)\n",
        "  \n",
        "  # upload buffer contents to gcs\n",
        "  blob.upload_from_string(\n",
        "      file_buf.getvalue(),\n",
        "      content_type='image/png')\n",
        "  \n",
        "  # gcs url to uploaded matplotlib image\n",
        "  url = blob.public_url\n",
        "  "
      ],
      "execution_count": 0,
      "outputs": []
    },
    {
      "cell_type": "markdown",
      "metadata": {
        "id": "M65urUELXKs7",
        "colab_type": "text"
      },
      "source": [
        "### Setting up Drive to read data"
      ]
    },
    {
      "cell_type": "code",
      "metadata": {
        "id": "86mc0fyu4_vf",
        "colab_type": "code",
        "outputId": "c175ab63-6158-4688-e7cd-ed2cfd22810b",
        "colab": {
          "base_uri": "https://localhost:8080/",
          "height": 54
        }
      },
      "source": [
        "## load data fom google drive \n",
        "from google.colab import drive\n",
        "drive.mount('/content/drive')"
      ],
      "execution_count": 22,
      "outputs": [
        {
          "output_type": "stream",
          "text": [
            "Drive already mounted at /content/drive; to attempt to forcibly remount, call drive.mount(\"/content/drive\", force_remount=True).\n"
          ],
          "name": "stdout"
        }
      ]
    },
    {
      "cell_type": "code",
      "metadata": {
        "id": "G8WVoGKo6-Jq",
        "colab_type": "code",
        "colab": {}
      },
      "source": [
        "BASE_DIR = '/content/drive/My Drive/slides/'\n",
        "# CANCER_PATH = 'drive/My Drive/training_data/cancer'\n",
        "# NON_CANCER_PATH = 'drive/My Drive/training_data/non_cancer'\n",
        "# DISCARD_PATH = 'drive/My Drive/training_data/discard'\n",
        "\n",
        "images = os.listdir(BASE_DIR)\n",
        "masks = [s for s in images if \"_mask.tif\" in s]\n",
        "masks.sort()\n",
        "slides = list(set([s for s in images if \".tif\" in s]) - set(masks))\n",
        "slides.sort()\n",
        "slides.remove('tumor_038.tif')\n",
        "\n",
        "masks_slides = zip(masks, slides)\n",
        "masks_slides  = list(masks_slides)"
      ],
      "execution_count": 0,
      "outputs": []
    },
    {
      "cell_type": "code",
      "metadata": {
        "id": "tRkG-GNrWLrL",
        "colab_type": "code",
        "colab": {}
      },
      "source": [
        "def getSlide_Mask(slide_file, tumor_mask_file):\n",
        "\n",
        "  slide_path = os.path.join(BASE_DIR, slide_file)\n",
        "  tumor_mask_path = os.path.join(BASE_DIR, tumor_mask_file)\n",
        "\n",
        "\n",
        "  slide = open_slide(slide_path)\n",
        "  tumor_mask = open_slide(tumor_mask_path)\n",
        "  \n",
        "  # some slides have more than 8 levels, since we will only use the first 8 levels \n",
        "  # we will only assert that the first 8 levels have the appropriate dimensions \n",
        "  for i in range(8):  \n",
        "      assert tumor_mask.level_dimensions[i][0] == slide.level_dimensions[i][0]\n",
        "      assert tumor_mask.level_dimensions[i][1] == slide.level_dimensions[i][1]\n",
        "\n",
        "  # Verify downsampling works as expected\n",
        "  width, height = slide.level_dimensions[7]\n",
        "  assert width * slide.level_downsamples[7] == slide.level_dimensions[0][0]\n",
        "  assert height * slide.level_downsamples[7] == slide.level_dimensions[0][1]\n",
        "  \n",
        "  return slide, tumor_mask\n",
        "\n",
        "def read_slide(slide, x, y, level, width, height, as_float=False):\n",
        "    im = slide.read_region((x,y), level, (width, height))\n",
        "    im = im.convert('RGB') # drop the alpha channel\n",
        "    if as_float:\n",
        "        im = np.asarray(im, dtype=np.float32)\n",
        "    else:\n",
        "        im = np.asarray(im)\n",
        "    assert im.shape == (height, width, 3)\n",
        "    return im\n",
        "  \n",
        "  \n",
        "def find_tissue_pixels(image, intensity=0.8):\n",
        "    im_gray = rgb2gray(image)\n",
        "    assert im_gray.shape == (image.shape[0], image.shape[1])\n",
        "    indices = np.where(im_gray <= intensity)\n",
        "    return zip(indices[0], indices[1])\n",
        "\n",
        "  \n",
        "\n",
        "  \n",
        "\n",
        "def getTraining_Data(level, slide, \n",
        "                     tumor_mask, \n",
        "                     slide_window, \n",
        "                     tumor_path, \n",
        "                     non_tumor_path,\n",
        "                     slide_file, \n",
        "                     min_x = 0, \n",
        "                     min_y = 0, \n",
        "                     cancer_thres = .1, \n",
        "                     tissue_thres = .2):\n",
        "  '''\n",
        "  use a sliding window filter of size (slide_height, slide_width) \n",
        "  save in cancer folder if more than 30% of pixels are cancerous \n",
        "  save in non_cancer folder if more than 10% of the slide is pixels \n",
        "\n",
        "  INPUT: \n",
        "\n",
        "  - level: image level to use\n",
        "  - slide, \n",
        "  - tumor_mask, \n",
        "  - slide_width, \n",
        "  - slide_height, \n",
        "  - slide_file, \n",
        "  - min_x = 0, \n",
        "  - min_y = 0, \n",
        "  - cancer_thres = .1, \n",
        "  - tissue_thres = .2\n",
        "  '''\n",
        "  \n",
        " \n",
        "  down_sample = int(slide.level_downsamples[level])\n",
        "  pixel_width = int(down_sample*slide.level_dimensions[level][0])\n",
        "  pixel_height = int(down_sample*slide.level_dimensions[level][1])\n",
        "  \n",
        "  # loop through image pixels \n",
        "  for x in range(min_x*down_sample, pixel_width, slide_window*down_sample):\n",
        "    for y in range(min_y*down_sample, pixel_height, slide_window*down_sample):\n",
        "\n",
        "      # calcualte slide width and slide height if image size starting at \n",
        "      # (x,y) is less than (slide_width, slide_height)\n",
        "      slide_width_2 =  min(slide_window , slide.level_dimensions[level][0] - x/down_sample)\n",
        "      slide_height_2 = min(slide_window , slide.level_dimensions[level][1] - y/down_sample)\n",
        "\n",
        "      slide_image = read_slide(slide, \n",
        "                           x=x, \n",
        "                           y=y, \n",
        "                           level=level, \n",
        "                           width= int(slide_width_2) , \n",
        "                           height= int(slide_height_2) )\n",
        "      \n",
        "      \n",
        "      # find % of tissues on slide_image\n",
        "      tissue_pixels = find_tissue_pixels(slide_image)\n",
        "      num_pixels = len(list(tissue_pixels))\n",
        "      pcnt_tissue = num_pixels/ float(slide_image.shape[0] * slide_image.shape[0])\n",
        "\n",
        "\n",
        "      mask_image = read_slide(tumor_mask,\n",
        "                              x=x, \n",
        "                              y=y, \n",
        "                              level=level, \n",
        "                              width= int(slide_width_2) , \n",
        "                              height= int(slide_height_2) )\n",
        "\n",
        "      mask_image = mask_image[:,:,0]\n",
        "\n",
        "      # get % of cancer cells in mask \n",
        "      pcnt_cancer =  np.sum(mask_image)/((slide_width*slide_height)/100)\n",
        "      \n",
        "      # if % cancer > cancer_thres then save to cancer directory\n",
        "      if pcnt_cancer >= cancer_thres:\n",
        "        save_dir = tumor_path \n",
        "        \n",
        "      # if non-cancerous and percent of tissues is greater than tissue threshold\n",
        "      # save to the non-cancerous directory\n",
        "      elif ((pcnt_cancer <  cancer_thres) & (pcnt_tissue >= tissue_thres)):\n",
        "        save_dir = non_tumor_path \n",
        "        \n",
        "      # if the image is not a square do not save as it is likely the end of the slide \n",
        "      # this improves efficieny \n",
        "      elif slide_width_2 != slide_height_2:\n",
        "        save_dir = 'DISCARD'\n",
        "      else:\n",
        "        save_dir = 'DISCARD' \n",
        "\n",
        "      \n",
        "      \n",
        "      # save images if not meant to be discarded.       \n",
        "      if save_dir == 'DISCARD':      \n",
        "        pass \n",
        "      \n",
        "      else: \n",
        "        name = save_dir + \"/\" + \"level_\" + str(level) + \"_\" + str(x) + \"_\" + str(y)+ \"_\" + slide_file\n",
        "\n",
        "        print(pcnt_cancer, pcnt_tissue, name)\n",
        "        plt.figure(figsize=(10,10), dpi=100)\n",
        "        plt.imshow(slide_image)\n",
        "        plt.imshow(mask_image, cmap='jet', alpha=0.5) # Red regions contains cancer.\n",
        "        \n",
        "        buf = io.BytesIO()\n",
        "        plt.savefig(buf, format='png')\n",
        "        save_to_gcp(name, buf)\n",
        "        \n",
        "        buf.close()\n",
        "        \n",
        "        plt.close()"
      ],
      "execution_count": 0,
      "outputs": []
    },
    {
      "cell_type": "code",
      "metadata": {
        "id": "P6pus9f8vCoQ",
        "colab_type": "code",
        "colab": {}
      },
      "source": [
        "slide_masks = masks_slides[12]\n",
        "slide_file = slide_masks[1]\n",
        "tumor_mask_file =slide_masks[0]\n",
        "slide, tumor_mask = getSlide_Mask(slide_file, tumor_mask_file)"
      ],
      "execution_count": 0,
      "outputs": []
    },
    {
      "cell_type": "code",
      "metadata": {
        "id": "Bg5z75QRdy5E",
        "colab_type": "code",
        "colab": {}
      },
      "source": [
        "level = 5\n",
        "slide_width = 600\n",
        "slide_height = 600 "
      ],
      "execution_count": 0,
      "outputs": []
    },
    {
      "cell_type": "code",
      "metadata": {
        "id": "1exmG0W3yvDK",
        "colab_type": "code",
        "colab": {
          "base_uri": "https://localhost:8080/",
          "height": 85
        },
        "outputId": "19e4d415-84c2-4b41-9e61-a12115479fa0"
      },
      "source": [
        "getTraining_Data(level, slide, \n",
        "                 tumor_mask, \n",
        "                 slide_width, \n",
        "                 GCP_TRAIN_TUMOR_FOLDER, \n",
        "                 GCP_TRAIN_NON_TUMOR_FOLDER, \n",
        "                 slide_file)"
      ],
      "execution_count": 28,
      "outputs": [
        {
          "output_type": "stream",
          "text": [
            "0.0 0.3680611111111111 train/level5/non_tumor/level_5_0_38400_tumor_075.tif\n",
            "10.919444444444444 0.34625 train/level5/tumor/level_5_19200_38400_tumor_075.tif\n",
            "2.1333333333333333 0.37698611111111113 train/level5/tumor/level_5_57600_0_tumor_075.tif\n",
            "0.027777777777777776 0.515 train/level5/non_tumor/level_5_57600_19200_tumor_075.tif\n"
          ],
          "name": "stdout"
        }
      ]
    }
  ]
}