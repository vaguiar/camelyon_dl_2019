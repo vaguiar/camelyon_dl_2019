{
  "nbformat": 4,
  "nbformat_minor": 0,
  "metadata": {
    "colab": {
      "name": "training-at-level-7.ipynb",
      "version": "0.3.2",
      "provenance": [],
      "collapsed_sections": [],
      "toc_visible": true,
      "include_colab_link": true
    },
    "kernelspec": {
      "name": "python3",
      "display_name": "Python 3"
    },
    "accelerator": "GPU"
  },
  "cells": [
    {
      "cell_type": "markdown",
      "metadata": {
        "id": "view-in-github",
        "colab_type": "text"
      },
      "source": [
        "<a href=\"https://colab.research.google.com/github/vaguiar/camelyon_dl_2019/blob/data-exploration/training_at_level_7.ipynb\" target=\"_parent\"><img src=\"https://colab.research.google.com/assets/colab-badge.svg\" alt=\"Open In Colab\"/></a>"
      ]
    },
    {
      "cell_type": "code",
      "metadata": {
        "id": "ntvJ9R35tjZn",
        "colab_type": "code",
        "outputId": "cf8103b9-b745-4fd6-f3ba-57491293df0e",
        "colab": {
          "base_uri": "https://localhost:8080/",
          "height": 700
        }
      },
      "source": [
        "!pip  install tf-nightly-2.0-preview"
      ],
      "execution_count": 1,
      "outputs": [
        {
          "output_type": "stream",
          "text": [
            "Collecting tf-nightly-2.0-preview\n",
            "\u001b[?25l  Downloading https://files.pythonhosted.org/packages/8b/aa/a696686aa83b5c198c5cf72a5bb3b398597da6bcd2a2fb38c627b7c3670c/tf_nightly_2.0_preview-2.0.0.dev20190513-cp36-cp36m-manylinux1_x86_64.whl (87.5MB)\n",
            "\u001b[K     |████████████████████████████████| 87.5MB 1.3MB/s \n",
            "\u001b[?25hCollecting wrapt>=1.11.1 (from tf-nightly-2.0-preview)\n",
            "  Downloading https://files.pythonhosted.org/packages/67/b2/0f71ca90b0ade7fad27e3d20327c996c6252a2ffe88f50a95bba7434eda9/wrapt-1.11.1.tar.gz\n",
            "Requirement already satisfied: six>=1.10.0 in /usr/local/lib/python3.6/dist-packages (from tf-nightly-2.0-preview) (1.12.0)\n",
            "Requirement already satisfied: astor>=0.6.0 in /usr/local/lib/python3.6/dist-packages (from tf-nightly-2.0-preview) (0.7.1)\n",
            "Requirement already satisfied: keras-preprocessing>=1.0.5 in /usr/local/lib/python3.6/dist-packages (from tf-nightly-2.0-preview) (1.0.9)\n",
            "Requirement already satisfied: grpcio>=1.8.6 in /usr/local/lib/python3.6/dist-packages (from tf-nightly-2.0-preview) (1.15.0)\n",
            "Collecting google-pasta>=0.1.6 (from tf-nightly-2.0-preview)\n",
            "\u001b[?25l  Downloading https://files.pythonhosted.org/packages/f9/68/a14620bfb042691f532dcde8576ff82ee82e4c003cdc0a3dbee5f289cee6/google_pasta-0.1.6-py3-none-any.whl (51kB)\n",
            "\u001b[K     |████████████████████████████████| 61kB 12.9MB/s \n",
            "\u001b[?25hRequirement already satisfied: absl-py>=0.7.0 in /usr/local/lib/python3.6/dist-packages (from tf-nightly-2.0-preview) (0.7.1)\n",
            "Requirement already satisfied: gast>=0.2.0 in /usr/local/lib/python3.6/dist-packages (from tf-nightly-2.0-preview) (0.2.2)\n",
            "Requirement already satisfied: numpy<2.0,>=1.14.5 in /usr/local/lib/python3.6/dist-packages (from tf-nightly-2.0-preview) (1.16.3)\n",
            "Requirement already satisfied: wheel>=0.26 in /usr/local/lib/python3.6/dist-packages (from tf-nightly-2.0-preview) (0.33.2)\n",
            "Requirement already satisfied: keras-applications>=1.0.6 in /usr/local/lib/python3.6/dist-packages (from tf-nightly-2.0-preview) (1.0.7)\n",
            "Requirement already satisfied: termcolor>=1.1.0 in /usr/local/lib/python3.6/dist-packages (from tf-nightly-2.0-preview) (1.1.0)\n",
            "Collecting tensorflow-estimator-2.0-preview (from tf-nightly-2.0-preview)\n",
            "\u001b[?25l  Downloading https://files.pythonhosted.org/packages/cd/d8/f113ae2411e6a0eb82d55f56a5b36229d0de3bac638526978955b0522000/tensorflow_estimator_2.0_preview-1.14.0.dev2019051300-py2.py3-none-any.whl (427kB)\n",
            "\u001b[K     |████████████████████████████████| 430kB 26.1MB/s \n",
            "\u001b[?25hRequirement already satisfied: protobuf>=3.6.1 in /usr/local/lib/python3.6/dist-packages (from tf-nightly-2.0-preview) (3.7.1)\n",
            "Collecting tb-nightly<1.15.0a0,>=1.14.0a0 (from tf-nightly-2.0-preview)\n",
            "\u001b[?25l  Downloading https://files.pythonhosted.org/packages/8c/6c/759f28c7b26ea155b9928cde0623fde7f8d7b09a31fb4a3962e92bcce3d8/tb_nightly-1.14.0a20190513-py3-none-any.whl (3.1MB)\n",
            "\u001b[K     |████████████████████████████████| 3.1MB 50.0MB/s \n",
            "\u001b[?25hRequirement already satisfied: h5py in /usr/local/lib/python3.6/dist-packages (from keras-applications>=1.0.6->tf-nightly-2.0-preview) (2.8.0)\n",
            "Requirement already satisfied: setuptools in /usr/local/lib/python3.6/dist-packages (from protobuf>=3.6.1->tf-nightly-2.0-preview) (41.0.1)\n",
            "Requirement already satisfied: werkzeug>=0.11.15 in /usr/local/lib/python3.6/dist-packages (from tb-nightly<1.15.0a0,>=1.14.0a0->tf-nightly-2.0-preview) (0.15.2)\n",
            "Requirement already satisfied: markdown>=2.6.8 in /usr/local/lib/python3.6/dist-packages (from tb-nightly<1.15.0a0,>=1.14.0a0->tf-nightly-2.0-preview) (3.1)\n",
            "Building wheels for collected packages: wrapt\n",
            "  Building wheel for wrapt (setup.py) ... \u001b[?25l\u001b[?25hdone\n",
            "  Stored in directory: /root/.cache/pip/wheels/89/67/41/63cbf0f6ac0a6156588b9587be4db5565f8c6d8ccef98202fc\n",
            "Successfully built wrapt\n",
            "\u001b[31mERROR: thinc 6.12.1 has requirement wrapt<1.11.0,>=1.10.0, but you'll have wrapt 1.11.1 which is incompatible.\u001b[0m\n",
            "Installing collected packages: wrapt, google-pasta, tensorflow-estimator-2.0-preview, tb-nightly, tf-nightly-2.0-preview\n",
            "  Found existing installation: wrapt 1.10.11\n",
            "    Uninstalling wrapt-1.10.11:\n",
            "      Successfully uninstalled wrapt-1.10.11\n",
            "Successfully installed google-pasta-0.1.6 tb-nightly-1.14.0a20190513 tensorflow-estimator-2.0-preview-1.14.0.dev2019051300 tf-nightly-2.0-preview-2.0.0.dev20190513 wrapt-1.11.1\n"
          ],
          "name": "stdout"
        }
      ]
    },
    {
      "cell_type": "code",
      "metadata": {
        "id": "08XPVYEYtof_",
        "colab_type": "code",
        "outputId": "ba337481-3ca8-45d2-db20-842f3ae0539d",
        "colab": {
          "base_uri": "https://localhost:8080/",
          "height": 34
        }
      },
      "source": [
        "import matplotlib.pyplot as plt\n",
        "import numpy as np\n",
        "import os\n",
        "\n",
        "# The code in this notebook should work identically in TF v1 and v2\n",
        "import tensorflow as tf\n",
        "import zipfile\n",
        "\n",
        "import tensorflow.keras.applications as applications\n",
        "from tensorflow.keras.layers import Conv2D, Dense, Dropout, Flatten, MaxPooling2D\n",
        "from tensorflow.keras.models import Sequential, load_model\n",
        "from tensorflow.keras.preprocessing.image import ImageDataGenerator\n",
        "\n",
        "print(\"You have version\", tf.__version__)\n",
        "assert tf.__version__ >= \"2.0\" # TensorFlow ≥ 2.0 required"
      ],
      "execution_count": 2,
      "outputs": [
        {
          "output_type": "stream",
          "text": [
            "You have version 2.0.0-dev20190513\n"
          ],
          "name": "stdout"
        }
      ]
    },
    {
      "cell_type": "markdown",
      "metadata": {
        "id": "YW8_045QucD4",
        "colab_type": "text"
      },
      "source": [
        "### Global constants"
      ]
    },
    {
      "cell_type": "code",
      "metadata": {
        "id": "Ruz9r2UjubX5",
        "colab_type": "code",
        "colab": {}
      },
      "source": [
        "# Images will be resized to(TARGET_SHAPE, TARGET_SHAPE) as they're read off disk.\n",
        "TARGET_SHAPE = 160 \n",
        "BATCH_SIZE = 25\n",
        "\n",
        "CLASS_MODE = 'categorical'\n",
        "\n",
        "NUM_OF_CLASSES = 2\n",
        "CLASS_NAMES = ['tumor', 'non_tumor']\n"
      ],
      "execution_count": 0,
      "outputs": []
    },
    {
      "cell_type": "markdown",
      "metadata": {
        "id": "ydSekjDWXHMY",
        "colab_type": "text"
      },
      "source": [
        "### Setting up GCP"
      ]
    },
    {
      "cell_type": "code",
      "metadata": {
        "id": "ZrOGONKRvCZw",
        "colab_type": "code",
        "colab": {}
      },
      "source": [
        "GCP_PROJECT_ID = 'triple-voyage-239123'\n",
        "GCP_BUCKET_NAME = 'vaa2114_dl_2019'"
      ],
      "execution_count": 0,
      "outputs": []
    },
    {
      "cell_type": "code",
      "metadata": {
        "id": "u8I33849Eqdy",
        "colab_type": "code",
        "outputId": "fbbde576-0ab4-4fe7-d177-f7c7ed797dd8",
        "colab": {
          "base_uri": "https://localhost:8080/",
          "height": 34
        }
      },
      "source": [
        "!gcloud config set project {GCP_PROJECT_ID}"
      ],
      "execution_count": 48,
      "outputs": [
        {
          "output_type": "stream",
          "text": [
            "Updated property [core/project].\n"
          ],
          "name": "stdout"
        }
      ]
    },
    {
      "cell_type": "markdown",
      "metadata": {
        "id": "N45WU3AFvIC_",
        "colab_type": "text"
      },
      "source": [
        "### Read Data from GCP"
      ]
    },
    {
      "cell_type": "code",
      "metadata": {
        "id": "BzqxBOXq1uqJ",
        "colab_type": "code",
        "colab": {}
      },
      "source": [
        "LEVEL = 7"
      ],
      "execution_count": 0,
      "outputs": []
    },
    {
      "cell_type": "code",
      "metadata": {
        "id": "gewIRyRPvlk7",
        "colab_type": "code",
        "colab": {}
      },
      "source": [
        "TRAIN_DIR = \"/tmp/train/\"\n",
        "GCP_TRAIN_DIR = \"train/level{}/\".format(LEVEL)\n",
        "LEVEL_TRAIN_DIR = \"/tmp/train/level{}\".format(LEVEL)\n",
        "\n",
        "VAL_DIR = \"/tmp/validate/\"\n",
        "GCP_VAL_DIR = \"validate/level{}/\".format(LEVEL)\n",
        "LEVEL_VAL_DIR = \"/tmp/validate/level{}\".format(LEVEL)\n",
        "\n",
        "TEST_DIR = \"/tmp/test/\"\n",
        "GCP_TEST_DIR = \"test/level{}/\".format(LEVEL)\n",
        "LEVEL_TEST_DIR = \"/tmp/test/level{}\".format(LEVEL)"
      ],
      "execution_count": 0,
      "outputs": []
    },
    {
      "cell_type": "code",
      "metadata": {
        "id": "bf0clu_4H_Yo",
        "colab_type": "code",
        "colab": {}
      },
      "source": [
        "!rm -rf '$LEVEL_TRAIN_DIR'\n",
        "!rm -rf '$LEVEL_VAL_DIR'\n",
        "!rm -rf '$LEVEL_TEST_DIR'\n",
        "\n",
        "!mkdir -p '$TRAIN_DIR'\n",
        "!mkdir -p '$VAL_DIR'\n",
        "!mkdir -p '$TEST_DIR'"
      ],
      "execution_count": 0,
      "outputs": []
    },
    {
      "cell_type": "markdown",
      "metadata": {
        "id": "g_ToRfu3yNWI",
        "colab_type": "text"
      },
      "source": [
        "### Download Training set"
      ]
    },
    {
      "cell_type": "code",
      "metadata": {
        "id": "V0LVeuwBvMdK",
        "colab_type": "code",
        "outputId": "55979cd2-90fc-4d23-825f-23e45a534dd4",
        "colab": {
          "base_uri": "https://localhost:8080/",
          "height": 12631
        }
      },
      "source": [
        "!gsutil -m cp -r gs://{GCP_BUCKET_NAME}/{GCP_TRAIN_DIR} {TRAIN_DIR}\n",
        "  \n",
        "print(\"\\nDownloaded Train Data\")\n",
        "\n",
        "print(\"# Non Tumor files\")\n",
        "!ls \"$LEVEL_TRAIN_DIR/non_tumor/\" | wc -l\n",
        "print(\"# Tumor files\")\n",
        "!ls \"$LEVEL_TRAIN_DIR/tumor/\" | wc -l"
      ],
      "execution_count": 19,
      "outputs": [
        {
          "output_type": "stream",
          "text": [
            "Copying gs://vaa2114_dl_2019/train/level7/non_tumor/level_7_0_0_50_tumor_001.tif...\n",
            "Copying gs://vaa2114_dl_2019/train/level7/non_tumor/level_7_102400_25600_50_tumor_096.tif...\n",
            "Copying gs://vaa2114_dl_2019/train/level7/non_tumor/level_7_0_0_50_tumor_059.tif...\n",
            "Copying gs://vaa2114_dl_2019/train/level7/non_tumor/level_7_0_128000_50_tumor_001.tif...\n",
            "Copying gs://vaa2114_dl_2019/train/level7/non_tumor/level_7_102400_32000_50_tumor_096.tif...\n",
            "Copying gs://vaa2114_dl_2019/train/level7/non_tumor/level_7_0_134400_50_tumor_001.tif...\n",
            "Copying gs://vaa2114_dl_2019/train/level7/non_tumor/level_7_0_121600_50_tumor_001.tif...\n",
            "Copying gs://vaa2114_dl_2019/train/level7/non_tumor/level_7_102400_38400_50_tumor_096.tif...\n",
            "Copying gs://vaa2114_dl_2019/train/level7/non_tumor/level_7_102400_44800_50_tumor_096.tif...\n",
            "Copying gs://vaa2114_dl_2019/train/level7/non_tumor/level_7_108800_25600_50_tumor_096.tif...\n",
            "Copying gs://vaa2114_dl_2019/train/level7/non_tumor/level_7_108800_32000_50_tumor_096.tif...\n",
            "Copying gs://vaa2114_dl_2019/train/level7/non_tumor/level_7_108800_38400_50_tumor_096.tif...\n",
            "Copying gs://vaa2114_dl_2019/train/level7/non_tumor/level_7_108800_44800_50_tumor_096.tif...\n",
            "Copying gs://vaa2114_dl_2019/train/level7/non_tumor/level_7_115200_25600_50_tumor_096.tif...\n",
            "Copying gs://vaa2114_dl_2019/train/level7/non_tumor/level_7_115200_32000_50_tumor_096.tif...\n",
            "Copying gs://vaa2114_dl_2019/train/level7/non_tumor/level_7_115200_38400_50_tumor_096.tif...\n",
            "Copying gs://vaa2114_dl_2019/train/level7/non_tumor/level_7_115200_44800_50_tumor_096.tif...\n",
            "Copying gs://vaa2114_dl_2019/train/level7/non_tumor/level_7_121600_19200_50_tumor_096.tif...\n",
            "Copying gs://vaa2114_dl_2019/train/level7/non_tumor/level_7_121600_25600_50_tumor_096.tif...\n",
            "Copying gs://vaa2114_dl_2019/train/level7/non_tumor/level_7_121600_38400_50_tumor_096.tif...\n",
            "Copying gs://vaa2114_dl_2019/train/level7/non_tumor/level_7_12800_0_50_tumor_001.tif...\n",
            "Copying gs://vaa2114_dl_2019/train/level7/non_tumor/level_7_12800_0_50_tumor_059.tif...\n",
            "Copying gs://vaa2114_dl_2019/train/level7/non_tumor/level_7_12800_12800_50_tumor_001.tif...\n",
            "Copying gs://vaa2114_dl_2019/train/level7/non_tumor/level_7_12800_115200_50_tumor_064.tif...\n",
            "Copying gs://vaa2114_dl_2019/train/level7/non_tumor/level_7_12800_128000_50_tumor_064.tif...\n",
            "Copying gs://vaa2114_dl_2019/train/level7/non_tumor/level_7_12800_12800_50_tumor_059.tif...\n",
            "Copying gs://vaa2114_dl_2019/train/level7/non_tumor/level_7_12800_134400_50_tumor_064.tif...\n",
            "Copying gs://vaa2114_dl_2019/train/level7/non_tumor/level_7_12800_12800_50_tumor_096.tif...\n",
            "Copying gs://vaa2114_dl_2019/train/level7/non_tumor/level_7_12800_140800_50_tumor_023.tif...\n",
            "Copying gs://vaa2114_dl_2019/train/level7/non_tumor/level_7_12800_121600_50_tumor_064.tif...\n",
            "Copying gs://vaa2114_dl_2019/train/level7/non_tumor/level_7_12800_147200_50_tumor_064.tif...\n",
            "Copying gs://vaa2114_dl_2019/train/level7/non_tumor/level_7_12800_19200_50_tumor_084.tif...\n",
            "Copying gs://vaa2114_dl_2019/train/level7/non_tumor/level_7_12800_19200_50_tumor_091.tif...\n",
            "Copying gs://vaa2114_dl_2019/train/level7/non_tumor/level_7_12800_19200_50_tumor_096.tif...\n",
            "Copying gs://vaa2114_dl_2019/train/level7/non_tumor/level_7_12800_25600_50_tumor_084.tif...\n",
            "Copying gs://vaa2114_dl_2019/train/level7/non_tumor/level_7_12800_25600_50_tumor_091.tif...\n",
            "Copying gs://vaa2114_dl_2019/train/level7/non_tumor/level_7_12800_32000_50_tumor_078.tif...\n",
            "Copying gs://vaa2114_dl_2019/train/level7/non_tumor/level_7_12800_32000_50_tumor_084.tif...\n",
            "Copying gs://vaa2114_dl_2019/train/level7/non_tumor/level_7_12800_38400_50_tumor_075.tif...\n",
            "Copying gs://vaa2114_dl_2019/train/level7/non_tumor/level_7_12800_32000_50_tumor_091.tif...\n",
            "Copying gs://vaa2114_dl_2019/train/level7/non_tumor/level_7_12800_38400_50_tumor_078.tif...\n",
            "Copying gs://vaa2114_dl_2019/train/level7/non_tumor/level_7_12800_38400_50_tumor_084.tif...\n",
            "Copying gs://vaa2114_dl_2019/train/level7/non_tumor/level_7_12800_44800_50_tumor_075.tif...\n",
            "Copying gs://vaa2114_dl_2019/train/level7/non_tumor/level_7_12800_44800_50_tumor_084.tif...\n",
            "Copying gs://vaa2114_dl_2019/train/level7/non_tumor/level_7_12800_38400_50_tumor_096.tif...\n",
            "Copying gs://vaa2114_dl_2019/train/level7/non_tumor/level_7_12800_44800_50_tumor_096.tif...\n",
            "Copying gs://vaa2114_dl_2019/train/level7/non_tumor/level_7_12800_51200_50_tumor_096.tif...\n",
            "Copying gs://vaa2114_dl_2019/train/level7/non_tumor/level_7_12800_51200_50_tumor_075.tif...\n",
            "Copying gs://vaa2114_dl_2019/train/level7/non_tumor/level_7_12800_51200_50_tumor_110.tif...\n",
            "Copying gs://vaa2114_dl_2019/train/level7/non_tumor/level_7_12800_57600_50_tumor_075.tif...\n",
            "Copying gs://vaa2114_dl_2019/train/level7/non_tumor/level_7_12800_57600_50_tumor_084.tif...\n",
            "Copying gs://vaa2114_dl_2019/train/level7/non_tumor/level_7_12800_64000_50_tumor_078.tif...\n",
            "Copying gs://vaa2114_dl_2019/train/level7/non_tumor/level_7_12800_64000_50_tumor_084.tif...\n",
            "Copying gs://vaa2114_dl_2019/train/level7/non_tumor/level_7_12800_6400_50_tumor_096.tif...\n",
            "Copying gs://vaa2114_dl_2019/train/level7/non_tumor/level_7_12800_76800_50_tumor_001.tif...\n",
            "Copying gs://vaa2114_dl_2019/train/level7/non_tumor/level_7_12800_83200_50_tumor_001.tif...\n",
            "Copying gs://vaa2114_dl_2019/train/level7/non_tumor/level_7_19200_0_50_tumor_001.tif...\n",
            "Copying gs://vaa2114_dl_2019/train/level7/non_tumor/level_7_12800_89600_50_tumor_001.tif...\n",
            "Copying gs://vaa2114_dl_2019/train/level7/non_tumor/level_7_19200_0_50_tumor_096.tif...\n",
            "Copying gs://vaa2114_dl_2019/train/level7/non_tumor/level_7_19200_102400_50_tumor_002.tif...\n",
            "Copying gs://vaa2114_dl_2019/train/level7/non_tumor/level_7_19200_0_50_tumor_059.tif...\n",
            "Copying gs://vaa2114_dl_2019/train/level7/non_tumor/level_7_19200_108800_50_tumor_002.tif...\n",
            "Copying gs://vaa2114_dl_2019/train/level7/non_tumor/level_7_19200_115200_50_tumor_001.tif...\n",
            "Copying gs://vaa2114_dl_2019/train/level7/non_tumor/level_7_19200_121600_50_tumor_023.tif...\n",
            "Copying gs://vaa2114_dl_2019/train/level7/non_tumor/level_7_19200_128000_50_tumor_023.tif...\n",
            "Copying gs://vaa2114_dl_2019/train/level7/non_tumor/level_7_19200_12800_50_tumor_084.tif...\n",
            "Copying gs://vaa2114_dl_2019/train/level7/non_tumor/level_7_19200_12800_50_tumor_091.tif...\n",
            "Copying gs://vaa2114_dl_2019/train/level7/non_tumor/level_7_19200_12800_50_tumor_096.tif...\n",
            "Copying gs://vaa2114_dl_2019/train/level7/non_tumor/level_7_19200_134400_50_tumor_023.tif...\n",
            "Copying gs://vaa2114_dl_2019/train/level7/non_tumor/level_7_19200_134400_50_tumor_064.tif...\n",
            "Copying gs://vaa2114_dl_2019/train/level7/non_tumor/level_7_19200_140800_50_tumor_023.tif...\n",
            "Copying gs://vaa2114_dl_2019/train/level7/non_tumor/level_7_19200_153600_50_tumor_001.tif...\n",
            "Copying gs://vaa2114_dl_2019/train/level7/non_tumor/level_7_19200_147200_50_tumor_064.tif...\n",
            "Copying gs://vaa2114_dl_2019/train/level7/non_tumor/level_7_19200_153600_50_tumor_064.tif...\n",
            "Copying gs://vaa2114_dl_2019/train/level7/non_tumor/level_7_19200_166400_50_tumor_005.tif...\n",
            "Copying gs://vaa2114_dl_2019/train/level7/non_tumor/level_7_19200_172800_50_tumor_005.tif...\n",
            "Copying gs://vaa2114_dl_2019/train/level7/non_tumor/level_7_19200_19200_50_tumor_078.tif...\n",
            "Copying gs://vaa2114_dl_2019/train/level7/non_tumor/level_7_19200_19200_50_tumor_084.tif...\n",
            "Copying gs://vaa2114_dl_2019/train/level7/non_tumor/level_7_19200_19200_50_tumor_091.tif...\n",
            "Copying gs://vaa2114_dl_2019/train/level7/non_tumor/level_7_19200_19200_50_tumor_096.tif...\n",
            "Copying gs://vaa2114_dl_2019/train/level7/non_tumor/level_7_19200_25600_50_tumor_078.tif...\n",
            "Copying gs://vaa2114_dl_2019/train/level7/non_tumor/level_7_19200_25600_50_tumor_084.tif...\n",
            "Copying gs://vaa2114_dl_2019/train/level7/non_tumor/level_7_19200_25600_50_tumor_091.tif...\n",
            "Copying gs://vaa2114_dl_2019/train/level7/non_tumor/level_7_19200_32000_50_tumor_084.tif...\n",
            "Copying gs://vaa2114_dl_2019/train/level7/non_tumor/level_7_19200_32000_50_tumor_091.tif...\n",
            "Copying gs://vaa2114_dl_2019/train/level7/non_tumor/level_7_19200_38400_50_tumor_084.tif...\n",
            "Copying gs://vaa2114_dl_2019/train/level7/non_tumor/level_7_19200_38400_50_tumor_075.tif...\n",
            "Copying gs://vaa2114_dl_2019/train/level7/non_tumor/level_7_19200_38400_50_tumor_091.tif...\n",
            "Copying gs://vaa2114_dl_2019/train/level7/non_tumor/level_7_19200_38400_50_tumor_096.tif...\n",
            "Copying gs://vaa2114_dl_2019/train/level7/non_tumor/level_7_19200_44800_50_tumor_075.tif...\n",
            "Copying gs://vaa2114_dl_2019/train/level7/non_tumor/level_7_19200_44800_50_tumor_096.tif...\n",
            "Copying gs://vaa2114_dl_2019/train/level7/non_tumor/level_7_19200_51200_50_tumor_075.tif...\n",
            "Copying gs://vaa2114_dl_2019/train/level7/non_tumor/level_7_19200_51200_50_tumor_096.tif...\n",
            "Copying gs://vaa2114_dl_2019/train/level7/non_tumor/level_7_19200_57600_50_tumor_075.tif...\n",
            "Copying gs://vaa2114_dl_2019/train/level7/non_tumor/level_7_19200_64000_50_tumor_078.tif...\n",
            "Copying gs://vaa2114_dl_2019/train/level7/non_tumor/level_7_19200_64000_50_tumor_075.tif...\n",
            "Copying gs://vaa2114_dl_2019/train/level7/non_tumor/level_7_19200_6400_50_tumor_096.tif...\n",
            "Copying gs://vaa2114_dl_2019/train/level7/non_tumor/level_7_19200_70400_50_tumor_001.tif...\n",
            "Copying gs://vaa2114_dl_2019/train/level7/non_tumor/level_7_19200_76800_50_tumor_001.tif...\n",
            "Copying gs://vaa2114_dl_2019/train/level7/non_tumor/level_7_19200_76800_50_tumor_078.tif...\n",
            "Copying gs://vaa2114_dl_2019/train/level7/non_tumor/level_7_19200_83200_50_tumor_001.tif...\n",
            "Copying gs://vaa2114_dl_2019/train/level7/non_tumor/level_7_19200_89600_50_tumor_001.tif...\n",
            "Copying gs://vaa2114_dl_2019/train/level7/non_tumor/level_7_19200_96000_50_tumor_001.tif...\n",
            "Copying gs://vaa2114_dl_2019/train/level7/non_tumor/level_7_19200_96000_50_tumor_002.tif...\n",
            "Copying gs://vaa2114_dl_2019/train/level7/non_tumor/level_7_25600_0_50_tumor_001.tif...\n",
            "Copying gs://vaa2114_dl_2019/train/level7/non_tumor/level_7_25600_0_50_tumor_059.tif...\n",
            "Copying gs://vaa2114_dl_2019/train/level7/non_tumor/level_7_25600_102400_50_tumor_002.tif...\n",
            "Copying gs://vaa2114_dl_2019/train/level7/non_tumor/level_7_25600_108800_50_tumor_001.tif...\n",
            "Copying gs://vaa2114_dl_2019/train/level7/non_tumor/level_7_25600_108800_50_tumor_002.tif...\n",
            "Copying gs://vaa2114_dl_2019/train/level7/non_tumor/level_7_25600_115200_50_tumor_001.tif...\n",
            "Copying gs://vaa2114_dl_2019/train/level7/non_tumor/level_7_25600_121600_50_tumor_023.tif...\n",
            "Copying gs://vaa2114_dl_2019/train/level7/non_tumor/level_7_25600_128000_50_tumor_023.tif...\n",
            "Copying gs://vaa2114_dl_2019/train/level7/non_tumor/level_7_25600_12800_50_tumor_078.tif...\n",
            "Copying gs://vaa2114_dl_2019/train/level7/non_tumor/level_7_25600_12800_50_tumor_091.tif...\n",
            "Copying gs://vaa2114_dl_2019/train/level7/non_tumor/level_7_25600_12800_50_tumor_084.tif...\n",
            "Copying gs://vaa2114_dl_2019/train/level7/non_tumor/level_7_25600_134400_50_tumor_023.tif...\n",
            "Copying gs://vaa2114_dl_2019/train/level7/non_tumor/level_7_25600_12800_50_tumor_096.tif...\n",
            "Copying gs://vaa2114_dl_2019/train/level7/non_tumor/level_7_25600_134400_50_tumor_064.tif...\n",
            "Copying gs://vaa2114_dl_2019/train/level7/non_tumor/level_7_25600_140800_50_tumor_023.tif...\n",
            "Copying gs://vaa2114_dl_2019/train/level7/non_tumor/level_7_25600_160000_50_tumor_005.tif...\n",
            "Copying gs://vaa2114_dl_2019/train/level7/non_tumor/level_7_25600_166400_50_tumor_005.tif...\n",
            "Copying gs://vaa2114_dl_2019/train/level7/non_tumor/level_7_25600_172800_50_tumor_005.tif...\n",
            "Copying gs://vaa2114_dl_2019/train/level7/non_tumor/level_7_25600_19200_50_tumor_091.tif...\n",
            "Copying gs://vaa2114_dl_2019/train/level7/non_tumor/level_7_25600_25600_50_tumor_078.tif...\n",
            "Copying gs://vaa2114_dl_2019/train/level7/non_tumor/level_7_25600_19200_50_tumor_078.tif...\n",
            "Copying gs://vaa2114_dl_2019/train/level7/non_tumor/level_7_25600_25600_50_tumor_084.tif...\n",
            "Copying gs://vaa2114_dl_2019/train/level7/non_tumor/level_7_25600_32000_50_tumor_091.tif...\n",
            "Copying gs://vaa2114_dl_2019/train/level7/non_tumor/level_7_25600_25600_50_tumor_091.tif...\n",
            "Copying gs://vaa2114_dl_2019/train/level7/non_tumor/level_7_25600_32000_50_tumor_110.tif...\n",
            "Copying gs://vaa2114_dl_2019/train/level7/non_tumor/level_7_25600_44800_50_tumor_084.tif...\n",
            "Copying gs://vaa2114_dl_2019/train/level7/non_tumor/level_7_25600_38400_50_tumor_084.tif...\n",
            "Copying gs://vaa2114_dl_2019/train/level7/non_tumor/level_7_25600_38400_50_tumor_091.tif...\n",
            "Copying gs://vaa2114_dl_2019/train/level7/non_tumor/level_7_25600_51200_50_tumor_084.tif...\n",
            "Copying gs://vaa2114_dl_2019/train/level7/non_tumor/level_7_25600_57600_50_tumor_075.tif...\n",
            "Copying gs://vaa2114_dl_2019/train/level7/non_tumor/level_7_25600_57600_50_tumor_084.tif...\n",
            "Copying gs://vaa2114_dl_2019/train/level7/non_tumor/level_7_25600_64000_50_tumor_001.tif...\n",
            "Copying gs://vaa2114_dl_2019/train/level7/non_tumor/level_7_25600_64000_50_tumor_084.tif...\n",
            "Copying gs://vaa2114_dl_2019/train/level7/non_tumor/level_7_25600_6400_50_tumor_084.tif...\n",
            "Copying gs://vaa2114_dl_2019/train/level7/non_tumor/level_7_25600_6400_50_tumor_091.tif...\n",
            "Copying gs://vaa2114_dl_2019/train/level7/non_tumor/level_7_25600_6400_50_tumor_096.tif...\n",
            "Copying gs://vaa2114_dl_2019/train/level7/non_tumor/level_7_25600_70400_50_tumor_001.tif...\n",
            "Copying gs://vaa2114_dl_2019/train/level7/non_tumor/level_7_25600_70400_50_tumor_084.tif...\n",
            "Copying gs://vaa2114_dl_2019/train/level7/non_tumor/level_7_25600_76800_50_tumor_001.tif...\n",
            "Copying gs://vaa2114_dl_2019/train/level7/non_tumor/level_7_25600_83200_50_tumor_001.tif...\n",
            "Copying gs://vaa2114_dl_2019/train/level7/non_tumor/level_7_25600_89600_50_tumor_001.tif...\n",
            "Copying gs://vaa2114_dl_2019/train/level7/non_tumor/level_7_25600_89600_50_tumor_002.tif...\n",
            "Copying gs://vaa2114_dl_2019/train/level7/non_tumor/level_7_25600_89600_50_tumor_078.tif...\n",
            "Copying gs://vaa2114_dl_2019/train/level7/non_tumor/level_7_25600_96000_50_tumor_002.tif...\n",
            "Copying gs://vaa2114_dl_2019/train/level7/non_tumor/level_7_32000_0_50_tumor_001.tif...\n",
            "Copying gs://vaa2114_dl_2019/train/level7/non_tumor/level_7_32000_102400_50_tumor_002.tif...\n",
            "Copying gs://vaa2114_dl_2019/train/level7/non_tumor/level_7_32000_108800_50_tumor_002.tif...\n",
            "Copying gs://vaa2114_dl_2019/train/level7/non_tumor/level_7_32000_0_50_tumor_059.tif...\n",
            "Copying gs://vaa2114_dl_2019/train/level7/non_tumor/level_7_32000_115200_50_tumor_002.tif...\n",
            "Copying gs://vaa2114_dl_2019/train/level7/non_tumor/level_7_32000_115200_50_tumor_023.tif...\n",
            "Copying gs://vaa2114_dl_2019/train/level7/non_tumor/level_7_32000_121600_50_tumor_023.tif...\n",
            "Copying gs://vaa2114_dl_2019/train/level7/non_tumor/level_7_32000_121600_50_tumor_059.tif...\n",
            "Copying gs://vaa2114_dl_2019/train/level7/non_tumor/level_7_32000_128000_50_tumor_005.tif...\n",
            "Copying gs://vaa2114_dl_2019/train/level7/non_tumor/level_7_32000_128000_50_tumor_023.tif...\n",
            "Copying gs://vaa2114_dl_2019/train/level7/non_tumor/level_7_32000_128000_50_tumor_059.tif...\n",
            "Copying gs://vaa2114_dl_2019/train/level7/non_tumor/level_7_32000_12800_50_tumor_078.tif...\n",
            "Copying gs://vaa2114_dl_2019/train/level7/non_tumor/level_7_32000_12800_50_tumor_084.tif...\n",
            "Copying gs://vaa2114_dl_2019/train/level7/non_tumor/level_7_32000_12800_50_tumor_091.tif...\n",
            "Copying gs://vaa2114_dl_2019/train/level7/non_tumor/level_7_32000_134400_50_tumor_005.tif...\n",
            "Copying gs://vaa2114_dl_2019/train/level7/non_tumor/level_7_32000_134400_50_tumor_023.tif...\n",
            "Copying gs://vaa2114_dl_2019/train/level7/non_tumor/level_7_32000_134400_50_tumor_059.tif...\n",
            "Copying gs://vaa2114_dl_2019/train/level7/non_tumor/level_7_32000_140800_50_tumor_005.tif...\n",
            "Copying gs://vaa2114_dl_2019/train/level7/non_tumor/level_7_32000_140800_50_tumor_002.tif...\n",
            "Copying gs://vaa2114_dl_2019/train/level7/non_tumor/level_7_32000_140800_50_tumor_023.tif...\n",
            "Copying gs://vaa2114_dl_2019/train/level7/non_tumor/level_7_32000_147200_50_tumor_005.tif...\n",
            "Copying gs://vaa2114_dl_2019/train/level7/non_tumor/level_7_32000_160000_50_tumor_005.tif...\n",
            "Copying gs://vaa2114_dl_2019/train/level7/non_tumor/level_7_32000_166400_50_tumor_005.tif...\n",
            "Copying gs://vaa2114_dl_2019/train/level7/non_tumor/level_7_32000_172800_50_tumor_005.tif...\n",
            "Copying gs://vaa2114_dl_2019/train/level7/non_tumor/level_7_32000_19200_50_tumor_078.tif...\n",
            "Copying gs://vaa2114_dl_2019/train/level7/non_tumor/level_7_32000_19200_50_tumor_084.tif...\n",
            "Copying gs://vaa2114_dl_2019/train/level7/non_tumor/level_7_32000_19200_50_tumor_091.tif...\n",
            "Copying gs://vaa2114_dl_2019/train/level7/non_tumor/level_7_32000_19200_50_tumor_096.tif...\n",
            "Copying gs://vaa2114_dl_2019/train/level7/non_tumor/level_7_32000_25600_50_tumor_078.tif...\n",
            "Copying gs://vaa2114_dl_2019/train/level7/non_tumor/level_7_32000_25600_50_tumor_084.tif...\n",
            "Copying gs://vaa2114_dl_2019/train/level7/non_tumor/level_7_32000_25600_50_tumor_096.tif...\n",
            "Copying gs://vaa2114_dl_2019/train/level7/non_tumor/level_7_32000_32000_50_tumor_084.tif...\n",
            "Copying gs://vaa2114_dl_2019/train/level7/non_tumor/level_7_32000_32000_50_tumor_096.tif...\n",
            "Copying gs://vaa2114_dl_2019/train/level7/non_tumor/level_7_32000_32000_50_tumor_110.tif...\n",
            "Copying gs://vaa2114_dl_2019/train/level7/non_tumor/level_7_32000_38400_50_tumor_084.tif...\n",
            "Copying gs://vaa2114_dl_2019/train/level7/non_tumor/level_7_32000_38400_50_tumor_110.tif...\n",
            "Copying gs://vaa2114_dl_2019/train/level7/non_tumor/level_7_32000_38400_50_tumor_096.tif...\n",
            "Copying gs://vaa2114_dl_2019/train/level7/non_tumor/level_7_32000_38400_50_tumor_091.tif...\n",
            "Copying gs://vaa2114_dl_2019/train/level7/non_tumor/level_7_32000_44800_50_tumor_084.tif...\n",
            "Copying gs://vaa2114_dl_2019/train/level7/non_tumor/level_7_32000_51200_50_tumor_084.tif...\n",
            "Copying gs://vaa2114_dl_2019/train/level7/non_tumor/level_7_32000_57600_50_tumor_001.tif...\n",
            "Copying gs://vaa2114_dl_2019/train/level7/non_tumor/level_7_32000_57600_50_tumor_084.tif...\n",
            "Copying gs://vaa2114_dl_2019/train/level7/non_tumor/level_7_32000_44800_50_tumor_096.tif...\n",
            "Copying gs://vaa2114_dl_2019/train/level7/non_tumor/level_7_32000_64000_50_tumor_001.tif...\n",
            "Copying gs://vaa2114_dl_2019/train/level7/non_tumor/level_7_32000_64000_50_tumor_084.tif...\n",
            "Copying gs://vaa2114_dl_2019/train/level7/non_tumor/level_7_32000_6400_50_tumor_078.tif...\n",
            "Copying gs://vaa2114_dl_2019/train/level7/non_tumor/level_7_32000_6400_50_tumor_084.tif...\n",
            "Copying gs://vaa2114_dl_2019/train/level7/non_tumor/level_7_32000_70400_50_tumor_084.tif...\n",
            "Copying gs://vaa2114_dl_2019/train/level7/non_tumor/level_7_32000_70400_50_tumor_001.tif...\n",
            "Copying gs://vaa2114_dl_2019/train/level7/non_tumor/level_7_32000_6400_50_tumor_091.tif...\n",
            "Copying gs://vaa2114_dl_2019/train/level7/non_tumor/level_7_32000_83200_50_tumor_001.tif...\n",
            "Copying gs://vaa2114_dl_2019/train/level7/non_tumor/level_7_32000_76800_50_tumor_001.tif...\n",
            "Copying gs://vaa2114_dl_2019/train/level7/non_tumor/level_7_32000_89600_50_tumor_001.tif...\n",
            "Copying gs://vaa2114_dl_2019/train/level7/non_tumor/level_7_32000_89600_50_tumor_002.tif...\n",
            "Copying gs://vaa2114_dl_2019/train/level7/non_tumor/level_7_32000_96000_50_tumor_002.tif...\n",
            "Copying gs://vaa2114_dl_2019/train/level7/non_tumor/level_7_32000_96000_50_tumor_001.tif...\n",
            "Copying gs://vaa2114_dl_2019/train/level7/non_tumor/level_7_38400_0_50_tumor_059.tif...\n",
            "Copying gs://vaa2114_dl_2019/train/level7/non_tumor/level_7_38400_0_50_tumor_078.tif...\n",
            "Copying gs://vaa2114_dl_2019/train/level7/non_tumor/level_7_38400_102400_50_tumor_002.tif...\n",
            "Copying gs://vaa2114_dl_2019/train/level7/non_tumor/level_7_38400_0_50_tumor_001.tif...\n",
            "Copying gs://vaa2114_dl_2019/train/level7/non_tumor/level_7_38400_108800_50_tumor_001.tif...\n",
            "Copying gs://vaa2114_dl_2019/train/level7/non_tumor/level_7_38400_102400_50_tumor_059.tif...\n",
            "Copying gs://vaa2114_dl_2019/train/level7/non_tumor/level_7_38400_108800_50_tumor_002.tif...\n",
            "Copying gs://vaa2114_dl_2019/train/level7/non_tumor/level_7_38400_115200_50_tumor_001.tif...\n",
            "Copying gs://vaa2114_dl_2019/train/level7/non_tumor/level_7_38400_115200_50_tumor_002.tif...\n",
            "Copying gs://vaa2114_dl_2019/train/level7/non_tumor/level_7_38400_115200_50_tumor_012.tif...\n",
            "Copying gs://vaa2114_dl_2019/train/level7/non_tumor/level_7_38400_115200_50_tumor_059.tif...\n",
            "Copying gs://vaa2114_dl_2019/train/level7/non_tumor/level_7_38400_121600_50_tumor_012.tif...\n",
            "Copying gs://vaa2114_dl_2019/train/level7/non_tumor/level_7_38400_121600_50_tumor_023.tif...\n",
            "Copying gs://vaa2114_dl_2019/train/level7/non_tumor/level_7_38400_121600_50_tumor_059.tif...\n",
            "Copying gs://vaa2114_dl_2019/train/level7/non_tumor/level_7_38400_128000_50_tumor_012.tif...\n",
            "Copying gs://vaa2114_dl_2019/train/level7/non_tumor/level_7_38400_128000_50_tumor_023.tif...\n",
            "Copying gs://vaa2114_dl_2019/train/level7/non_tumor/level_7_38400_128000_50_tumor_059.tif...\n",
            "Copying gs://vaa2114_dl_2019/train/level7/non_tumor/level_7_38400_12800_50_tumor_084.tif...\n",
            "Copying gs://vaa2114_dl_2019/train/level7/non_tumor/level_7_38400_12800_50_tumor_091.tif...\n",
            "Copying gs://vaa2114_dl_2019/train/level7/non_tumor/level_7_38400_134400_50_tumor_002.tif...\n",
            "Copying gs://vaa2114_dl_2019/train/level7/non_tumor/level_7_38400_134400_50_tumor_023.tif...\n",
            "Copying gs://vaa2114_dl_2019/train/level7/non_tumor/level_7_38400_134400_50_tumor_059.tif...\n",
            "Copying gs://vaa2114_dl_2019/train/level7/non_tumor/level_7_38400_140800_50_tumor_002.tif...\n",
            "Copying gs://vaa2114_dl_2019/train/level7/non_tumor/level_7_38400_140800_50_tumor_005.tif...\n",
            "Copying gs://vaa2114_dl_2019/train/level7/non_tumor/level_7_38400_140800_50_tumor_023.tif...\n",
            "Copying gs://vaa2114_dl_2019/train/level7/non_tumor/level_7_38400_147200_50_tumor_005.tif...\n",
            "Copying gs://vaa2114_dl_2019/train/level7/non_tumor/level_7_38400_147200_50_tumor_023.tif...\n",
            "Copying gs://vaa2114_dl_2019/train/level7/non_tumor/level_7_38400_153600_50_tumor_005.tif...\n",
            "Copying gs://vaa2114_dl_2019/train/level7/non_tumor/level_7_38400_166400_50_tumor_005.tif...\n",
            "Copying gs://vaa2114_dl_2019/train/level7/non_tumor/level_7_38400_160000_50_tumor_005.tif...\n",
            "Copying gs://vaa2114_dl_2019/train/level7/non_tumor/level_7_38400_172800_50_tumor_005.tif...\n",
            "Copying gs://vaa2114_dl_2019/train/level7/non_tumor/level_7_38400_19200_50_tumor_084.tif...\n",
            "Copying gs://vaa2114_dl_2019/train/level7/non_tumor/level_7_38400_19200_50_tumor_091.tif...\n",
            "Copying gs://vaa2114_dl_2019/train/level7/non_tumor/level_7_38400_19200_50_tumor_096.tif...\n",
            "Copying gs://vaa2114_dl_2019/train/level7/non_tumor/level_7_38400_25600_50_tumor_084.tif...\n",
            "Copying gs://vaa2114_dl_2019/train/level7/non_tumor/level_7_38400_25600_50_tumor_091.tif...\n",
            "Copying gs://vaa2114_dl_2019/train/level7/non_tumor/level_7_38400_25600_50_tumor_096.tif...\n",
            "Copying gs://vaa2114_dl_2019/train/level7/non_tumor/level_7_38400_32000_50_tumor_096.tif...\n",
            "Copying gs://vaa2114_dl_2019/train/level7/non_tumor/level_7_38400_32000_50_tumor_110.tif...\n",
            "Copying gs://vaa2114_dl_2019/train/level7/non_tumor/level_7_38400_38400_50_tumor_078.tif...\n",
            "Copying gs://vaa2114_dl_2019/train/level7/non_tumor/level_7_38400_38400_50_tumor_084.tif...\n",
            "Copying gs://vaa2114_dl_2019/train/level7/non_tumor/level_7_38400_38400_50_tumor_096.tif...\n",
            "Copying gs://vaa2114_dl_2019/train/level7/non_tumor/level_7_38400_38400_50_tumor_110.tif...\n",
            "Copying gs://vaa2114_dl_2019/train/level7/non_tumor/level_7_38400_44800_50_tumor_096.tif...\n",
            "Copying gs://vaa2114_dl_2019/train/level7/non_tumor/level_7_38400_44800_50_tumor_084.tif...\n",
            "Copying gs://vaa2114_dl_2019/train/level7/non_tumor/level_7_38400_57600_50_tumor_012.tif...\n",
            "Copying gs://vaa2114_dl_2019/train/level7/non_tumor/level_7_38400_51200_50_tumor_084.tif...\n",
            "Copying gs://vaa2114_dl_2019/train/level7/non_tumor/level_7_38400_64000_50_tumor_001.tif...\n",
            "Copying gs://vaa2114_dl_2019/train/level7/non_tumor/level_7_38400_64000_50_tumor_012.tif...\n",
            "Copying gs://vaa2114_dl_2019/train/level7/non_tumor/level_7_38400_6400_50_tumor_084.tif...\n",
            "Copying gs://vaa2114_dl_2019/train/level7/non_tumor/level_7_38400_6400_50_tumor_091.tif...\n",
            "Copying gs://vaa2114_dl_2019/train/level7/non_tumor/level_7_38400_70400_50_tumor_001.tif...\n",
            "Copying gs://vaa2114_dl_2019/train/level7/non_tumor/level_7_38400_70400_50_tumor_012.tif...\n",
            "Copying gs://vaa2114_dl_2019/train/level7/non_tumor/level_7_38400_76800_50_tumor_001.tif...\n",
            "Copying gs://vaa2114_dl_2019/train/level7/non_tumor/level_7_38400_89600_50_tumor_002.tif...\n",
            "Copying gs://vaa2114_dl_2019/train/level7/non_tumor/level_7_38400_96000_50_tumor_002.tif...\n",
            "Copying gs://vaa2114_dl_2019/train/level7/non_tumor/level_7_44800_0_50_tumor_001.tif...\n",
            "Copying gs://vaa2114_dl_2019/train/level7/non_tumor/level_7_44800_0_50_tumor_059.tif...\n",
            "Copying gs://vaa2114_dl_2019/train/level7/non_tumor/level_7_44800_115200_50_tumor_001.tif...\n",
            "Copying gs://vaa2114_dl_2019/train/level7/non_tumor/level_7_44800_115200_50_tumor_012.tif...\n",
            "Copying gs://vaa2114_dl_2019/train/level7/non_tumor/level_7_44800_108800_50_tumor_012.tif...\n",
            "Copying gs://vaa2114_dl_2019/train/level7/non_tumor/level_7_44800_115200_50_tumor_059.tif...\n",
            "Copying gs://vaa2114_dl_2019/train/level7/non_tumor/level_7_44800_121600_50_tumor_012.tif...\n",
            "Copying gs://vaa2114_dl_2019/train/level7/non_tumor/level_7_44800_121600_50_tumor_023.tif...\n",
            "Copying gs://vaa2114_dl_2019/train/level7/non_tumor/level_7_44800_121600_50_tumor_059.tif...\n",
            "Copying gs://vaa2114_dl_2019/train/level7/non_tumor/level_7_44800_128000_50_tumor_001.tif...\n",
            "Copying gs://vaa2114_dl_2019/train/level7/non_tumor/level_7_44800_128000_50_tumor_012.tif...\n",
            "Copying gs://vaa2114_dl_2019/train/level7/non_tumor/level_7_44800_128000_50_tumor_023.tif...\n",
            "Copying gs://vaa2114_dl_2019/train/level7/non_tumor/level_7_44800_128000_50_tumor_059.tif...\n",
            "Copying gs://vaa2114_dl_2019/train/level7/non_tumor/level_7_44800_12800_50_tumor_091.tif...\n",
            "Copying gs://vaa2114_dl_2019/train/level7/non_tumor/level_7_44800_134400_50_tumor_059.tif...\n",
            "Copying gs://vaa2114_dl_2019/train/level7/non_tumor/level_7_44800_140800_50_tumor_002.tif...\n",
            "Copying gs://vaa2114_dl_2019/train/level7/non_tumor/level_7_44800_140800_50_tumor_005.tif...\n",
            "Copying gs://vaa2114_dl_2019/train/level7/non_tumor/level_7_44800_147200_50_tumor_002.tif...\n",
            "Copying gs://vaa2114_dl_2019/train/level7/non_tumor/level_7_44800_147200_50_tumor_005.tif...\n",
            "Copying gs://vaa2114_dl_2019/train/level7/non_tumor/level_7_44800_147200_50_tumor_059.tif...\n",
            "Copying gs://vaa2114_dl_2019/train/level7/non_tumor/level_7_44800_153600_50_tumor_005.tif...\n",
            "Copying gs://vaa2114_dl_2019/train/level7/non_tumor/level_7_44800_153600_50_tumor_059.tif...\n",
            "Copying gs://vaa2114_dl_2019/train/level7/non_tumor/level_7_44800_166400_50_tumor_005.tif...\n",
            "Copying gs://vaa2114_dl_2019/train/level7/non_tumor/level_7_44800_160000_50_tumor_059.tif...\n",
            "Copying gs://vaa2114_dl_2019/train/level7/non_tumor/level_7_44800_172800_50_tumor_005.tif...\n",
            "Copying gs://vaa2114_dl_2019/train/level7/non_tumor/level_7_44800_19200_50_tumor_084.tif...\n",
            "Copying gs://vaa2114_dl_2019/train/level7/non_tumor/level_7_44800_19200_50_tumor_096.tif...\n",
            "Copying gs://vaa2114_dl_2019/train/level7/non_tumor/level_7_44800_25600_50_tumor_084.tif...\n",
            "Copying gs://vaa2114_dl_2019/train/level7/non_tumor/level_7_44800_25600_50_tumor_096.tif...\n",
            "Copying gs://vaa2114_dl_2019/train/level7/non_tumor/level_7_44800_25600_50_tumor_110.tif...\n",
            "Copying gs://vaa2114_dl_2019/train/level7/non_tumor/level_7_44800_32000_50_tumor_084.tif...\n",
            "Copying gs://vaa2114_dl_2019/train/level7/non_tumor/level_7_44800_32000_50_tumor_096.tif...\n",
            "Copying gs://vaa2114_dl_2019/train/level7/non_tumor/level_7_44800_32000_50_tumor_110.tif...\n",
            "Copying gs://vaa2114_dl_2019/train/level7/non_tumor/level_7_44800_38400_50_tumor_096.tif...\n",
            "Copying gs://vaa2114_dl_2019/train/level7/non_tumor/level_7_44800_38400_50_tumor_110.tif...\n",
            "Copying gs://vaa2114_dl_2019/train/level7/non_tumor/level_7_44800_44800_50_tumor_084.tif...\n",
            "Copying gs://vaa2114_dl_2019/train/level7/non_tumor/level_7_44800_51200_50_tumor_012.tif...\n",
            "Copying gs://vaa2114_dl_2019/train/level7/non_tumor/level_7_44800_51200_50_tumor_084.tif...\n",
            "Copying gs://vaa2114_dl_2019/train/level7/non_tumor/level_7_44800_57600_50_tumor_012.tif...\n",
            "Copying gs://vaa2114_dl_2019/train/level7/non_tumor/level_7_44800_57600_50_tumor_078.tif...\n",
            "Copying gs://vaa2114_dl_2019/train/level7/non_tumor/level_7_44800_64000_50_tumor_012.tif...\n",
            "Copying gs://vaa2114_dl_2019/train/level7/non_tumor/level_7_44800_64000_50_tumor_078.tif...\n",
            "Copying gs://vaa2114_dl_2019/train/level7/non_tumor/level_7_44800_70400_50_tumor_001.tif...\n",
            "Copying gs://vaa2114_dl_2019/train/level7/non_tumor/level_7_44800_76800_50_tumor_001.tif...\n",
            "Copying gs://vaa2114_dl_2019/train/level7/non_tumor/level_7_44800_83200_50_tumor_001.tif...\n",
            "Copying gs://vaa2114_dl_2019/train/level7/non_tumor/level_7_44800_89600_50_tumor_001.tif...\n",
            "Copying gs://vaa2114_dl_2019/train/level7/non_tumor/level_7_44800_89600_50_tumor_012.tif...\n",
            "Copying gs://vaa2114_dl_2019/train/level7/non_tumor/level_7_44800_96000_50_tumor_002.tif...\n",
            "Copying gs://vaa2114_dl_2019/train/level7/non_tumor/level_7_44800_96000_50_tumor_012.tif...\n",
            "Copying gs://vaa2114_dl_2019/train/level7/non_tumor/level_7_51200_0_50_tumor_059.tif...\n",
            "Copying gs://vaa2114_dl_2019/train/level7/non_tumor/level_7_51200_102400_50_tumor_012.tif...\n",
            "Copying gs://vaa2114_dl_2019/train/level7/non_tumor/level_7_51200_108800_50_tumor_012.tif...\n",
            "Copying gs://vaa2114_dl_2019/train/level7/non_tumor/level_7_51200_115200_50_tumor_012.tif...\n",
            "Copying gs://vaa2114_dl_2019/train/level7/non_tumor/level_7_51200_115200_50_tumor_001.tif...\n",
            "Copying gs://vaa2114_dl_2019/train/level7/non_tumor/level_7_51200_121600_50_tumor_001.tif...\n",
            "Copying gs://vaa2114_dl_2019/train/level7/non_tumor/level_7_51200_121600_50_tumor_012.tif...\n",
            "Copying gs://vaa2114_dl_2019/train/level7/non_tumor/level_7_51200_121600_50_tumor_059.tif...\n",
            "Copying gs://vaa2114_dl_2019/train/level7/non_tumor/level_7_51200_128000_50_tumor_001.tif...\n",
            "Copying gs://vaa2114_dl_2019/train/level7/non_tumor/level_7_51200_128000_50_tumor_005.tif...\n",
            "Copying gs://vaa2114_dl_2019/train/level7/non_tumor/level_7_51200_128000_50_tumor_012.tif...\n",
            "Copying gs://vaa2114_dl_2019/train/level7/non_tumor/level_7_51200_128000_50_tumor_023.tif...\n",
            "Copying gs://vaa2114_dl_2019/train/level7/non_tumor/level_7_51200_128000_50_tumor_059.tif...\n",
            "Copying gs://vaa2114_dl_2019/train/level7/non_tumor/level_7_51200_134400_50_tumor_001.tif...\n",
            "Copying gs://vaa2114_dl_2019/train/level7/non_tumor/level_7_51200_12800_50_tumor_084.tif...\n",
            "Copying gs://vaa2114_dl_2019/train/level7/non_tumor/level_7_51200_134400_50_tumor_005.tif...\n",
            "Copying gs://vaa2114_dl_2019/train/level7/non_tumor/level_7_51200_140800_50_tumor_005.tif...\n",
            "Copying gs://vaa2114_dl_2019/train/level7/non_tumor/level_7_51200_140800_50_tumor_064.tif...\n",
            "Copying gs://vaa2114_dl_2019/train/level7/non_tumor/level_7_51200_147200_50_tumor_002.tif...\n",
            "Copying gs://vaa2114_dl_2019/train/level7/non_tumor/level_7_51200_147200_50_tumor_005.tif...\n",
            "Copying gs://vaa2114_dl_2019/train/level7/non_tumor/level_7_51200_147200_50_tumor_059.tif...\n",
            "Copying gs://vaa2114_dl_2019/train/level7/non_tumor/level_7_51200_147200_50_tumor_064.tif...\n",
            "Copying gs://vaa2114_dl_2019/train/level7/non_tumor/level_7_51200_153600_50_tumor_005.tif...\n",
            "Copying gs://vaa2114_dl_2019/train/level7/non_tumor/level_7_51200_153600_50_tumor_059.tif...\n",
            "Copying gs://vaa2114_dl_2019/train/level7/non_tumor/level_7_51200_160000_50_tumor_059.tif...\n",
            "Copying gs://vaa2114_dl_2019/train/level7/non_tumor/level_7_51200_19200_50_tumor_084.tif...\n",
            "Copying gs://vaa2114_dl_2019/train/level7/non_tumor/level_7_51200_19200_50_tumor_075.tif...\n",
            "Copying gs://vaa2114_dl_2019/train/level7/non_tumor/level_7_51200_19200_50_tumor_096.tif...\n",
            "Copying gs://vaa2114_dl_2019/train/level7/non_tumor/level_7_51200_25600_50_tumor_075.tif...\n",
            "Copying gs://vaa2114_dl_2019/train/level7/non_tumor/level_7_51200_25600_50_tumor_084.tif...\n",
            "Copying gs://vaa2114_dl_2019/train/level7/non_tumor/level_7_51200_25600_50_tumor_096.tif...\n",
            "Copying gs://vaa2114_dl_2019/train/level7/non_tumor/level_7_51200_32000_50_tumor_075.tif...\n",
            "Copying gs://vaa2114_dl_2019/train/level7/non_tumor/level_7_51200_32000_50_tumor_096.tif...\n",
            "Copying gs://vaa2114_dl_2019/train/level7/non_tumor/level_7_51200_44800_50_tumor_091.tif...\n",
            "Copying gs://vaa2114_dl_2019/train/level7/non_tumor/level_7_51200_57600_50_tumor_012.tif...\n",
            "Copying gs://vaa2114_dl_2019/train/level7/non_tumor/level_7_51200_51200_50_tumor_012.tif...\n",
            "Copying gs://vaa2114_dl_2019/train/level7/non_tumor/level_7_51200_57600_50_tumor_078.tif...\n",
            "Copying gs://vaa2114_dl_2019/train/level7/non_tumor/level_7_51200_64000_50_tumor_012.tif...\n",
            "Copying gs://vaa2114_dl_2019/train/level7/non_tumor/level_7_51200_64000_50_tumor_078.tif...\n",
            "Copying gs://vaa2114_dl_2019/train/level7/non_tumor/level_7_51200_70400_50_tumor_012.tif...\n",
            "Copying gs://vaa2114_dl_2019/train/level7/non_tumor/level_7_51200_70400_50_tumor_078.tif...\n",
            "Copying gs://vaa2114_dl_2019/train/level7/non_tumor/level_7_51200_76800_50_tumor_001.tif...\n",
            "Copying gs://vaa2114_dl_2019/train/level7/non_tumor/level_7_51200_83200_50_tumor_001.tif...\n",
            "Copying gs://vaa2114_dl_2019/train/level7/non_tumor/level_7_51200_89600_50_tumor_012.tif...\n",
            "Copying gs://vaa2114_dl_2019/train/level7/non_tumor/level_7_51200_96000_50_tumor_012.tif...\n",
            "Copying gs://vaa2114_dl_2019/train/level7/non_tumor/level_7_51200_89600_50_tumor_019.tif...\n",
            "Copying gs://vaa2114_dl_2019/train/level7/non_tumor/level_7_57600_0_50_tumor_001.tif...\n",
            "Copying gs://vaa2114_dl_2019/train/level7/non_tumor/level_7_57600_0_50_tumor_059.tif...\n",
            "Copying gs://vaa2114_dl_2019/train/level7/non_tumor/level_7_57600_102400_50_tumor_031.tif...\n",
            "Copying gs://vaa2114_dl_2019/train/level7/non_tumor/level_7_57600_108800_50_tumor_012.tif...\n",
            "Copying gs://vaa2114_dl_2019/train/level7/non_tumor/level_7_57600_108800_50_tumor_031.tif...\n",
            "Copying gs://vaa2114_dl_2019/train/level7/non_tumor/level_7_57600_115200_50_tumor_001.tif...\n",
            "Copying gs://vaa2114_dl_2019/train/level7/non_tumor/level_7_57600_115200_50_tumor_002.tif...\n",
            "Copying gs://vaa2114_dl_2019/train/level7/non_tumor/level_7_57600_115200_50_tumor_012.tif...\n",
            "Copying gs://vaa2114_dl_2019/train/level7/non_tumor/level_7_57600_121600_50_tumor_001.tif...\n",
            "Copying gs://vaa2114_dl_2019/train/level7/non_tumor/level_7_57600_121600_50_tumor_002.tif...\n",
            "Copying gs://vaa2114_dl_2019/train/level7/non_tumor/level_7_57600_121600_50_tumor_012.tif...\n",
            "Copying gs://vaa2114_dl_2019/train/level7/non_tumor/level_7_57600_121600_50_tumor_059.tif...\n",
            "Copying gs://vaa2114_dl_2019/train/level7/non_tumor/level_7_57600_128000_50_tumor_001.tif...\n",
            "Copying gs://vaa2114_dl_2019/train/level7/non_tumor/level_7_57600_128000_50_tumor_012.tif...\n",
            "Copying gs://vaa2114_dl_2019/train/level7/non_tumor/level_7_57600_134400_50_tumor_059.tif...\n",
            "Copying gs://vaa2114_dl_2019/train/level7/non_tumor/level_7_57600_140800_50_tumor_005.tif...\n",
            "Copying gs://vaa2114_dl_2019/train/level7/non_tumor/level_7_57600_140800_50_tumor_019.tif...\n",
            "Copying gs://vaa2114_dl_2019/train/level7/non_tumor/level_7_57600_140800_50_tumor_031.tif...\n",
            "Copying gs://vaa2114_dl_2019/train/level7/non_tumor/level_7_57600_140800_50_tumor_064.tif...\n",
            "Copying gs://vaa2114_dl_2019/train/level7/non_tumor/level_7_57600_147200_50_tumor_019.tif...\n",
            "Copying gs://vaa2114_dl_2019/train/level7/non_tumor/level_7_57600_147200_50_tumor_023.tif...\n",
            "Copying gs://vaa2114_dl_2019/train/level7/non_tumor/level_7_57600_147200_50_tumor_031.tif...\n",
            "Copying gs://vaa2114_dl_2019/train/level7/non_tumor/level_7_57600_147200_50_tumor_059.tif...\n",
            "Copying gs://vaa2114_dl_2019/train/level7/non_tumor/level_7_57600_147200_50_tumor_064.tif...\n",
            "Copying gs://vaa2114_dl_2019/train/level7/non_tumor/level_7_57600_153600_50_tumor_019.tif...\n",
            "Copying gs://vaa2114_dl_2019/train/level7/non_tumor/level_7_57600_153600_50_tumor_059.tif...\n",
            "Copying gs://vaa2114_dl_2019/train/level7/non_tumor/level_7_57600_153600_50_tumor_031.tif...\n",
            "Copying gs://vaa2114_dl_2019/train/level7/non_tumor/level_7_57600_160000_50_tumor_023.tif...\n",
            "Copying gs://vaa2114_dl_2019/train/level7/non_tumor/level_7_57600_19200_50_tumor_078.tif...\n",
            "Copying gs://vaa2114_dl_2019/train/level7/non_tumor/level_7_57600_25600_50_tumor_078.tif...\n",
            "Copying gs://vaa2114_dl_2019/train/level7/non_tumor/level_7_57600_32000_50_tumor_075.tif...\n",
            "Copying gs://vaa2114_dl_2019/train/level7/non_tumor/level_7_57600_32000_50_tumor_078.tif...\n",
            "Copying gs://vaa2114_dl_2019/train/level7/non_tumor/level_7_57600_38400_50_tumor_078.tif...\n",
            "Copying gs://vaa2114_dl_2019/train/level7/non_tumor/level_7_57600_51200_50_tumor_012.tif...\n",
            "Copying gs://vaa2114_dl_2019/train/level7/non_tumor/level_7_57600_51200_50_tumor_110.tif...\n",
            "Copying gs://vaa2114_dl_2019/train/level7/non_tumor/level_7_57600_57600_50_tumor_012.tif...\n",
            "Copying gs://vaa2114_dl_2019/train/level7/non_tumor/level_7_57600_57600_50_tumor_078.tif...\n",
            "Copying gs://vaa2114_dl_2019/train/level7/non_tumor/level_7_57600_57600_50_tumor_110.tif...\n",
            "Copying gs://vaa2114_dl_2019/train/level7/non_tumor/level_7_57600_64000_50_tumor_012.tif...\n",
            "Copying gs://vaa2114_dl_2019/train/level7/non_tumor/level_7_57600_64000_50_tumor_078.tif...\n",
            "Copying gs://vaa2114_dl_2019/train/level7/non_tumor/level_7_57600_70400_50_tumor_019.tif...\n",
            "Copying gs://vaa2114_dl_2019/train/level7/non_tumor/level_7_57600_70400_50_tumor_012.tif...\n",
            "Copying gs://vaa2114_dl_2019/train/level7/non_tumor/level_7_57600_76800_50_tumor_019.tif...\n",
            "Copying gs://vaa2114_dl_2019/train/level7/non_tumor/level_7_57600_89600_50_tumor_031.tif...\n",
            "Copying gs://vaa2114_dl_2019/train/level7/non_tumor/level_7_57600_89600_50_tumor_012.tif...\n",
            "Copying gs://vaa2114_dl_2019/train/level7/non_tumor/level_7_57600_96000_50_tumor_019.tif...\n",
            "Copying gs://vaa2114_dl_2019/train/level7/non_tumor/level_7_57600_96000_50_tumor_012.tif...\n",
            "Copying gs://vaa2114_dl_2019/train/level7/non_tumor/level_7_57600_96000_50_tumor_031.tif...\n",
            "Copying gs://vaa2114_dl_2019/train/level7/non_tumor/level_7_64000_0_50_tumor_001.tif...\n",
            "Copying gs://vaa2114_dl_2019/train/level7/non_tumor/level_7_64000_0_50_tumor_059.tif...\n",
            "Copying gs://vaa2114_dl_2019/train/level7/non_tumor/level_7_64000_102400_50_tumor_031.tif...\n",
            "Copying gs://vaa2114_dl_2019/train/level7/non_tumor/level_7_64000_108800_50_tumor_002.tif...\n",
            "Copying gs://vaa2114_dl_2019/train/level7/non_tumor/level_7_64000_115200_50_tumor_001.tif...\n",
            "Copying gs://vaa2114_dl_2019/train/level7/non_tumor/level_7_64000_115200_50_tumor_012.tif...\n",
            "Copying gs://vaa2114_dl_2019/train/level7/non_tumor/level_7_64000_115200_50_tumor_002.tif...\n",
            "Copying gs://vaa2114_dl_2019/train/level7/non_tumor/level_7_64000_121600_50_tumor_002.tif...\n",
            "Copying gs://vaa2114_dl_2019/train/level7/non_tumor/level_7_64000_121600_50_tumor_012.tif...\n",
            "Copying gs://vaa2114_dl_2019/train/level7/non_tumor/level_7_64000_128000_50_tumor_023.tif...\n",
            "Copying gs://vaa2114_dl_2019/train/level7/non_tumor/level_7_64000_134400_50_tumor_019.tif...\n",
            "Copying gs://vaa2114_dl_2019/train/level7/non_tumor/level_7_64000_140800_50_tumor_019.tif...\n",
            "Copying gs://vaa2114_dl_2019/train/level7/non_tumor/level_7_64000_147200_50_tumor_019.tif...\n",
            "Copying gs://vaa2114_dl_2019/train/level7/non_tumor/level_7_64000_140800_50_tumor_064.tif...\n",
            "Copying gs://vaa2114_dl_2019/train/level7/non_tumor/level_7_64000_147200_50_tumor_023.tif...\n",
            "Copying gs://vaa2114_dl_2019/train/level7/non_tumor/level_7_64000_147200_50_tumor_064.tif...\n",
            "Copying gs://vaa2114_dl_2019/train/level7/non_tumor/level_7_64000_147200_50_tumor_031.tif...\n",
            "Copying gs://vaa2114_dl_2019/train/level7/non_tumor/level_7_64000_153600_50_tumor_019.tif...\n",
            "Copying gs://vaa2114_dl_2019/train/level7/non_tumor/level_7_64000_153600_50_tumor_023.tif...\n",
            "Copying gs://vaa2114_dl_2019/train/level7/non_tumor/level_7_64000_153600_50_tumor_031.tif...\n",
            "Copying gs://vaa2114_dl_2019/train/level7/non_tumor/level_7_64000_160000_50_tumor_019.tif...\n",
            "Copying gs://vaa2114_dl_2019/train/level7/non_tumor/level_7_64000_160000_50_tumor_023.tif...\n",
            "Copying gs://vaa2114_dl_2019/train/level7/non_tumor/level_7_64000_19200_50_tumor_078.tif...\n",
            "Copying gs://vaa2114_dl_2019/train/level7/non_tumor/level_7_64000_19200_50_tumor_075.tif...\n",
            "Copying gs://vaa2114_dl_2019/train/level7/non_tumor/level_7_64000_160000_50_tumor_031.tif...\n",
            "Copying gs://vaa2114_dl_2019/train/level7/non_tumor/level_7_64000_25600_50_tumor_075.tif...\n",
            "Copying gs://vaa2114_dl_2019/train/level7/non_tumor/level_7_64000_25600_50_tumor_078.tif...\n",
            "Copying gs://vaa2114_dl_2019/train/level7/non_tumor/level_7_64000_32000_250_tumor_096.tif...\n",
            "Copying gs://vaa2114_dl_2019/train/level7/non_tumor/level_7_64000_32000_50_tumor_078.tif...\n",
            "Copying gs://vaa2114_dl_2019/train/level7/non_tumor/level_7_64000_32000_50_tumor_075.tif...\n",
            "Copying gs://vaa2114_dl_2019/train/level7/non_tumor/level_7_64000_38400_50_tumor_078.tif...\n",
            "Copying gs://vaa2114_dl_2019/train/level7/non_tumor/level_7_64000_51200_50_tumor_012.tif...\n",
            "Copying gs://vaa2114_dl_2019/train/level7/non_tumor/level_7_64000_57600_50_tumor_012.tif...\n",
            "Copying gs://vaa2114_dl_2019/train/level7/non_tumor/level_7_64000_64000_50_tumor_012.tif...\n",
            "Copying gs://vaa2114_dl_2019/train/level7/non_tumor/level_7_64000_57600_50_tumor_078.tif...\n",
            "Copying gs://vaa2114_dl_2019/train/level7/non_tumor/level_7_64000_76800_50_tumor_019.tif...\n",
            "Copying gs://vaa2114_dl_2019/train/level7/non_tumor/level_7_64000_83200_50_tumor_019.tif...\n",
            "Copying gs://vaa2114_dl_2019/train/level7/non_tumor/level_7_64000_89600_50_tumor_019.tif...\n",
            "Copying gs://vaa2114_dl_2019/train/level7/non_tumor/level_7_64000_96000_50_tumor_031.tif...\n",
            "Copying gs://vaa2114_dl_2019/train/level7/non_tumor/level_7_6400_0_50_tumor_001.tif...\n",
            "Copying gs://vaa2114_dl_2019/train/level7/non_tumor/level_7_6400_0_50_tumor_059.tif...\n",
            "Copying gs://vaa2114_dl_2019/train/level7/non_tumor/level_7_6400_121600_50_tumor_001.tif...\n",
            "Copying gs://vaa2114_dl_2019/train/level7/non_tumor/level_7_6400_121600_50_tumor_064.tif...\n",
            "Copying gs://vaa2114_dl_2019/train/level7/non_tumor/level_7_6400_128000_50_tumor_001.tif...\n",
            "Copying gs://vaa2114_dl_2019/train/level7/non_tumor/level_7_6400_128000_50_tumor_064.tif...\n",
            "Copying gs://vaa2114_dl_2019/train/level7/non_tumor/level_7_6400_12800_50_tumor_001.tif...\n",
            "Copying gs://vaa2114_dl_2019/train/level7/non_tumor/level_7_6400_12800_50_tumor_059.tif...\n",
            "Copying gs://vaa2114_dl_2019/train/level7/non_tumor/level_7_6400_153600_50_tumor_064.tif...\n",
            "Copying gs://vaa2114_dl_2019/train/level7/non_tumor/level_7_6400_25600_50_tumor_091.tif...\n",
            "Copying gs://vaa2114_dl_2019/train/level7/non_tumor/level_7_6400_38400_50_tumor_096.tif...\n",
            "Copying gs://vaa2114_dl_2019/train/level7/non_tumor/level_7_6400_38400_50_tumor_110.tif...\n",
            "Copying gs://vaa2114_dl_2019/train/level7/non_tumor/level_7_6400_44800_50_tumor_096.tif...\n",
            "Copying gs://vaa2114_dl_2019/train/level7/non_tumor/level_7_6400_44800_50_tumor_110.tif...\n",
            "Copying gs://vaa2114_dl_2019/train/level7/non_tumor/level_7_6400_6400_50_tumor_096.tif...\n",
            "Copying gs://vaa2114_dl_2019/train/level7/non_tumor/level_7_6400_51200_50_tumor_075.tif...\n",
            "Copying gs://vaa2114_dl_2019/train/level7/non_tumor/level_7_6400_51200_50_tumor_096.tif...\n",
            "Copying gs://vaa2114_dl_2019/train/level7/non_tumor/level_7_6400_83200_50_tumor_001.tif...\n",
            "Copying gs://vaa2114_dl_2019/train/level7/non_tumor/level_7_6400_76800_50_tumor_001.tif...\n",
            "Copying gs://vaa2114_dl_2019/train/level7/non_tumor/level_7_70400_0_50_tumor_059.tif...\n",
            "Copying gs://vaa2114_dl_2019/train/level7/non_tumor/level_7_70400_0_50_tumor_001.tif...\n",
            "Copying gs://vaa2114_dl_2019/train/level7/non_tumor/level_7_70400_128000_50_tumor_023.tif...\n",
            "Copying gs://vaa2114_dl_2019/train/level7/non_tumor/level_7_70400_12800_50_tumor_075.tif...\n",
            "Copying gs://vaa2114_dl_2019/train/level7/non_tumor/level_7_70400_140800_50_tumor_023.tif...\n",
            "Copying gs://vaa2114_dl_2019/train/level7/non_tumor/level_7_70400_134400_50_tumor_023.tif...\n",
            "Copying gs://vaa2114_dl_2019/train/level7/non_tumor/level_7_70400_140800_50_tumor_064.tif...\n",
            "Copying gs://vaa2114_dl_2019/train/level7/non_tumor/level_7_70400_147200_50_tumor_023.tif...\n",
            "Copying gs://vaa2114_dl_2019/train/level7/non_tumor/level_7_70400_147200_50_tumor_064.tif...\n",
            "Copying gs://vaa2114_dl_2019/train/level7/non_tumor/level_7_70400_153600_50_tumor_019.tif...\n",
            "Copying gs://vaa2114_dl_2019/train/level7/non_tumor/level_7_70400_153600_50_tumor_023.tif...\n",
            "Copying gs://vaa2114_dl_2019/train/level7/non_tumor/level_7_70400_160000_50_tumor_023.tif...\n",
            "Copying gs://vaa2114_dl_2019/train/level7/non_tumor/level_7_70400_19200_50_tumor_075.tif...\n",
            "Copying gs://vaa2114_dl_2019/train/level7/non_tumor/level_7_70400_160000_50_tumor_019.tif...\n",
            "Copying gs://vaa2114_dl_2019/train/level7/non_tumor/level_7_70400_19200_50_tumor_110.tif...\n",
            "Copying gs://vaa2114_dl_2019/train/level7/non_tumor/level_7_70400_25600_50_tumor_075.tif...\n",
            "Copying gs://vaa2114_dl_2019/train/level7/non_tumor/level_7_70400_25600_50_tumor_078.tif...\n",
            "Copying gs://vaa2114_dl_2019/train/level7/non_tumor/level_7_70400_32000_50_tumor_078.tif...\n",
            "Copying gs://vaa2114_dl_2019/train/level7/non_tumor/level_7_70400_44800_50_tumor_075.tif...\n",
            "Copying gs://vaa2114_dl_2019/train/level7/non_tumor/level_7_70400_38400_50_tumor_078.tif...\n",
            "Copying gs://vaa2114_dl_2019/train/level7/non_tumor/level_7_70400_51200_50_tumor_075.tif...\n",
            "Copying gs://vaa2114_dl_2019/train/level7/non_tumor/level_7_70400_6400_50_tumor_075.tif...\n",
            "Copying gs://vaa2114_dl_2019/train/level7/non_tumor/level_7_76800_0_50_tumor_001.tif...\n",
            "Copying gs://vaa2114_dl_2019/train/level7/non_tumor/level_7_76800_0_50_tumor_059.tif...\n",
            "Copying gs://vaa2114_dl_2019/train/level7/non_tumor/level_7_76800_12800_50_tumor_075.tif...\n",
            "Copying gs://vaa2114_dl_2019/train/level7/non_tumor/level_7_76800_12800_50_tumor_110.tif...\n",
            "Copying gs://vaa2114_dl_2019/train/level7/non_tumor/level_7_76800_12800_50_tumor_096.tif...\n",
            "Copying gs://vaa2114_dl_2019/train/level7/non_tumor/level_7_76800_134400_50_tumor_023.tif...\n",
            "Copying gs://vaa2114_dl_2019/train/level7/non_tumor/level_7_76800_140800_50_tumor_023.tif...\n",
            "Copying gs://vaa2114_dl_2019/train/level7/non_tumor/level_7_76800_147200_50_tumor_064.tif...\n",
            "Copying gs://vaa2114_dl_2019/train/level7/non_tumor/level_7_76800_153600_50_tumor_064.tif...\n",
            "Copying gs://vaa2114_dl_2019/train/level7/non_tumor/level_7_76800_19200_50_tumor_075.tif...\n",
            "Copying gs://vaa2114_dl_2019/train/level7/non_tumor/level_7_76800_19200_50_tumor_110.tif...\n",
            "Copying gs://vaa2114_dl_2019/train/level7/non_tumor/level_7_76800_32000_50_tumor_110.tif...\n",
            "Copying gs://vaa2114_dl_2019/train/level7/non_tumor/level_7_76800_51200_50_tumor_096.tif...\n",
            "Copying gs://vaa2114_dl_2019/train/level7/non_tumor/level_7_76800_44800_50_tumor_096.tif...\n",
            "Copying gs://vaa2114_dl_2019/train/level7/non_tumor/level_7_76800_57600_50_tumor_096.tif...\n",
            "Copying gs://vaa2114_dl_2019/train/level7/non_tumor/level_7_83200_12800_50_tumor_001.tif...\n",
            "Copying gs://vaa2114_dl_2019/train/level7/non_tumor/level_7_83200_0_50_tumor_059.tif...\n",
            "Copying gs://vaa2114_dl_2019/train/level7/non_tumor/level_7_83200_0_50_tumor_001.tif...\n",
            "Copying gs://vaa2114_dl_2019/train/level7/non_tumor/level_7_83200_12800_50_tumor_059.tif...\n",
            "Copying gs://vaa2114_dl_2019/train/level7/non_tumor/level_7_83200_12800_50_tumor_096.tif...\n",
            "Copying gs://vaa2114_dl_2019/train/level7/non_tumor/level_7_83200_147200_50_tumor_064.tif...\n",
            "Copying gs://vaa2114_dl_2019/train/level7/non_tumor/level_7_83200_19200_50_tumor_096.tif...\n",
            "Copying gs://vaa2114_dl_2019/train/level7/non_tumor/level_7_83200_25600_50_tumor_110.tif...\n",
            "Copying gs://vaa2114_dl_2019/train/level7/non_tumor/level_7_83200_38400_50_tumor_096.tif...\n",
            "Copying gs://vaa2114_dl_2019/train/level7/non_tumor/level_7_83200_44800_50_tumor_096.tif...\n",
            "Copying gs://vaa2114_dl_2019/train/level7/non_tumor/level_7_83200_51200_50_tumor_096.tif...\n",
            "Copying gs://vaa2114_dl_2019/train/level7/non_tumor/level_7_83200_57600_50_tumor_096.tif...\n",
            "Copying gs://vaa2114_dl_2019/train/level7/non_tumor/level_7_89600_0_50_tumor_001.tif...\n",
            "Copying gs://vaa2114_dl_2019/train/level7/non_tumor/level_7_89600_0_50_tumor_059.tif...\n",
            "Copying gs://vaa2114_dl_2019/train/level7/non_tumor/level_7_89600_12800_50_tumor_096.tif...\n",
            "Copying gs://vaa2114_dl_2019/train/level7/non_tumor/level_7_89600_19200_50_tumor_096.tif...\n",
            "Copying gs://vaa2114_dl_2019/train/level7/non_tumor/level_7_89600_25600_50_tumor_096.tif...\n",
            "Copying gs://vaa2114_dl_2019/train/level7/non_tumor/level_7_89600_51200_50_tumor_096.tif...\n",
            "Copying gs://vaa2114_dl_2019/train/level7/non_tumor/level_7_89600_44800_50_tumor_096.tif...\n",
            "Copying gs://vaa2114_dl_2019/train/level7/non_tumor/level_7_89600_6400_50_tumor_096.tif...\n",
            "Copying gs://vaa2114_dl_2019/train/level7/non_tumor/level_7_96000_12800_50_tumor_096.tif...\n",
            "Copying gs://vaa2114_dl_2019/train/level7/non_tumor/level_7_96000_32000_250_tumor_096.tif...\n",
            "Copying gs://vaa2114_dl_2019/train/level7/non_tumor/level_7_96000_38400_50_tumor_096.tif...\n",
            "Copying gs://vaa2114_dl_2019/train/level7/non_tumor/level_7_96000_6400_50_tumor_096.tif...\n",
            "Copying gs://vaa2114_dl_2019/train/level7/tumor/level_7_102400_19200_50_tumor_096.tif...\n",
            "Copying gs://vaa2114_dl_2019/train/level7/tumor/level_7_108800_12800_50_tumor_096.tif...\n",
            "Copying gs://vaa2114_dl_2019/train/level7/tumor/level_7_108800_19200_50_tumor_096.tif...\n",
            "Copying gs://vaa2114_dl_2019/train/level7/tumor/level_7_115200_19200_50_tumor_096.tif...\n",
            "Copying gs://vaa2114_dl_2019/train/level7/tumor/level_7_115200_12800_50_tumor_096.tif...\n",
            "Copying gs://vaa2114_dl_2019/train/level7/tumor/level_7_12800_12800_50_tumor_110.tif...\n",
            "Copying gs://vaa2114_dl_2019/train/level7/tumor/level_7_12800_153600_50_tumor_064.tif...\n",
            "Copying gs://vaa2114_dl_2019/train/level7/tumor/level_7_12800_160000_50_tumor_064.tif...\n",
            "Copying gs://vaa2114_dl_2019/train/level7/tumor/level_7_12800_166400_50_tumor_064.tif...\n",
            "Copying gs://vaa2114_dl_2019/train/level7/tumor/level_7_12800_172800_50_tumor_064.tif...\n",
            "Copying gs://vaa2114_dl_2019/train/level7/tumor/level_7_12800_19200_50_tumor_110.tif...\n",
            "Copying gs://vaa2114_dl_2019/train/level7/tumor/level_7_12800_25600_50_tumor_110.tif...\n",
            "Copying gs://vaa2114_dl_2019/train/level7/tumor/level_7_12800_32000_50_tumor_110.tif...\n",
            "Copying gs://vaa2114_dl_2019/train/level7/tumor/level_7_12800_44800_50_tumor_110.tif...\n",
            "Copying gs://vaa2114_dl_2019/train/level7/tumor/level_7_12800_38400_50_tumor_110.tif...\n",
            "Copying gs://vaa2114_dl_2019/train/level7/tumor/level_7_12800_51200_50_tumor_078.tif...\n",
            "Copying gs://vaa2114_dl_2019/train/level7/tumor/level_7_12800_51200_50_tumor_084.tif...\n",
            "Copying gs://vaa2114_dl_2019/train/level7/tumor/level_7_12800_57600_50_tumor_078.tif...\n",
            "Copying gs://vaa2114_dl_2019/train/level7/tumor/level_7_19200_108800_50_tumor_064.tif...\n",
            "Copying gs://vaa2114_dl_2019/train/level7/tumor/level_7_19200_12800_50_tumor_110.tif...\n",
            "Copying gs://vaa2114_dl_2019/train/level7/tumor/level_7_19200_115200_50_tumor_064.tif...\n",
            "Copying gs://vaa2114_dl_2019/train/level7/tumor/level_7_19200_160000_50_tumor_064.tif...\n",
            "Copying gs://vaa2114_dl_2019/train/level7/tumor/level_7_19200_166400_50_tumor_064.tif...\n",
            "Copying gs://vaa2114_dl_2019/train/level7/tumor/level_7_19200_172800_50_tumor_064.tif...\n",
            "Copying gs://vaa2114_dl_2019/train/level7/tumor/level_7_19200_19200_50_tumor_110.tif...\n",
            "Copying gs://vaa2114_dl_2019/train/level7/tumor/level_7_19200_25600_50_tumor_110.tif...\n",
            "Copying gs://vaa2114_dl_2019/train/level7/tumor/level_7_19200_32000_50_tumor_078.tif...\n",
            "Copying gs://vaa2114_dl_2019/train/level7/tumor/level_7_19200_32000_50_tumor_110.tif...\n",
            "Copying gs://vaa2114_dl_2019/train/level7/tumor/level_7_19200_38400_50_tumor_078.tif...\n",
            "Copying gs://vaa2114_dl_2019/train/level7/tumor/level_7_19200_38400_50_tumor_110.tif...\n",
            "Copying gs://vaa2114_dl_2019/train/level7/tumor/level_7_19200_44800_50_tumor_084.tif...\n",
            "Copying gs://vaa2114_dl_2019/train/level7/tumor/level_7_19200_44800_50_tumor_078.tif...\n",
            "Copying gs://vaa2114_dl_2019/train/level7/tumor/level_7_19200_44800_50_tumor_110.tif...\n",
            "Copying gs://vaa2114_dl_2019/train/level7/tumor/level_7_19200_51200_50_tumor_084.tif...\n",
            "Copying gs://vaa2114_dl_2019/train/level7/tumor/level_7_19200_51200_50_tumor_078.tif...\n",
            "Copying gs://vaa2114_dl_2019/train/level7/tumor/level_7_19200_51200_50_tumor_110.tif...\n",
            "Copying gs://vaa2114_dl_2019/train/level7/tumor/level_7_19200_57600_50_tumor_078.tif...\n",
            "Copying gs://vaa2114_dl_2019/train/level7/tumor/level_7_19200_57600_50_tumor_084.tif...\n",
            "Copying gs://vaa2114_dl_2019/train/level7/tumor/level_7_19200_57600_50_tumor_110.tif...\n",
            "Copying gs://vaa2114_dl_2019/train/level7/tumor/level_7_19200_64000_50_tumor_084.tif...\n",
            "Copying gs://vaa2114_dl_2019/train/level7/tumor/level_7_19200_70400_50_tumor_078.tif...\n",
            "Copying gs://vaa2114_dl_2019/train/level7/tumor/level_7_19200_70400_50_tumor_084.tif...\n",
            "Copying gs://vaa2114_dl_2019/train/level7/tumor/level_7_25600_108800_50_tumor_064.tif...\n",
            "Copying gs://vaa2114_dl_2019/train/level7/tumor/level_7_25600_115200_50_tumor_064.tif...\n",
            "Copying gs://vaa2114_dl_2019/train/level7/tumor/level_7_25600_121600_50_tumor_064.tif...\n",
            "Copying gs://vaa2114_dl_2019/train/level7/tumor/level_7_25600_12800_50_tumor_110.tif...\n",
            "Copying gs://vaa2114_dl_2019/train/level7/tumor/level_7_25600_19200_50_tumor_110.tif...\n",
            "Copying gs://vaa2114_dl_2019/train/level7/tumor/level_7_25600_25600_50_tumor_110.tif...\n",
            "Copying gs://vaa2114_dl_2019/train/level7/tumor/level_7_25600_32000_50_tumor_078.tif...\n",
            "Copying gs://vaa2114_dl_2019/train/level7/tumor/level_7_25600_38400_50_tumor_078.tif...\n",
            "Copying gs://vaa2114_dl_2019/train/level7/tumor/level_7_25600_38400_50_tumor_110.tif...\n",
            "Copying gs://vaa2114_dl_2019/train/level7/tumor/level_7_25600_44800_50_tumor_110.tif...\n",
            "Copying gs://vaa2114_dl_2019/train/level7/tumor/level_7_25600_44800_50_tumor_078.tif...\n",
            "Copying gs://vaa2114_dl_2019/train/level7/tumor/level_7_25600_44800_50_tumor_075.tif...\n",
            "Copying gs://vaa2114_dl_2019/train/level7/tumor/level_7_25600_51200_50_tumor_075.tif...\n",
            "Copying gs://vaa2114_dl_2019/train/level7/tumor/level_7_25600_51200_50_tumor_078.tif...\n",
            "Copying gs://vaa2114_dl_2019/train/level7/tumor/level_7_25600_51200_50_tumor_110.tif...\n",
            "Copying gs://vaa2114_dl_2019/train/level7/tumor/level_7_25600_57600_50_tumor_078.tif...\n",
            "Copying gs://vaa2114_dl_2019/train/level7/tumor/level_7_25600_57600_50_tumor_110.tif...\n",
            "Copying gs://vaa2114_dl_2019/train/level7/tumor/level_7_25600_64000_50_tumor_078.tif...\n",
            "Copying gs://vaa2114_dl_2019/train/level7/tumor/level_7_25600_70400_50_tumor_078.tif...\n",
            "Copying gs://vaa2114_dl_2019/train/level7/tumor/level_7_25600_76800_50_tumor_078.tif...\n",
            "Copying gs://vaa2114_dl_2019/train/level7/tumor/level_7_25600_83200_50_tumor_078.tif...\n",
            "Copying gs://vaa2114_dl_2019/train/level7/tumor/level_7_32000_12800_50_tumor_096.tif...\n",
            "Copying gs://vaa2114_dl_2019/train/level7/tumor/level_7_32000_12800_50_tumor_110.tif...\n",
            "Copying gs://vaa2114_dl_2019/train/level7/tumor/level_7_32000_19200_50_tumor_110.tif...\n",
            "Copying gs://vaa2114_dl_2019/train/level7/tumor/level_7_32000_25600_50_tumor_091.tif...\n",
            "Copying gs://vaa2114_dl_2019/train/level7/tumor/level_7_32000_25600_50_tumor_110.tif...\n",
            "Copying gs://vaa2114_dl_2019/train/level7/tumor/level_7_32000_32000_50_tumor_078.tif...\n",
            "Copying gs://vaa2114_dl_2019/train/level7/tumor/level_7_32000_32000_50_tumor_091.tif...\n",
            "Copying gs://vaa2114_dl_2019/train/level7/tumor/level_7_32000_38400_50_tumor_075.tif...\n",
            "Copying gs://vaa2114_dl_2019/train/level7/tumor/level_7_32000_38400_50_tumor_078.tif...\n",
            "Copying gs://vaa2114_dl_2019/train/level7/tumor/level_7_32000_44800_50_tumor_075.tif...\n",
            "Copying gs://vaa2114_dl_2019/train/level7/tumor/level_7_32000_44800_50_tumor_110.tif...\n",
            "Copying gs://vaa2114_dl_2019/train/level7/tumor/level_7_32000_51200_50_tumor_075.tif...\n",
            "Copying gs://vaa2114_dl_2019/train/level7/tumor/level_7_32000_51200_50_tumor_078.tif...\n",
            "Copying gs://vaa2114_dl_2019/train/level7/tumor/level_7_32000_51200_50_tumor_110.tif...\n",
            "Copying gs://vaa2114_dl_2019/train/level7/tumor/level_7_32000_57600_50_tumor_078.tif...\n",
            "Copying gs://vaa2114_dl_2019/train/level7/tumor/level_7_32000_57600_50_tumor_110.tif...\n",
            "Copying gs://vaa2114_dl_2019/train/level7/tumor/level_7_32000_64000_50_tumor_078.tif...\n",
            "Copying gs://vaa2114_dl_2019/train/level7/tumor/level_7_32000_6400_50_tumor_110.tif...\n",
            "Copying gs://vaa2114_dl_2019/train/level7/tumor/level_7_32000_70400_50_tumor_078.tif...\n",
            "Copying gs://vaa2114_dl_2019/train/level7/tumor/level_7_32000_96000_50_tumor_078.tif...\n",
            "Copying gs://vaa2114_dl_2019/train/level7/tumor/level_7_32000_76800_50_tumor_078.tif...\n",
            "Copying gs://vaa2114_dl_2019/train/level7/tumor/level_7_38400_115200_50_tumor_023.tif...\n",
            "Copying gs://vaa2114_dl_2019/train/level7/tumor/level_7_32000_83200_50_tumor_078.tif...\n",
            "Copying gs://vaa2114_dl_2019/train/level7/tumor/level_7_32000_89600_50_tumor_078.tif...\n",
            "Copying gs://vaa2114_dl_2019/train/level7/tumor/level_7_38400_12800_50_tumor_078.tif...\n",
            "Copying gs://vaa2114_dl_2019/train/level7/tumor/level_7_38400_12800_50_tumor_096.tif...\n",
            "Copying gs://vaa2114_dl_2019/train/level7/tumor/level_7_38400_12800_50_tumor_110.tif...\n",
            "Copying gs://vaa2114_dl_2019/train/level7/tumor/level_7_38400_153600_50_tumor_031.tif...\n",
            "Copying gs://vaa2114_dl_2019/train/level7/tumor/level_7_38400_160000_50_tumor_031.tif...\n",
            "Copying gs://vaa2114_dl_2019/train/level7/tumor/level_7_38400_19200_50_tumor_078.tif...\n",
            "Copying gs://vaa2114_dl_2019/train/level7/tumor/level_7_38400_19200_50_tumor_110.tif...\n",
            "Copying gs://vaa2114_dl_2019/train/level7/tumor/level_7_38400_25600_50_tumor_078.tif...\n",
            "Copying gs://vaa2114_dl_2019/train/level7/tumor/level_7_38400_25600_50_tumor_110.tif...\n",
            "Copying gs://vaa2114_dl_2019/train/level7/tumor/level_7_38400_32000_50_tumor_078.tif...\n",
            "Copying gs://vaa2114_dl_2019/train/level7/tumor/level_7_38400_32000_50_tumor_091.tif...\n",
            "Copying gs://vaa2114_dl_2019/train/level7/tumor/level_7_38400_38400_50_tumor_091.tif...\n",
            "Copying gs://vaa2114_dl_2019/train/level7/tumor/level_7_38400_44800_50_tumor_110.tif...\n",
            "Copying gs://vaa2114_dl_2019/train/level7/tumor/level_7_38400_51200_50_tumor_078.tif...\n",
            "Copying gs://vaa2114_dl_2019/train/level7/tumor/level_7_38400_51200_50_tumor_110.tif...\n",
            "Copying gs://vaa2114_dl_2019/train/level7/tumor/level_7_38400_57600_50_tumor_078.tif...\n",
            "Copying gs://vaa2114_dl_2019/train/level7/tumor/level_7_38400_57600_50_tumor_110.tif...\n",
            "Copying gs://vaa2114_dl_2019/train/level7/tumor/level_7_38400_64000_50_tumor_078.tif...\n",
            "Copying gs://vaa2114_dl_2019/train/level7/tumor/level_7_38400_6400_50_tumor_078.tif...\n",
            "Copying gs://vaa2114_dl_2019/train/level7/tumor/level_7_38400_6400_50_tumor_096.tif...\n",
            "Copying gs://vaa2114_dl_2019/train/level7/tumor/level_7_38400_6400_50_tumor_110.tif...\n",
            "Copying gs://vaa2114_dl_2019/train/level7/tumor/level_7_38400_70400_50_tumor_078.tif...\n",
            "Copying gs://vaa2114_dl_2019/train/level7/tumor/level_7_38400_76800_50_tumor_078.tif...\n",
            "Copying gs://vaa2114_dl_2019/train/level7/tumor/level_7_38400_83200_50_tumor_078.tif...\n",
            "Copying gs://vaa2114_dl_2019/train/level7/tumor/level_7_38400_89600_50_tumor_078.tif...\n",
            "Copying gs://vaa2114_dl_2019/train/level7/tumor/level_7_38400_96000_50_tumor_078.tif...\n",
            "Copying gs://vaa2114_dl_2019/train/level7/tumor/level_7_44800_102400_50_tumor_002.tif...\n",
            "Copying gs://vaa2114_dl_2019/train/level7/tumor/level_7_44800_115200_50_tumor_023.tif...\n",
            "Copying gs://vaa2114_dl_2019/train/level7/tumor/level_7_44800_12800_50_tumor_084.tif...\n",
            "Copying gs://vaa2114_dl_2019/train/level7/tumor/level_7_44800_12800_50_tumor_078.tif...\n",
            "Copying gs://vaa2114_dl_2019/train/level7/tumor/level_7_44800_12800_50_tumor_096.tif...\n",
            "Copying gs://vaa2114_dl_2019/train/level7/tumor/level_7_44800_12800_50_tumor_110.tif...\n",
            "Copying gs://vaa2114_dl_2019/train/level7/tumor/level_7_44800_134400_50_tumor_023.tif...\n",
            "Copying gs://vaa2114_dl_2019/train/level7/tumor/level_7_44800_140800_50_tumor_031.tif...\n",
            "Copying gs://vaa2114_dl_2019/train/level7/tumor/level_7_44800_147200_50_tumor_031.tif...\n",
            "Copying gs://vaa2114_dl_2019/train/level7/tumor/level_7_44800_153600_50_tumor_031.tif...\n",
            "Copying gs://vaa2114_dl_2019/train/level7/tumor/level_7_44800_160000_50_tumor_031.tif...\n",
            "Copying gs://vaa2114_dl_2019/train/level7/tumor/level_7_44800_166400_50_tumor_031.tif...\n",
            "Copying gs://vaa2114_dl_2019/train/level7/tumor/level_7_44800_19200_50_tumor_078.tif...\n",
            "Copying gs://vaa2114_dl_2019/train/level7/tumor/level_7_44800_19200_50_tumor_091.tif...\n",
            "Copying gs://vaa2114_dl_2019/train/level7/tumor/level_7_44800_19200_50_tumor_110.tif...\n",
            "Copying gs://vaa2114_dl_2019/train/level7/tumor/level_7_44800_25600_50_tumor_091.tif...\n",
            "Copying gs://vaa2114_dl_2019/train/level7/tumor/level_7_44800_25600_50_tumor_078.tif...\n",
            "Copying gs://vaa2114_dl_2019/train/level7/tumor/level_7_44800_32000_50_tumor_091.tif...\n",
            "Copying gs://vaa2114_dl_2019/train/level7/tumor/level_7_44800_44800_50_tumor_110.tif...\n",
            "Copying gs://vaa2114_dl_2019/train/level7/tumor/level_7_44800_51200_50_tumor_110.tif...\n",
            "Copying gs://vaa2114_dl_2019/train/level7/tumor/level_7_44800_6400_50_tumor_084.tif...\n",
            "Copying gs://vaa2114_dl_2019/train/level7/tumor/level_7_44800_6400_50_tumor_096.tif...\n",
            "Copying gs://vaa2114_dl_2019/train/level7/tumor/level_7_44800_70400_50_tumor_012.tif...\n",
            "Copying gs://vaa2114_dl_2019/train/level7/tumor/level_7_44800_70400_50_tumor_078.tif...\n",
            "Copying gs://vaa2114_dl_2019/train/level7/tumor/level_7_44800_76800_50_tumor_012.tif...\n",
            "Copying gs://vaa2114_dl_2019/train/level7/tumor/level_7_44800_76800_50_tumor_078.tif...\n",
            "Copying gs://vaa2114_dl_2019/train/level7/tumor/level_7_44800_6400_50_tumor_110.tif...\n",
            "Copying gs://vaa2114_dl_2019/train/level7/tumor/level_7_44800_83200_50_tumor_078.tif...\n",
            "Copying gs://vaa2114_dl_2019/train/level7/tumor/level_7_44800_89600_50_tumor_078.tif...\n",
            "Copying gs://vaa2114_dl_2019/train/level7/tumor/level_7_51200_115200_50_tumor_059.tif...\n",
            "Copying gs://vaa2114_dl_2019/train/level7/tumor/level_7_51200_12800_50_tumor_110.tif...\n",
            "Copying gs://vaa2114_dl_2019/train/level7/tumor/level_7_51200_140800_50_tumor_031.tif...\n",
            "Copying gs://vaa2114_dl_2019/train/level7/tumor/level_7_51200_153600_50_tumor_031.tif...\n",
            "Copying gs://vaa2114_dl_2019/train/level7/tumor/level_7_51200_147200_50_tumor_031.tif...\n",
            "Copying gs://vaa2114_dl_2019/train/level7/tumor/level_7_51200_12800_50_tumor_075.tif...\n",
            "Copying gs://vaa2114_dl_2019/train/level7/tumor/level_7_51200_160000_50_tumor_031.tif...\n",
            "Copying gs://vaa2114_dl_2019/train/level7/tumor/level_7_51200_172800_50_tumor_031.tif...\n",
            "Copying gs://vaa2114_dl_2019/train/level7/tumor/level_7_51200_19200_50_tumor_110.tif...\n",
            "Copying gs://vaa2114_dl_2019/train/level7/tumor/level_7_51200_166400_50_tumor_031.tif...\n",
            "Copying gs://vaa2114_dl_2019/train/level7/tumor/level_7_51200_25600_50_tumor_110.tif...\n",
            "Copying gs://vaa2114_dl_2019/train/level7/tumor/level_7_51200_32000_50_tumor_110.tif...\n",
            "Copying gs://vaa2114_dl_2019/train/level7/tumor/level_7_51200_38400_50_tumor_110.tif...\n",
            "Copying gs://vaa2114_dl_2019/train/level7/tumor/level_7_51200_6400_50_tumor_110.tif...\n",
            "Copying gs://vaa2114_dl_2019/train/level7/tumor/level_7_51200_6400_50_tumor_075.tif...\n",
            "Copying gs://vaa2114_dl_2019/train/level7/tumor/level_7_51200_76800_50_tumor_078.tif...\n",
            "Copying gs://vaa2114_dl_2019/train/level7/tumor/level_7_51200_83200_50_tumor_078.tif...\n",
            "Copying gs://vaa2114_dl_2019/train/level7/tumor/level_7_57600_12800_50_tumor_110.tif...\n",
            "Copying gs://vaa2114_dl_2019/train/level7/tumor/level_7_57600_12800_50_tumor_075.tif...\n",
            "Copying gs://vaa2114_dl_2019/train/level7/tumor/level_7_57600_134400_50_tumor_005.tif...\n",
            "Copying gs://vaa2114_dl_2019/train/level7/tumor/level_7_57600_160000_50_tumor_031.tif...\n",
            "Copying gs://vaa2114_dl_2019/train/level7/tumor/level_7_57600_166400_50_tumor_031.tif...\n",
            "Copying gs://vaa2114_dl_2019/train/level7/tumor/level_7_57600_19200_50_tumor_075.tif...\n",
            "Copying gs://vaa2114_dl_2019/train/level7/tumor/level_7_57600_19200_50_tumor_110.tif...\n",
            "Copying gs://vaa2114_dl_2019/train/level7/tumor/level_7_57600_25600_50_tumor_110.tif...\n",
            "Copying gs://vaa2114_dl_2019/train/level7/tumor/level_7_57600_32000_50_tumor_110.tif...\n",
            "Copying gs://vaa2114_dl_2019/train/level7/tumor/level_7_57600_38400_50_tumor_110.tif...\n",
            "Copying gs://vaa2114_dl_2019/train/level7/tumor/level_7_57600_44800_50_tumor_078.tif...\n",
            "Copying gs://vaa2114_dl_2019/train/level7/tumor/level_7_57600_51200_50_tumor_078.tif...\n",
            "Copying gs://vaa2114_dl_2019/train/level7/tumor/level_7_57600_6400_50_tumor_075.tif...\n",
            "Copying gs://vaa2114_dl_2019/train/level7/tumor/level_7_57600_70400_50_tumor_078.tif...\n",
            "Copying gs://vaa2114_dl_2019/train/level7/tumor/level_7_57600_76800_50_tumor_078.tif...\n",
            "Copying gs://vaa2114_dl_2019/train/level7/tumor/level_7_57600_89600_50_tumor_019.tif...\n",
            "Copying gs://vaa2114_dl_2019/train/level7/tumor/level_7_64000_121600_50_tumor_001.tif...\n",
            "Copying gs://vaa2114_dl_2019/train/level7/tumor/level_7_64000_128000_50_tumor_064.tif...\n",
            "Copying gs://vaa2114_dl_2019/train/level7/tumor/level_7_64000_128000_50_tumor_001.tif...\n",
            "Copying gs://vaa2114_dl_2019/train/level7/tumor/level_7_57600_83200_50_tumor_019.tif...\n",
            "Copying gs://vaa2114_dl_2019/train/level7/tumor/level_7_57600_83200_50_tumor_078.tif...\n",
            "Copying gs://vaa2114_dl_2019/train/level7/tumor/level_7_64000_12800_50_tumor_075.tif...\n",
            "Copying gs://vaa2114_dl_2019/train/level7/tumor/level_7_64000_134400_50_tumor_001.tif...\n",
            "Copying gs://vaa2114_dl_2019/train/level7/tumor/level_7_64000_134400_50_tumor_064.tif...\n",
            "Copying gs://vaa2114_dl_2019/train/level7/tumor/level_7_64000_44800_50_tumor_078.tif...\n",
            "Copying gs://vaa2114_dl_2019/train/level7/tumor/level_7_64000_51200_50_tumor_078.tif...\n",
            "Copying gs://vaa2114_dl_2019/train/level7/tumor/level_7_64000_64000_50_tumor_078.tif...\n",
            "Copying gs://vaa2114_dl_2019/train/level7/tumor/level_7_64000_6400_50_tumor_075.tif...\n",
            "Copying gs://vaa2114_dl_2019/train/level7/tumor/level_7_64000_70400_50_tumor_078.tif...\n",
            "Copying gs://vaa2114_dl_2019/train/level7/tumor/level_7_6400_160000_50_tumor_064.tif...\n",
            "Copying gs://vaa2114_dl_2019/train/level7/tumor/level_7_70400_121600_50_tumor_001.tif...\n",
            "Copying gs://vaa2114_dl_2019/train/level7/tumor/level_7_64000_76800_50_tumor_078.tif...\n",
            "Copying gs://vaa2114_dl_2019/train/level7/tumor/level_7_64000_83200_50_tumor_078.tif...\n",
            "Copying gs://vaa2114_dl_2019/train/level7/tumor/level_7_70400_128000_50_tumor_001.tif...\n",
            "Copying gs://vaa2114_dl_2019/train/level7/tumor/level_7_70400_128000_50_tumor_064.tif...\n",
            "Copying gs://vaa2114_dl_2019/train/level7/tumor/level_7_70400_134400_50_tumor_001.tif...\n",
            "Copying gs://vaa2114_dl_2019/train/level7/tumor/level_7_70400_134400_50_tumor_064.tif...\n",
            "Copying gs://vaa2114_dl_2019/train/level7/tumor/level_7_70400_44800_50_tumor_078.tif...\n",
            "Copying gs://vaa2114_dl_2019/train/level7/tumor/level_7_70400_51200_50_tumor_078.tif...\n",
            "Copying gs://vaa2114_dl_2019/train/level7/tumor/level_7_70400_57600_50_tumor_078.tif...\n",
            "Copying gs://vaa2114_dl_2019/train/level7/tumor/level_7_70400_64000_50_tumor_078.tif...\n",
            "Copying gs://vaa2114_dl_2019/train/level7/tumor/level_7_70400_70400_50_tumor_078.tif...\n",
            "Copying gs://vaa2114_dl_2019/train/level7/tumor/level_7_70400_76800_50_tumor_078.tif...\n",
            "Copying gs://vaa2114_dl_2019/train/level7/tumor/level_7_76800_134400_50_tumor_064.tif...\n",
            "Copying gs://vaa2114_dl_2019/train/level7/tumor/level_7_76800_140800_50_tumor_064.tif...\n",
            "Copying gs://vaa2114_dl_2019/train/level7/tumor/level_7_76800_147200_50_tumor_023.tif...\n",
            "Copying gs://vaa2114_dl_2019/train/level7/tumor/level_7_76800_44800_50_tumor_078.tif...\n",
            "Copying gs://vaa2114_dl_2019/train/level7/tumor/level_7_76800_51200_50_tumor_078.tif...\n",
            "Copying gs://vaa2114_dl_2019/train/level7/tumor/level_7_76800_57600_50_tumor_078.tif...\n",
            "Copying gs://vaa2114_dl_2019/train/level7/tumor/level_7_76800_64000_50_tumor_078.tif...\n",
            "Copying gs://vaa2114_dl_2019/train/level7/tumor/level_7_76800_70400_50_tumor_078.tif...\n",
            "Copying gs://vaa2114_dl_2019/train/level7/tumor/level_7_83200_134400_50_tumor_064.tif...\n",
            "Copying gs://vaa2114_dl_2019/train/level7/tumor/level_7_83200_140800_50_tumor_064.tif...\n",
            "- [734/734 files][ 16.6 MiB/ 16.6 MiB] 100% Done 683.2 KiB/s ETA 00:00:00       \n",
            "Operation completed over 734 objects/16.6 MiB.                                   \n",
            "\n",
            "Downloaded Train Data\n",
            "# Non Tumor files\n",
            "522\n",
            "# Tumor files\n",
            "212\n"
          ],
          "name": "stdout"
        }
      ]
    },
    {
      "cell_type": "markdown",
      "metadata": {
        "id": "EsBWmch9DwSg",
        "colab_type": "text"
      },
      "source": [
        "### Download Validation Set"
      ]
    },
    {
      "cell_type": "code",
      "metadata": {
        "id": "mVhLTCkU2GAD",
        "colab_type": "code",
        "outputId": "812167c8-71de-4c84-9afd-3f4a70b559fc",
        "colab": {
          "base_uri": "https://localhost:8080/",
          "height": 3981
        }
      },
      "source": [
        "!gsutil -m cp -r gs://{GCP_BUCKET_NAME}/{GCP_VAL_DIR} {VAL_DIR}\n",
        " \n",
        "print(\"\\nDownloaded Validation Data\")\n",
        "\n",
        "print(\"# Non Tumor files\")\n",
        "!ls \"$LEVEL_VAL_DIR/non_tumor/\" | wc -l\n",
        "print(\"# Tumor files\")\n",
        "!ls \"$LEVEL_VAL_DIR/tumor/\" | wc -l"
      ],
      "execution_count": 20,
      "outputs": [
        {
          "output_type": "stream",
          "text": [
            "Copying gs://vaa2114_dl_2019/validate/level7/non_tumor/level_7_102400_19200_50_tumor_101.tif...\n",
            "Copying gs://vaa2114_dl_2019/validate/level7/non_tumor/level_7_102400_38400_50_tumor_101.tif...\n",
            "/ [0/224 files][    0.0 B/  5.0 MiB]   0% Done                                  \r/ [0/224 files][    0.0 B/  5.0 MiB]   0% Done                                  \rCopying gs://vaa2114_dl_2019/validate/level7/non_tumor/level_7_102400_25600_50_tumor_101.tif...\n",
            "/ [0/224 files][    0.0 B/  5.0 MiB]   0% Done                                  \rCopying gs://vaa2114_dl_2019/validate/level7/non_tumor/level_7_102400_32000_50_tumor_101.tif...\n",
            "Copying gs://vaa2114_dl_2019/validate/level7/non_tumor/level_7_102400_44800_50_tumor_101.tif...\n",
            "/ [0/224 files][    0.0 B/  5.0 MiB]   0% Done                                  \r/ [0/224 files][    0.0 B/  5.0 MiB]   0% Done                                  \rCopying gs://vaa2114_dl_2019/validate/level7/non_tumor/level_7_102400_57600_50_tumor_101.tif...\n",
            "/ [0/224 files][    0.0 B/  5.0 MiB]   0% Done                                  \rCopying gs://vaa2114_dl_2019/validate/level7/non_tumor/level_7_108800_32000_50_tumor_101.tif...\n",
            "/ [0/224 files][    0.0 B/  5.0 MiB]   0% Done                                  \rCopying gs://vaa2114_dl_2019/validate/level7/non_tumor/level_7_108800_51200_50_tumor_101.tif...\n",
            "/ [0/224 files][    0.0 B/  5.0 MiB]   0% Done                                  \rCopying gs://vaa2114_dl_2019/validate/level7/non_tumor/level_7_115200_44800_50_tumor_101.tif...\n",
            "Copying gs://vaa2114_dl_2019/validate/level7/non_tumor/level_7_108800_57600_50_tumor_101.tif...\n",
            "Copying gs://vaa2114_dl_2019/validate/level7/non_tumor/level_7_115200_51200_50_tumor_101.tif...\n",
            "Copying gs://vaa2114_dl_2019/validate/level7/non_tumor/level_7_115200_57600_50_tumor_101.tif...\n",
            "Copying gs://vaa2114_dl_2019/validate/level7/non_tumor/level_7_115200_6400_50_tumor_101.tif...\n",
            "Copying gs://vaa2114_dl_2019/validate/level7/non_tumor/level_7_121600_12800_50_tumor_101.tif...\n",
            "Copying gs://vaa2114_dl_2019/validate/level7/non_tumor/level_7_121600_25600_50_tumor_101.tif...\n",
            "Copying gs://vaa2114_dl_2019/validate/level7/non_tumor/level_7_121600_44800_50_tumor_101.tif...\n",
            "Copying gs://vaa2114_dl_2019/validate/level7/non_tumor/level_7_121600_51200_50_tumor_101.tif...\n",
            "Copying gs://vaa2114_dl_2019/validate/level7/non_tumor/level_7_121600_57600_50_tumor_101.tif...\n",
            "Copying gs://vaa2114_dl_2019/validate/level7/non_tumor/level_7_121600_6400_50_tumor_101.tif...\n",
            "Copying gs://vaa2114_dl_2019/validate/level7/non_tumor/level_7_128000_12800_50_tumor_101.tif...\n",
            "Copying gs://vaa2114_dl_2019/validate/level7/non_tumor/level_7_128000_19200_50_tumor_101.tif...\n",
            "Copying gs://vaa2114_dl_2019/validate/level7/non_tumor/level_7_128000_51200_50_tumor_101.tif...\n",
            "Copying gs://vaa2114_dl_2019/validate/level7/non_tumor/level_7_12800_12800_50_tumor_081.tif...\n",
            "Copying gs://vaa2114_dl_2019/validate/level7/non_tumor/level_7_12800_12800_50_tumor_101.tif...\n",
            "Copying gs://vaa2114_dl_2019/validate/level7/non_tumor/level_7_12800_160000_50_tumor_057.tif...\n",
            "Copying gs://vaa2114_dl_2019/validate/level7/non_tumor/level_7_12800_166400_50_tumor_057.tif...\n",
            "Copying gs://vaa2114_dl_2019/validate/level7/non_tumor/level_7_12800_19200_50_tumor_081.tif...\n",
            "Copying gs://vaa2114_dl_2019/validate/level7/non_tumor/level_7_12800_19200_50_tumor_101.tif...\n",
            "Copying gs://vaa2114_dl_2019/validate/level7/non_tumor/level_7_12800_25600_50_tumor_081.tif...\n",
            "Copying gs://vaa2114_dl_2019/validate/level7/non_tumor/level_7_12800_25600_50_tumor_101.tif...\n",
            "Copying gs://vaa2114_dl_2019/validate/level7/non_tumor/level_7_12800_38400_50_tumor_101.tif...\n",
            "Copying gs://vaa2114_dl_2019/validate/level7/non_tumor/level_7_12800_51200_50_tumor_081.tif...\n",
            "Copying gs://vaa2114_dl_2019/validate/level7/non_tumor/level_7_12800_57600_50_tumor_081.tif...\n",
            "Copying gs://vaa2114_dl_2019/validate/level7/non_tumor/level_7_12800_64000_50_tumor_081.tif...\n",
            "Copying gs://vaa2114_dl_2019/validate/level7/non_tumor/level_7_19200_121600_50_tumor_057.tif...\n",
            "Copying gs://vaa2114_dl_2019/validate/level7/non_tumor/level_7_19200_128000_50_tumor_057.tif...\n",
            "Copying gs://vaa2114_dl_2019/validate/level7/non_tumor/level_7_19200_12800_50_tumor_081.tif...\n",
            "Copying gs://vaa2114_dl_2019/validate/level7/non_tumor/level_7_19200_160000_50_tumor_057.tif...\n",
            "Copying gs://vaa2114_dl_2019/validate/level7/non_tumor/level_7_19200_166400_50_tumor_057.tif...\n",
            "Copying gs://vaa2114_dl_2019/validate/level7/non_tumor/level_7_19200_172800_50_tumor_057.tif...\n",
            "Copying gs://vaa2114_dl_2019/validate/level7/non_tumor/level_7_19200_19200_50_tumor_081.tif...\n",
            "Copying gs://vaa2114_dl_2019/validate/level7/non_tumor/level_7_19200_19200_50_tumor_101.tif...\n",
            "Copying gs://vaa2114_dl_2019/validate/level7/non_tumor/level_7_19200_25600_50_tumor_101.tif...\n",
            "Copying gs://vaa2114_dl_2019/validate/level7/non_tumor/level_7_19200_32000_50_tumor_101.tif...\n",
            "Copying gs://vaa2114_dl_2019/validate/level7/non_tumor/level_7_19200_38400_50_tumor_101.tif...\n",
            "Copying gs://vaa2114_dl_2019/validate/level7/non_tumor/level_7_19200_44800_50_tumor_081.tif...\n",
            "Copying gs://vaa2114_dl_2019/validate/level7/non_tumor/level_7_19200_44800_50_tumor_101.tif...\n",
            "Copying gs://vaa2114_dl_2019/validate/level7/non_tumor/level_7_19200_51200_50_tumor_081.tif...\n",
            "Copying gs://vaa2114_dl_2019/validate/level7/non_tumor/level_7_19200_57600_50_tumor_081.tif...\n",
            "Copying gs://vaa2114_dl_2019/validate/level7/non_tumor/level_7_19200_64000_50_tumor_081.tif...\n",
            "Copying gs://vaa2114_dl_2019/validate/level7/non_tumor/level_7_19200_6400_50_tumor_081.tif...\n",
            "Copying gs://vaa2114_dl_2019/validate/level7/non_tumor/level_7_25600_102400_50_tumor_057.tif...\n",
            "Copying gs://vaa2114_dl_2019/validate/level7/non_tumor/level_7_25600_108800_50_tumor_057.tif...\n",
            "Copying gs://vaa2114_dl_2019/validate/level7/non_tumor/level_7_25600_121600_50_tumor_057.tif...\n",
            "Copying gs://vaa2114_dl_2019/validate/level7/non_tumor/level_7_25600_128000_50_tumor_057.tif...\n",
            "Copying gs://vaa2114_dl_2019/validate/level7/non_tumor/level_7_25600_12800_50_tumor_081.tif...\n",
            "Copying gs://vaa2114_dl_2019/validate/level7/non_tumor/level_7_25600_134400_50_tumor_057.tif...\n",
            "Copying gs://vaa2114_dl_2019/validate/level7/non_tumor/level_7_25600_147200_50_tumor_016.tif...\n",
            "Copying gs://vaa2114_dl_2019/validate/level7/non_tumor/level_7_25600_153600_50_tumor_016.tif...\n",
            "Copying gs://vaa2114_dl_2019/validate/level7/non_tumor/level_7_25600_19200_50_tumor_101.tif...\n",
            "Copying gs://vaa2114_dl_2019/validate/level7/non_tumor/level_7_25600_25600_50_tumor_081.tif...\n",
            "Copying gs://vaa2114_dl_2019/validate/level7/non_tumor/level_7_25600_25600_50_tumor_101.tif...\n",
            "Copying gs://vaa2114_dl_2019/validate/level7/non_tumor/level_7_25600_32000_50_tumor_101.tif...\n",
            "Copying gs://vaa2114_dl_2019/validate/level7/non_tumor/level_7_25600_44800_50_tumor_081.tif...\n",
            "Copying gs://vaa2114_dl_2019/validate/level7/non_tumor/level_7_25600_44800_50_tumor_101.tif...\n",
            "Copying gs://vaa2114_dl_2019/validate/level7/non_tumor/level_7_25600_38400_50_tumor_101.tif...\n",
            "Copying gs://vaa2114_dl_2019/validate/level7/non_tumor/level_7_25600_51200_50_tumor_081.tif...\n",
            "Copying gs://vaa2114_dl_2019/validate/level7/non_tumor/level_7_25600_6400_50_tumor_081.tif...\n",
            "Copying gs://vaa2114_dl_2019/validate/level7/non_tumor/level_7_25600_70400_50_tumor_081.tif...\n",
            "Copying gs://vaa2114_dl_2019/validate/level7/non_tumor/level_7_32000_102400_50_tumor_057.tif...\n",
            "Copying gs://vaa2114_dl_2019/validate/level7/non_tumor/level_7_32000_121600_50_tumor_057.tif...\n",
            "Copying gs://vaa2114_dl_2019/validate/level7/non_tumor/level_7_32000_128000_50_tumor_057.tif...\n",
            "Copying gs://vaa2114_dl_2019/validate/level7/non_tumor/level_7_32000_12800_50_tumor_081.tif...\n",
            "Copying gs://vaa2114_dl_2019/validate/level7/non_tumor/level_7_32000_134400_50_tumor_016.tif...\n",
            "Copying gs://vaa2114_dl_2019/validate/level7/non_tumor/level_7_32000_134400_50_tumor_057.tif...\n",
            "Copying gs://vaa2114_dl_2019/validate/level7/non_tumor/level_7_32000_140800_50_tumor_016.tif...\n",
            "Copying gs://vaa2114_dl_2019/validate/level7/non_tumor/level_7_32000_19200_50_tumor_081.tif...\n",
            "Copying gs://vaa2114_dl_2019/validate/level7/non_tumor/level_7_32000_19200_50_tumor_101.tif...\n",
            "Copying gs://vaa2114_dl_2019/validate/level7/non_tumor/level_7_32000_25600_50_tumor_081.tif...\n",
            "Copying gs://vaa2114_dl_2019/validate/level7/non_tumor/level_7_32000_25600_50_tumor_101.tif...\n",
            "Copying gs://vaa2114_dl_2019/validate/level7/non_tumor/level_7_32000_32000_50_tumor_101.tif...\n",
            "Copying gs://vaa2114_dl_2019/validate/level7/non_tumor/level_7_32000_38400_50_tumor_081.tif...\n",
            "Copying gs://vaa2114_dl_2019/validate/level7/non_tumor/level_7_32000_51200_50_tumor_081.tif...\n",
            "Copying gs://vaa2114_dl_2019/validate/level7/non_tumor/level_7_32000_44800_50_tumor_081.tif...\n",
            "Copying gs://vaa2114_dl_2019/validate/level7/non_tumor/level_7_32000_51200_50_tumor_101.tif...\n",
            "Copying gs://vaa2114_dl_2019/validate/level7/non_tumor/level_7_32000_57600_50_tumor_081.tif...\n",
            "Copying gs://vaa2114_dl_2019/validate/level7/non_tumor/level_7_32000_57600_50_tumor_101.tif...\n",
            "Copying gs://vaa2114_dl_2019/validate/level7/non_tumor/level_7_32000_6400_50_tumor_081.tif...\n",
            "Copying gs://vaa2114_dl_2019/validate/level7/non_tumor/level_7_32000_70400_50_tumor_081.tif...\n",
            "Copying gs://vaa2114_dl_2019/validate/level7/non_tumor/level_7_38400_102400_50_tumor_057.tif...\n",
            "Copying gs://vaa2114_dl_2019/validate/level7/non_tumor/level_7_38400_108800_50_tumor_057.tif...\n",
            "Copying gs://vaa2114_dl_2019/validate/level7/non_tumor/level_7_38400_121600_50_tumor_016.tif...\n",
            "Copying gs://vaa2114_dl_2019/validate/level7/non_tumor/level_7_38400_128000_50_tumor_057.tif...\n",
            "Copying gs://vaa2114_dl_2019/validate/level7/non_tumor/level_7_38400_134400_50_tumor_016.tif...\n",
            "Copying gs://vaa2114_dl_2019/validate/level7/non_tumor/level_7_38400_128000_50_tumor_016.tif...\n",
            "Copying gs://vaa2114_dl_2019/validate/level7/non_tumor/level_7_38400_140800_50_tumor_016.tif...\n",
            "Copying gs://vaa2114_dl_2019/validate/level7/non_tumor/level_7_38400_32000_50_tumor_101.tif...\n",
            "Copying gs://vaa2114_dl_2019/validate/level7/non_tumor/level_7_38400_44800_50_tumor_081.tif...\n",
            "Copying gs://vaa2114_dl_2019/validate/level7/non_tumor/level_7_38400_51200_50_tumor_081.tif...\n",
            "Copying gs://vaa2114_dl_2019/validate/level7/non_tumor/level_7_38400_51200_50_tumor_101.tif...\n",
            "Copying gs://vaa2114_dl_2019/validate/level7/non_tumor/level_7_38400_57600_50_tumor_081.tif...\n",
            "Copying gs://vaa2114_dl_2019/validate/level7/non_tumor/level_7_38400_57600_50_tumor_101.tif...\n",
            "Copying gs://vaa2114_dl_2019/validate/level7/non_tumor/level_7_38400_70400_50_tumor_081.tif...\n",
            "Copying gs://vaa2114_dl_2019/validate/level7/non_tumor/level_7_44800_102400_50_tumor_057.tif...\n",
            "Copying gs://vaa2114_dl_2019/validate/level7/non_tumor/level_7_44800_108800_50_tumor_016.tif...\n",
            "Copying gs://vaa2114_dl_2019/validate/level7/non_tumor/level_7_44800_121600_50_tumor_057.tif...\n",
            "Copying gs://vaa2114_dl_2019/validate/level7/non_tumor/level_7_44800_128000_50_tumor_016.tif...\n",
            "Copying gs://vaa2114_dl_2019/validate/level7/non_tumor/level_7_44800_12800_50_tumor_101.tif...\n",
            "Copying gs://vaa2114_dl_2019/validate/level7/non_tumor/level_7_44800_134400_50_tumor_016.tif...\n",
            "Copying gs://vaa2114_dl_2019/validate/level7/non_tumor/level_7_44800_140800_50_tumor_016.tif...\n",
            "Copying gs://vaa2114_dl_2019/validate/level7/non_tumor/level_7_44800_38400_50_tumor_081.tif...\n",
            "Copying gs://vaa2114_dl_2019/validate/level7/non_tumor/level_7_44800_44800_50_tumor_081.tif...\n",
            "Copying gs://vaa2114_dl_2019/validate/level7/non_tumor/level_7_44800_44800_50_tumor_101.tif...\n",
            "Copying gs://vaa2114_dl_2019/validate/level7/non_tumor/level_7_44800_51200_50_tumor_081.tif...\n",
            "Copying gs://vaa2114_dl_2019/validate/level7/non_tumor/level_7_44800_51200_50_tumor_101.tif...\n",
            "Copying gs://vaa2114_dl_2019/validate/level7/non_tumor/level_7_44800_57600_50_tumor_101.tif...\n",
            "Copying gs://vaa2114_dl_2019/validate/level7/non_tumor/level_7_44800_6400_50_tumor_101.tif...\n",
            "Copying gs://vaa2114_dl_2019/validate/level7/non_tumor/level_7_44800_83200_50_tumor_081.tif...\n",
            "Copying gs://vaa2114_dl_2019/validate/level7/non_tumor/level_7_44800_96000_50_tumor_016.tif...\n",
            "Copying gs://vaa2114_dl_2019/validate/level7/non_tumor/level_7_51200_102400_50_tumor_016.tif...\n",
            "Copying gs://vaa2114_dl_2019/validate/level7/non_tumor/level_7_51200_108800_50_tumor_016.tif...\n",
            "Copying gs://vaa2114_dl_2019/validate/level7/non_tumor/level_7_51200_128000_50_tumor_057.tif...\n",
            "Copying gs://vaa2114_dl_2019/validate/level7/non_tumor/level_7_51200_12800_50_tumor_101.tif...\n",
            "Copying gs://vaa2114_dl_2019/validate/level7/non_tumor/level_7_51200_140800_50_tumor_016.tif...\n",
            "Copying gs://vaa2114_dl_2019/validate/level7/non_tumor/level_7_51200_134400_50_tumor_016.tif...\n",
            "Copying gs://vaa2114_dl_2019/validate/level7/non_tumor/level_7_51200_147200_50_tumor_016.tif...\n",
            "Copying gs://vaa2114_dl_2019/validate/level7/non_tumor/level_7_51200_147200_50_tumor_057.tif...\n",
            "Copying gs://vaa2114_dl_2019/validate/level7/non_tumor/level_7_51200_153600_50_tumor_016.tif...\n",
            "Copying gs://vaa2114_dl_2019/validate/level7/non_tumor/level_7_51200_153600_50_tumor_057.tif...\n",
            "Copying gs://vaa2114_dl_2019/validate/level7/non_tumor/level_7_51200_160000_50_tumor_057.tif...\n",
            "Copying gs://vaa2114_dl_2019/validate/level7/non_tumor/level_7_51200_19200_50_tumor_101.tif...\n",
            "Copying gs://vaa2114_dl_2019/validate/level7/non_tumor/level_7_51200_25600_50_tumor_101.tif...\n",
            "Copying gs://vaa2114_dl_2019/validate/level7/non_tumor/level_7_51200_38400_50_tumor_081.tif...\n",
            "Copying gs://vaa2114_dl_2019/validate/level7/non_tumor/level_7_51200_44800_50_tumor_101.tif...\n",
            "Copying gs://vaa2114_dl_2019/validate/level7/non_tumor/level_7_51200_51200_50_tumor_101.tif...\n",
            "Copying gs://vaa2114_dl_2019/validate/level7/non_tumor/level_7_51200_57600_50_tumor_101.tif...\n",
            "Copying gs://vaa2114_dl_2019/validate/level7/non_tumor/level_7_51200_96000_50_tumor_016.tif...\n",
            "Copying gs://vaa2114_dl_2019/validate/level7/non_tumor/level_7_51200_6400_50_tumor_101.tif...\n",
            "Copying gs://vaa2114_dl_2019/validate/level7/non_tumor/level_7_51200_83200_50_tumor_081.tif...\n",
            "Copying gs://vaa2114_dl_2019/validate/level7/non_tumor/level_7_57600_102400_50_tumor_016.tif...\n",
            "Copying gs://vaa2114_dl_2019/validate/level7/non_tumor/level_7_57600_108800_50_tumor_016.tif...\n",
            "Copying gs://vaa2114_dl_2019/validate/level7/non_tumor/level_7_57600_12800_50_tumor_081.tif...\n",
            "Copying gs://vaa2114_dl_2019/validate/level7/non_tumor/level_7_57600_147200_50_tumor_057.tif...\n",
            "Copying gs://vaa2114_dl_2019/validate/level7/non_tumor/level_7_57600_153600_50_tumor_057.tif...\n",
            "Copying gs://vaa2114_dl_2019/validate/level7/non_tumor/level_7_57600_160000_50_tumor_057.tif...\n",
            "Copying gs://vaa2114_dl_2019/validate/level7/non_tumor/level_7_57600_57600_50_tumor_081.tif...\n",
            "Copying gs://vaa2114_dl_2019/validate/level7/non_tumor/level_7_57600_64000_50_tumor_081.tif...\n",
            "Copying gs://vaa2114_dl_2019/validate/level7/non_tumor/level_7_57600_6400_50_tumor_081.tif...\n",
            "Copying gs://vaa2114_dl_2019/validate/level7/non_tumor/level_7_57600_70400_50_tumor_081.tif...\n",
            "Copying gs://vaa2114_dl_2019/validate/level7/non_tumor/level_7_57600_76800_50_tumor_081.tif...\n",
            "Copying gs://vaa2114_dl_2019/validate/level7/non_tumor/level_7_57600_83200_50_tumor_081.tif...\n",
            "Copying gs://vaa2114_dl_2019/validate/level7/non_tumor/level_7_57600_96000_50_tumor_016.tif...\n",
            "Copying gs://vaa2114_dl_2019/validate/level7/non_tumor/level_7_64000_12800_50_tumor_081.tif...\n",
            "Copying gs://vaa2114_dl_2019/validate/level7/non_tumor/level_7_64000_160000_50_tumor_057.tif...\n",
            "Copying gs://vaa2114_dl_2019/validate/level7/non_tumor/level_7_64000_25600_50_tumor_081.tif...\n",
            "Copying gs://vaa2114_dl_2019/validate/level7/non_tumor/level_7_64000_32000_50_tumor_081.tif...\n",
            "Copying gs://vaa2114_dl_2019/validate/level7/non_tumor/level_7_64000_44800_50_tumor_081.tif...\n",
            "Copying gs://vaa2114_dl_2019/validate/level7/non_tumor/level_7_64000_57600_50_tumor_081.tif...\n",
            "Copying gs://vaa2114_dl_2019/validate/level7/non_tumor/level_7_64000_51200_50_tumor_081.tif...\n",
            "Copying gs://vaa2114_dl_2019/validate/level7/non_tumor/level_7_64000_64000_50_tumor_081.tif...\n",
            "Copying gs://vaa2114_dl_2019/validate/level7/non_tumor/level_7_64000_6400_50_tumor_081.tif...\n",
            "Copying gs://vaa2114_dl_2019/validate/level7/non_tumor/level_7_64000_70400_50_tumor_081.tif...\n",
            "Copying gs://vaa2114_dl_2019/validate/level7/non_tumor/level_7_64000_76800_50_tumor_081.tif...\n",
            "Copying gs://vaa2114_dl_2019/validate/level7/non_tumor/level_7_6400_19200_50_tumor_081.tif...\n",
            "Copying gs://vaa2114_dl_2019/validate/level7/non_tumor/level_7_6400_19200_50_tumor_101.tif...\n",
            "Copying gs://vaa2114_dl_2019/validate/level7/non_tumor/level_7_70400_12800_50_tumor_081.tif...\n",
            "Copying gs://vaa2114_dl_2019/validate/level7/non_tumor/level_7_70400_19200_50_tumor_081.tif...\n",
            "Copying gs://vaa2114_dl_2019/validate/level7/non_tumor/level_7_70400_51200_50_tumor_081.tif...\n",
            "Copying gs://vaa2114_dl_2019/validate/level7/non_tumor/level_7_70400_44800_50_tumor_081.tif...\n",
            "Copying gs://vaa2114_dl_2019/validate/level7/non_tumor/level_7_70400_57600_50_tumor_081.tif...\n",
            "Copying gs://vaa2114_dl_2019/validate/level7/non_tumor/level_7_70400_6400_50_tumor_081.tif...\n",
            "Copying gs://vaa2114_dl_2019/validate/level7/non_tumor/level_7_76800_12800_50_tumor_081.tif...\n",
            "Copying gs://vaa2114_dl_2019/validate/level7/non_tumor/level_7_83200_12800_50_tumor_101.tif...\n",
            "Copying gs://vaa2114_dl_2019/validate/level7/non_tumor/level_7_83200_19200_50_tumor_101.tif...\n",
            "Copying gs://vaa2114_dl_2019/validate/level7/non_tumor/level_7_89600_19200_50_tumor_101.tif...\n",
            "Copying gs://vaa2114_dl_2019/validate/level7/non_tumor/level_7_89600_25600_50_tumor_101.tif...\n",
            "Copying gs://vaa2114_dl_2019/validate/level7/non_tumor/level_7_89600_32000_50_tumor_101.tif...\n",
            "Copying gs://vaa2114_dl_2019/validate/level7/non_tumor/level_7_89600_38400_50_tumor_101.tif...\n",
            "Copying gs://vaa2114_dl_2019/validate/level7/non_tumor/level_7_96000_19200_50_tumor_101.tif...\n",
            "Copying gs://vaa2114_dl_2019/validate/level7/non_tumor/level_7_96000_25600_50_tumor_101.tif...\n",
            "Copying gs://vaa2114_dl_2019/validate/level7/non_tumor/level_7_96000_32000_50_tumor_101.tif...\n",
            "Copying gs://vaa2114_dl_2019/validate/level7/non_tumor/level_7_96000_38400_50_tumor_101.tif...\n",
            "Copying gs://vaa2114_dl_2019/validate/level7/non_tumor/level_7_96000_44800_50_tumor_101.tif...\n",
            "Copying gs://vaa2114_dl_2019/validate/level7/tumor/level_7_102400_12800_50_tumor_101.tif...\n",
            "Copying gs://vaa2114_dl_2019/validate/level7/tumor/level_7_108800_12800_50_tumor_101.tif...\n",
            "Copying gs://vaa2114_dl_2019/validate/level7/tumor/level_7_108800_19200_50_tumor_101.tif...\n",
            "Copying gs://vaa2114_dl_2019/validate/level7/tumor/level_7_115200_25600_50_tumor_101.tif...\n",
            "Copying gs://vaa2114_dl_2019/validate/level7/tumor/level_7_108800_25600_50_tumor_101.tif...\n",
            "Copying gs://vaa2114_dl_2019/validate/level7/tumor/level_7_108800_38400_50_tumor_101.tif...\n",
            "Copying gs://vaa2114_dl_2019/validate/level7/tumor/level_7_115200_12800_50_tumor_101.tif...\n",
            "Copying gs://vaa2114_dl_2019/validate/level7/tumor/level_7_115200_19200_50_tumor_101.tif...\n",
            "Copying gs://vaa2114_dl_2019/validate/level7/tumor/level_7_121600_19200_50_tumor_101.tif...\n",
            "Copying gs://vaa2114_dl_2019/validate/level7/tumor/level_7_12800_140800_50_tumor_057.tif...\n",
            "Copying gs://vaa2114_dl_2019/validate/level7/tumor/level_7_12800_147200_50_tumor_057.tif...\n",
            "Copying gs://vaa2114_dl_2019/validate/level7/tumor/level_7_12800_153600_50_tumor_057.tif...\n",
            "Copying gs://vaa2114_dl_2019/validate/level7/tumor/level_7_25600_160000_50_tumor_016.tif...\n",
            "Copying gs://vaa2114_dl_2019/validate/level7/tumor/level_7_25600_166400_50_tumor_016.tif...\n",
            "Copying gs://vaa2114_dl_2019/validate/level7/tumor/level_7_19200_12800_50_tumor_101.tif...\n",
            "Copying gs://vaa2114_dl_2019/validate/level7/tumor/level_7_25600_12800_50_tumor_101.tif...\n",
            "Copying gs://vaa2114_dl_2019/validate/level7/tumor/level_7_32000_153600_50_tumor_016.tif...\n",
            "Copying gs://vaa2114_dl_2019/validate/level7/tumor/level_7_32000_12800_50_tumor_101.tif...\n",
            "Copying gs://vaa2114_dl_2019/validate/level7/tumor/level_7_32000_160000_50_tumor_016.tif...\n",
            "Copying gs://vaa2114_dl_2019/validate/level7/tumor/level_7_32000_147200_50_tumor_016.tif...\n",
            "Copying gs://vaa2114_dl_2019/validate/level7/tumor/level_7_32000_166400_50_tumor_016.tif...\n",
            "Copying gs://vaa2114_dl_2019/validate/level7/tumor/level_7_32000_38400_50_tumor_101.tif...\n",
            "Copying gs://vaa2114_dl_2019/validate/level7/tumor/level_7_32000_44800_50_tumor_101.tif...\n",
            "Copying gs://vaa2114_dl_2019/validate/level7/tumor/level_7_38400_147200_50_tumor_016.tif...\n",
            "Copying gs://vaa2114_dl_2019/validate/level7/tumor/level_7_38400_12800_50_tumor_101.tif...\n",
            "Copying gs://vaa2114_dl_2019/validate/level7/tumor/level_7_38400_153600_50_tumor_016.tif...\n",
            "Copying gs://vaa2114_dl_2019/validate/level7/tumor/level_7_38400_166400_50_tumor_016.tif...\n",
            "Copying gs://vaa2114_dl_2019/validate/level7/tumor/level_7_38400_160000_50_tumor_016.tif...\n",
            "Copying gs://vaa2114_dl_2019/validate/level7/tumor/level_7_38400_19200_50_tumor_101.tif...\n",
            "Copying gs://vaa2114_dl_2019/validate/level7/tumor/level_7_38400_25600_50_tumor_101.tif...\n",
            "Copying gs://vaa2114_dl_2019/validate/level7/tumor/level_7_38400_38400_50_tumor_081.tif...\n",
            "Copying gs://vaa2114_dl_2019/validate/level7/tumor/level_7_38400_38400_50_tumor_101.tif...\n",
            "Copying gs://vaa2114_dl_2019/validate/level7/tumor/level_7_44800_147200_50_tumor_016.tif...\n",
            "Copying gs://vaa2114_dl_2019/validate/level7/tumor/level_7_44800_153600_50_tumor_016.tif...\n",
            "Copying gs://vaa2114_dl_2019/validate/level7/tumor/level_7_44800_160000_50_tumor_016.tif...\n",
            "Copying gs://vaa2114_dl_2019/validate/level7/tumor/level_7_44800_19200_50_tumor_101.tif...\n",
            "Copying gs://vaa2114_dl_2019/validate/level7/tumor/level_7_44800_25600_50_tumor_101.tif...\n",
            "Copying gs://vaa2114_dl_2019/validate/level7/tumor/level_7_6400_147200_50_tumor_057.tif...\n",
            "Copying gs://vaa2114_dl_2019/validate/level7/tumor/level_7_89600_12800_50_tumor_101.tif...\n",
            "Copying gs://vaa2114_dl_2019/validate/level7/tumor/level_7_96000_12800_50_tumor_101.tif...\n",
            "Copying gs://vaa2114_dl_2019/validate/level7/tumor/level_7_64000_0_250_tumor_101.tif...\n",
            "| [224/224 files][  5.0 MiB/  5.0 MiB] 100% Done                                \n",
            "Operation completed over 224 objects/5.0 MiB.                                    \n",
            "\n",
            "Downloaded Validation Data\n",
            "# Non Tumor files\n",
            "183\n",
            "# Tumor files\n",
            "41\n"
          ],
          "name": "stdout"
        }
      ]
    },
    {
      "cell_type": "markdown",
      "metadata": {
        "colab_type": "text",
        "id": "-VCfyh7UD14p"
      },
      "source": [
        "### Download Test Set"
      ]
    },
    {
      "cell_type": "code",
      "metadata": {
        "colab_type": "code",
        "outputId": "8030eb97-a5c0-4b2e-dce9-ff00d2c16652",
        "id": "eAIRCOFnD14q",
        "colab": {
          "base_uri": "https://localhost:8080/",
          "height": 2244
        }
      },
      "source": [
        "!gsutil -m cp -r gs://{GCP_BUCKET_NAME}/{GCP_TEST_DIR} {TEST_DIR}\n",
        " \n",
        "print(\"\\nDownloaded Test Data\")\n",
        "\n",
        "print(\"# Non Tumor files\")\n",
        "!ls \"$LEVEL_TEST_DIR/non_tumor/\" | wc -l\n",
        "print(\"# Tumor files\")\n",
        "!ls \"$LEVEL_TEST_DIR/tumor/\" | wc -l"
      ],
      "execution_count": 21,
      "outputs": [
        {
          "output_type": "stream",
          "text": [
            "Copying gs://vaa2114_dl_2019/test/level7/non_tumor/level_7_102400_12800_50_tumor_094.tif...\n",
            "Copying gs://vaa2114_dl_2019/test/level7/non_tumor/level_7_102400_19200_50_tumor_094.tif...\n",
            "Copying gs://vaa2114_dl_2019/test/level7/non_tumor/level_7_102400_25600_50_tumor_094.tif...\n",
            "Copying gs://vaa2114_dl_2019/test/level7/non_tumor/level_7_102400_38400_50_tumor_094.tif...\n",
            "Copying gs://vaa2114_dl_2019/test/level7/non_tumor/level_7_12800_19200_50_tumor_094.tif...\n",
            "/ [0 files][    0.0 B/ 23.7 KiB]                                                \r/ [0 files][    0.0 B/ 46.3 KiB]                                                \r/ [0 files][    0.0 B/ 69.8 KiB]                                                \r/ [0 files][    0.0 B/ 92.6 KiB]                                                \r/ [0 files][    0.0 B/117.2 KiB]                                                \rCopying gs://vaa2114_dl_2019/test/level7/non_tumor/level_7_12800_25600_50_tumor_094.tif...\n",
            "Copying gs://vaa2114_dl_2019/test/level7/non_tumor/level_7_19200_12800_50_tumor_094.tif...\n",
            "/ [0 files][    0.0 B/140.8 KiB]                                                \r/ [0 files][    0.0 B/161.1 KiB]                                                \rCopying gs://vaa2114_dl_2019/test/level7/non_tumor/level_7_19200_19200_50_tumor_094.tif...\n",
            "/ [0 files][    0.0 B/  2.4 MiB]                                                \rCopying gs://vaa2114_dl_2019/test/level7/non_tumor/level_7_19200_25600_50_tumor_094.tif...\n",
            "Copying gs://vaa2114_dl_2019/test/level7/non_tumor/level_7_19200_32000_50_tumor_094.tif...\n",
            "Copying gs://vaa2114_dl_2019/test/level7/non_tumor/level_7_19200_44800_50_tumor_094.tif...\n",
            "Copying gs://vaa2114_dl_2019/test/level7/non_tumor/level_7_25600_102400_50_tumor_035.tif...\n",
            "Copying gs://vaa2114_dl_2019/test/level7/non_tumor/level_7_25600_108800_50_tumor_035.tif...\n",
            "Copying gs://vaa2114_dl_2019/test/level7/non_tumor/level_7_25600_12800_50_tumor_094.tif...\n",
            "Copying gs://vaa2114_dl_2019/test/level7/non_tumor/level_7_25600_19200_50_tumor_094.tif...\n",
            "Copying gs://vaa2114_dl_2019/test/level7/non_tumor/level_7_25600_25600_50_tumor_094.tif...\n",
            "Copying gs://vaa2114_dl_2019/test/level7/non_tumor/level_7_25600_32000_50_tumor_094.tif...\n",
            "Copying gs://vaa2114_dl_2019/test/level7/non_tumor/level_7_25600_38400_50_tumor_094.tif...\n",
            "Copying gs://vaa2114_dl_2019/test/level7/non_tumor/level_7_25600_44800_50_tumor_094.tif...\n",
            "Copying gs://vaa2114_dl_2019/test/level7/non_tumor/level_7_25600_51200_50_tumor_094.tif...\n",
            "Copying gs://vaa2114_dl_2019/test/level7/non_tumor/level_7_25600_57600_50_tumor_094.tif...\n",
            "Copying gs://vaa2114_dl_2019/test/level7/non_tumor/level_7_25600_83200_50_tumor_035.tif...\n",
            "Copying gs://vaa2114_dl_2019/test/level7/non_tumor/level_7_25600_76800_50_tumor_035.tif...\n",
            "Copying gs://vaa2114_dl_2019/test/level7/non_tumor/level_7_32000_102400_50_tumor_035.tif...\n",
            "Copying gs://vaa2114_dl_2019/test/level7/non_tumor/level_7_25600_96000_50_tumor_035.tif...\n",
            "Copying gs://vaa2114_dl_2019/test/level7/non_tumor/level_7_25600_89600_50_tumor_035.tif...\n",
            "Copying gs://vaa2114_dl_2019/test/level7/non_tumor/level_7_32000_108800_50_tumor_035.tif...\n",
            "Copying gs://vaa2114_dl_2019/test/level7/non_tumor/level_7_32000_12800_50_tumor_094.tif...\n",
            "Copying gs://vaa2114_dl_2019/test/level7/non_tumor/level_7_32000_25600_50_tumor_094.tif...\n",
            "Copying gs://vaa2114_dl_2019/test/level7/non_tumor/level_7_32000_19200_50_tumor_094.tif...\n",
            "Copying gs://vaa2114_dl_2019/test/level7/non_tumor/level_7_32000_32000_50_tumor_094.tif...\n",
            "Copying gs://vaa2114_dl_2019/test/level7/non_tumor/level_7_32000_51200_50_tumor_094.tif...\n",
            "Copying gs://vaa2114_dl_2019/test/level7/non_tumor/level_7_32000_57600_50_tumor_094.tif...\n",
            "Copying gs://vaa2114_dl_2019/test/level7/non_tumor/level_7_32000_64000_250_tumor_094.tif...\n",
            "Copying gs://vaa2114_dl_2019/test/level7/non_tumor/level_7_32000_64000_50_tumor_094.tif...\n",
            "Copying gs://vaa2114_dl_2019/test/level7/non_tumor/level_7_32000_6400_50_tumor_094.tif...\n",
            "Copying gs://vaa2114_dl_2019/test/level7/non_tumor/level_7_32000_64000_50_tumor_035.tif...\n",
            "Copying gs://vaa2114_dl_2019/test/level7/non_tumor/level_7_32000_70400_50_tumor_035.tif...\n",
            "Copying gs://vaa2114_dl_2019/test/level7/non_tumor/level_7_32000_70400_50_tumor_094.tif...\n",
            "Copying gs://vaa2114_dl_2019/test/level7/non_tumor/level_7_32000_76800_50_tumor_035.tif...\n",
            "Copying gs://vaa2114_dl_2019/test/level7/non_tumor/level_7_32000_83200_50_tumor_035.tif...\n",
            "Copying gs://vaa2114_dl_2019/test/level7/non_tumor/level_7_32000_89600_50_tumor_035.tif...\n",
            "Copying gs://vaa2114_dl_2019/test/level7/non_tumor/level_7_38400_108800_50_tumor_035.tif...\n",
            "Copying gs://vaa2114_dl_2019/test/level7/non_tumor/level_7_32000_96000_50_tumor_035.tif...\n",
            "Copying gs://vaa2114_dl_2019/test/level7/non_tumor/level_7_38400_12800_50_tumor_094.tif...\n",
            "Copying gs://vaa2114_dl_2019/test/level7/non_tumor/level_7_38400_19200_50_tumor_094.tif...\n",
            "Copying gs://vaa2114_dl_2019/test/level7/non_tumor/level_7_38400_102400_50_tumor_035.tif...\n",
            "Copying gs://vaa2114_dl_2019/test/level7/non_tumor/level_7_38400_44800_50_tumor_094.tif...\n",
            "Copying gs://vaa2114_dl_2019/test/level7/non_tumor/level_7_38400_51200_50_tumor_094.tif...\n",
            "Copying gs://vaa2114_dl_2019/test/level7/non_tumor/level_7_38400_57600_50_tumor_094.tif...\n",
            "Copying gs://vaa2114_dl_2019/test/level7/non_tumor/level_7_38400_64000_50_tumor_094.tif...\n",
            "Copying gs://vaa2114_dl_2019/test/level7/non_tumor/level_7_38400_70400_50_tumor_035.tif...\n",
            "Copying gs://vaa2114_dl_2019/test/level7/non_tumor/level_7_38400_70400_50_tumor_094.tif...\n",
            "Copying gs://vaa2114_dl_2019/test/level7/non_tumor/level_7_38400_76800_50_tumor_094.tif...\n",
            "Copying gs://vaa2114_dl_2019/test/level7/non_tumor/level_7_44800_57600_50_tumor_094.tif...\n",
            "Copying gs://vaa2114_dl_2019/test/level7/non_tumor/level_7_44800_51200_50_tumor_094.tif...\n",
            "Copying gs://vaa2114_dl_2019/test/level7/non_tumor/level_7_38400_89600_50_tumor_035.tif...\n",
            "Copying gs://vaa2114_dl_2019/test/level7/non_tumor/level_7_44800_70400_50_tumor_094.tif...\n",
            "Copying gs://vaa2114_dl_2019/test/level7/non_tumor/level_7_44800_64000_50_tumor_094.tif...\n",
            "Copying gs://vaa2114_dl_2019/test/level7/non_tumor/level_7_44800_76800_50_tumor_094.tif...\n",
            "Copying gs://vaa2114_dl_2019/test/level7/non_tumor/level_7_51200_51200_50_tumor_094.tif...\n",
            "Copying gs://vaa2114_dl_2019/test/level7/non_tumor/level_7_51200_57600_50_tumor_094.tif...\n",
            "Copying gs://vaa2114_dl_2019/test/level7/non_tumor/level_7_51200_64000_50_tumor_094.tif...\n",
            "Copying gs://vaa2114_dl_2019/test/level7/non_tumor/level_7_51200_70400_50_tumor_094.tif...\n",
            "Copying gs://vaa2114_dl_2019/test/level7/non_tumor/level_7_51200_76800_50_tumor_094.tif...\n",
            "Copying gs://vaa2114_dl_2019/test/level7/non_tumor/level_7_51200_83200_50_tumor_094.tif...\n",
            "Copying gs://vaa2114_dl_2019/test/level7/non_tumor/level_7_57600_25600_50_tumor_094.tif...\n",
            "Copying gs://vaa2114_dl_2019/test/level7/non_tumor/level_7_57600_57600_50_tumor_094.tif...\n",
            "Copying gs://vaa2114_dl_2019/test/level7/non_tumor/level_7_57600_64000_50_tumor_094.tif...\n",
            "Copying gs://vaa2114_dl_2019/test/level7/non_tumor/level_7_57600_32000_50_tumor_094.tif...\n",
            "Copying gs://vaa2114_dl_2019/test/level7/non_tumor/level_7_57600_70400_50_tumor_094.tif...\n",
            "Copying gs://vaa2114_dl_2019/test/level7/non_tumor/level_7_57600_76800_50_tumor_094.tif...\n",
            "Copying gs://vaa2114_dl_2019/test/level7/non_tumor/level_7_57600_83200_50_tumor_035.tif...\n",
            "Copying gs://vaa2114_dl_2019/test/level7/non_tumor/level_7_57600_83200_50_tumor_094.tif...\n",
            "Copying gs://vaa2114_dl_2019/test/level7/non_tumor/level_7_57600_89600_50_tumor_035.tif...\n",
            "Copying gs://vaa2114_dl_2019/test/level7/non_tumor/level_7_64000_12800_50_tumor_094.tif...\n",
            "Copying gs://vaa2114_dl_2019/test/level7/non_tumor/level_7_64000_19200_50_tumor_094.tif...\n",
            "Copying gs://vaa2114_dl_2019/test/level7/non_tumor/level_7_64000_25600_50_tumor_094.tif...\n",
            "Copying gs://vaa2114_dl_2019/test/level7/non_tumor/level_7_64000_38400_50_tumor_094.tif...\n",
            "Copying gs://vaa2114_dl_2019/test/level7/non_tumor/level_7_57600_96000_50_tumor_035.tif...\n",
            "Copying gs://vaa2114_dl_2019/test/level7/non_tumor/level_7_64000_57600_50_tumor_094.tif...\n",
            "Copying gs://vaa2114_dl_2019/test/level7/non_tumor/level_7_64000_32000_50_tumor_094.tif...\n",
            "Copying gs://vaa2114_dl_2019/test/level7/non_tumor/level_7_64000_64000_50_tumor_094.tif...\n",
            "Copying gs://vaa2114_dl_2019/test/level7/non_tumor/level_7_64000_70400_50_tumor_094.tif...\n",
            "Copying gs://vaa2114_dl_2019/test/level7/non_tumor/level_7_64000_83200_50_tumor_094.tif...\n",
            "Copying gs://vaa2114_dl_2019/test/level7/non_tumor/level_7_64000_89600_50_tumor_035.tif...\n",
            "Copying gs://vaa2114_dl_2019/test/level7/non_tumor/level_7_64000_76800_50_tumor_094.tif...\n",
            "Copying gs://vaa2114_dl_2019/test/level7/non_tumor/level_7_70400_12800_50_tumor_094.tif...\n",
            "Copying gs://vaa2114_dl_2019/test/level7/non_tumor/level_7_70400_19200_50_tumor_094.tif...\n",
            "Copying gs://vaa2114_dl_2019/test/level7/non_tumor/level_7_70400_38400_50_tumor_094.tif...\n",
            "Copying gs://vaa2114_dl_2019/test/level7/non_tumor/level_7_64000_89600_50_tumor_094.tif...\n",
            "Copying gs://vaa2114_dl_2019/test/level7/non_tumor/level_7_64000_96000_50_tumor_035.tif...\n",
            "Copying gs://vaa2114_dl_2019/test/level7/non_tumor/level_7_6400_12800_50_tumor_035.tif...\n",
            "Copying gs://vaa2114_dl_2019/test/level7/non_tumor/level_7_70400_76800_50_tumor_094.tif...\n",
            "Copying gs://vaa2114_dl_2019/test/level7/non_tumor/level_7_70400_83200_50_tumor_094.tif...\n",
            "Copying gs://vaa2114_dl_2019/test/level7/non_tumor/level_7_76800_12800_50_tumor_094.tif...\n",
            "Copying gs://vaa2114_dl_2019/test/level7/non_tumor/level_7_76800_19200_50_tumor_094.tif...\n",
            "Copying gs://vaa2114_dl_2019/test/level7/non_tumor/level_7_76800_38400_50_tumor_094.tif...\n",
            "Copying gs://vaa2114_dl_2019/test/level7/non_tumor/level_7_83200_12800_50_tumor_035.tif...\n",
            "Copying gs://vaa2114_dl_2019/test/level7/non_tumor/level_7_76800_70400_50_tumor_094.tif...\n",
            "Copying gs://vaa2114_dl_2019/test/level7/non_tumor/level_7_83200_12800_50_tumor_094.tif...\n",
            "Copying gs://vaa2114_dl_2019/test/level7/non_tumor/level_7_83200_19200_50_tumor_094.tif...\n",
            "Copying gs://vaa2114_dl_2019/test/level7/non_tumor/level_7_83200_38400_50_tumor_094.tif...\n",
            "Copying gs://vaa2114_dl_2019/test/level7/non_tumor/level_7_89600_12800_50_tumor_035.tif...\n",
            "Copying gs://vaa2114_dl_2019/test/level7/non_tumor/level_7_89600_19200_50_tumor_094.tif...\n",
            "Copying gs://vaa2114_dl_2019/test/level7/non_tumor/level_7_89600_12800_50_tumor_094.tif...\n",
            "Copying gs://vaa2114_dl_2019/test/level7/non_tumor/level_7_89600_25600_50_tumor_094.tif...\n",
            "Copying gs://vaa2114_dl_2019/test/level7/non_tumor/level_7_89600_32000_50_tumor_094.tif...\n",
            "Copying gs://vaa2114_dl_2019/test/level7/non_tumor/level_7_89600_38400_50_tumor_094.tif...\n",
            "Copying gs://vaa2114_dl_2019/test/level7/non_tumor/level_7_96000_12800_50_tumor_094.tif...\n",
            "Copying gs://vaa2114_dl_2019/test/level7/non_tumor/level_7_96000_19200_50_tumor_094.tif...\n",
            "Copying gs://vaa2114_dl_2019/test/level7/non_tumor/level_7_96000_25600_50_tumor_094.tif...\n",
            "Copying gs://vaa2114_dl_2019/test/level7/non_tumor/level_7_96000_32000_50_tumor_094.tif...\n",
            "Copying gs://vaa2114_dl_2019/test/level7/non_tumor/level_7_96000_38400_50_tumor_094.tif...\n",
            "Copying gs://vaa2114_dl_2019/test/level7/tumor/level_7_32000_44800_50_tumor_094.tif...\n",
            "Copying gs://vaa2114_dl_2019/test/level7/tumor/level_7_38400_83200_50_tumor_035.tif...\n",
            "Copying gs://vaa2114_dl_2019/test/level7/tumor/level_7_70400_25600_50_tumor_094.tif...\n",
            "Copying gs://vaa2114_dl_2019/test/level7/tumor/level_7_70400_32000_50_tumor_094.tif...\n",
            "Copying gs://vaa2114_dl_2019/test/level7/tumor/level_7_38400_96000_50_tumor_035.tif...\n",
            "Copying gs://vaa2114_dl_2019/test/level7/tumor/level_7_76800_32000_50_tumor_094.tif...\n",
            "Copying gs://vaa2114_dl_2019/test/level7/tumor/level_7_83200_25600_50_tumor_094.tif...\n",
            "Copying gs://vaa2114_dl_2019/test/level7/tumor/level_7_83200_32000_50_tumor_094.tif...\n",
            "Copying gs://vaa2114_dl_2019/test/level7/tumor/level_7_76800_25600_50_tumor_094.tif...\n",
            "\\ [123/123 files][  3.0 MiB/  3.0 MiB] 100% Done                                \n",
            "Operation completed over 123 objects/3.0 MiB.                                    \n",
            "\n",
            "Downloaded Test Data\n",
            "# Non Tumor files\n",
            "114\n",
            "# Tumor files\n",
            "9\n"
          ],
          "name": "stdout"
        }
      ]
    },
    {
      "cell_type": "markdown",
      "metadata": {
        "id": "gQcUPZou7Q-u",
        "colab_type": "text"
      },
      "source": [
        "### Rebalancing the ratio of tumor/non tumor files"
      ]
    },
    {
      "cell_type": "code",
      "metadata": {
        "id": "88QEPsUD7Plc",
        "colab_type": "code",
        "colab": {
          "base_uri": "https://localhost:8080/",
          "height": 51
        },
        "outputId": "afbbf7f9-f7d7-4e10-f9b7-086b8d399dd3"
      },
      "source": [
        "!find /tmp/train/level7/non_tumor -type f -print0 | sort -zR | tail -zn +213 | xargs -0 rm\n",
        "!find /tmp/train/level7/tumor -type f -print0 | sort -zR | tail -zn +213 | xargs -0 rm\n",
        "\n",
        "!find /tmp/validate/level7/non_tumor -type f -print0 | sort -zR | tail -zn +42 | xargs -0 rm\n",
        "!find /tmp/validate/level7/tumor -type f -print0 | sort -zR | tail -zn +42 | xargs -0 rm"
      ],
      "execution_count": 25,
      "outputs": [
        {
          "output_type": "stream",
          "text": [
            "rm: missing operand\n",
            "Try 'rm --help' for more information.\n"
          ],
          "name": "stdout"
        }
      ]
    },
    {
      "cell_type": "code",
      "metadata": {
        "id": "dE6WdTi1U6VS",
        "colab_type": "code",
        "outputId": "459b1c0f-a2a5-47dd-bd31-135f1b525bb4",
        "colab": {
          "base_uri": "https://localhost:8080/",
          "height": 68
        }
      },
      "source": [
        "train_tumor_dir = os.path.join(LEVEL_TRAIN_DIR, \"tumor\")\n",
        "train_non_tumor_dir = os.path.join(LEVEL_TRAIN_DIR, \"non_tumor\")\n",
        "\n",
        "val_tumor_dir = os.path.join(LEVEL_VAL_DIR, \"tumor\")\n",
        "val_non_tumor_dir = os.path.join(LEVEL_VAL_DIR, \"non_tumor\")\n",
        "\n",
        "test_tumor_dir = os.path.join(LEVEL_TEST_DIR, \"tumor\")\n",
        "test_non_tumor_dir = os.path.join(LEVEL_TEST_DIR, \"non_tumor\")\n",
        "\n",
        "\n",
        "tot_train_tumor = len(os.listdir(train_tumor_dir))\n",
        "tot_train_non_tumor = len(os.listdir(train_non_tumor_dir))\n",
        "\n",
        "tot_val_tumor = len(os.listdir(val_tumor_dir))\n",
        "tot_val_non_tumor = len(os.listdir(val_non_tumor_dir))\n",
        "\n",
        "tot_test_tumor = len(os.listdir(test_tumor_dir))\n",
        "tot_test_non_tumor = len(os.listdir(test_non_tumor_dir))\n",
        "\n",
        "total_train = tot_train_tumor + tot_train_non_tumor\n",
        "total_val = tot_val_tumor + tot_val_non_tumor\n",
        "total_test = tot_test_tumor + tot_test_non_tumor\n",
        "\n",
        "print(\"Total Train:\", total_train)\n",
        "print(\"Total Val:\", total_val)\n",
        "print(\"Total Test:\", total_test)\n"
      ],
      "execution_count": 26,
      "outputs": [
        {
          "output_type": "stream",
          "text": [
            "Total Train: 424\n",
            "Total Val: 82\n",
            "Total Test: 123\n"
          ],
          "name": "stdout"
        }
      ]
    },
    {
      "cell_type": "markdown",
      "metadata": {
        "id": "cX-eHXOUWLaz",
        "colab_type": "text"
      },
      "source": [
        "### Extracting the Window size from the file name\n"
      ]
    },
    {
      "cell_type": "code",
      "metadata": {
        "id": "2HLRx69nWLvE",
        "colab_type": "code",
        "outputId": "ea9089d4-8706-47e3-de47-42cf641fdebf",
        "colab": {
          "base_uri": "https://localhost:8080/",
          "height": 34
        }
      },
      "source": [
        "WINDOW = int(os.listdir(train_tumor_dir)[0].split('_')[4])\n",
        "print(\"SLIDING WINDOW SIZE: \", WINDOW)"
      ],
      "execution_count": 27,
      "outputs": [
        {
          "output_type": "stream",
          "text": [
            "SLIDING WINDOW SIZE:  50\n"
          ],
          "name": "stdout"
        }
      ]
    },
    {
      "cell_type": "markdown",
      "metadata": {
        "id": "VYTQJgSbuDZX",
        "colab_type": "text"
      },
      "source": [
        "### Util functions"
      ]
    },
    {
      "cell_type": "code",
      "metadata": {
        "id": "9DnPgsll-Biq",
        "colab_type": "code",
        "colab": {}
      },
      "source": [
        "# This function will plot images in a grid with 1 row and 5 columns\n",
        "def plotImages(images_arr):\n",
        "    fig, axes = plt.subplots(1, 5, figsize=(20,20))\n",
        "    axes = axes.flatten()\n",
        "    for img, ax in zip( images_arr, axes):\n",
        "        ax.grid(False)\n",
        "        ax.imshow(img)\n",
        "    plt.tight_layout()\n",
        "    plt.show()"
      ],
      "execution_count": 0,
      "outputs": []
    },
    {
      "cell_type": "code",
      "metadata": {
        "id": "N7tLFPD1uCEN",
        "colab_type": "code",
        "colab": {}
      },
      "source": [
        "def getModel(conv_base):\n",
        "  model = Sequential()\n",
        "  model.add(conv_base)\n",
        "  model.add(Flatten())\n",
        "  model.add(Dropout(0.5))\n",
        "  model.add(Dense(216, activation='relu'))\n",
        "  model.add(Dense(NUM_OF_CLASSES, activation='softmax'))\n",
        "  \n",
        "  return model"
      ],
      "execution_count": 0,
      "outputs": []
    },
    {
      "cell_type": "code",
      "metadata": {
        "id": "e-ue8-Eturr3",
        "colab_type": "code",
        "colab": {}
      },
      "source": [
        "# Compile and build\n",
        "\n",
        "def trainModel(model, total_train, total_val, \n",
        "               train_data_gen, val_data_gen, EPOCHS):\n",
        "  model.compile(loss='categorical_crossentropy',\n",
        "                optimizer='adam',\n",
        "                metrics=['acc'])\n",
        "\n",
        "  history = model.fit_generator(\n",
        "        train_data_gen,\n",
        "        steps_per_epoch=int(np.ceil(total_train / float(BATCH_SIZE))),\n",
        "        epochs=EPOCHS,\n",
        "        validation_data=val_data_gen,\n",
        "        validation_steps=int(np.ceil(total_val / float(BATCH_SIZE))),\n",
        "        verbose=2)\n",
        "  \n",
        "  return history"
      ],
      "execution_count": 0,
      "outputs": []
    },
    {
      "cell_type": "code",
      "metadata": {
        "id": "EUa6tuwW-Frn",
        "colab_type": "code",
        "colab": {}
      },
      "source": [
        "# Print Train/Validate accuracy and loss\n",
        "\n",
        "def plotTrainVal(history, EPOCHS):\n",
        "\n",
        "  acc = history.history['acc']\n",
        "  val_acc = history.history['val_acc']\n",
        "\n",
        "  loss = history.history['loss']\n",
        "  val_loss = history.history['val_loss']\n",
        "\n",
        "  epochs_range = range(1, EPOCHS+1)\n",
        "\n",
        "  plt.figure(figsize=(8, 8))\n",
        "  plt.subplot(1, 2, 1)\n",
        "  plt.plot(epochs_range, acc, label='Training Accuracy')\n",
        "  plt.plot(epochs_range, val_acc, label='Validation Accuracy')\n",
        "  plt.legend(loc='lower right')\n",
        "  plt.title('Training and Validation Accuracy')\n",
        "\n",
        "  plt.subplot(1, 2, 2)\n",
        "  plt.plot(epochs_range, loss, label='Training Loss')\n",
        "  plt.plot(epochs_range, val_loss, label='Validation Loss')\n",
        "  plt.legend(loc='upper right')\n",
        "  plt.title('Training and Validation Loss')\n",
        "  plt.show()"
      ],
      "execution_count": 0,
      "outputs": []
    },
    {
      "cell_type": "code",
      "metadata": {
        "id": "dg8oEnvP_VeJ",
        "colab_type": "code",
        "colab": {}
      },
      "source": [
        "import itertools\n",
        "from sklearn.metrics import confusion_matrix\n",
        "\n",
        "def plot_confusion_matrix(cm, classes,\n",
        "                          normalize=False,\n",
        "                          title='Confusion matrix',\n",
        "                          cmap=plt.cm.Blues):\n",
        "    \"\"\"\n",
        "    This function prints and plots the confusion matrix.\n",
        "    Normalization can be applied by setting `normalize=True`.\n",
        "    \"\"\"\n",
        "    if normalize:\n",
        "        cm = cm.astype('float') / cm.sum(axis=1)[:, np.newaxis]\n",
        "        print(\"Normalized confusion matrix\")\n",
        "    else:\n",
        "        print('Confusion matrix, without normalization')\n",
        "\n",
        "    print(cm)\n",
        "\n",
        "    plt.imshow(cm, interpolation='nearest', cmap=cmap)\n",
        "    plt.title(title)\n",
        "    plt.colorbar()\n",
        "    tick_marks = np.arange(len(classes))\n",
        "    plt.xticks(tick_marks, classes, rotation=45)\n",
        "    plt.yticks(tick_marks, classes)\n",
        "\n",
        "    fmt = '.2f' if normalize else 'd'\n",
        "    thresh = cm.max() / 2.\n",
        "    for i, j in itertools.product(range(cm.shape[0]), range(cm.shape[1])):\n",
        "        plt.text(j, i, format(cm[i, j], fmt),\n",
        "                 horizontalalignment=\"center\",\n",
        "                 color=\"white\" if cm[i, j] > thresh else \"black\")\n",
        "\n",
        "    plt.ylabel('True label')\n",
        "    plt.xlabel('Predicted label')\n",
        "    plt.tight_layout()"
      ],
      "execution_count": 0,
      "outputs": []
    },
    {
      "cell_type": "markdown",
      "metadata": {
        "id": "j0SVMBYsAjKv",
        "colab_type": "text"
      },
      "source": [
        "### Image Generators w/ Data Augmentation\n",
        "\n",
        "Rerun before each model training"
      ]
    },
    {
      "cell_type": "code",
      "metadata": {
        "id": "ahLRsFWz0asA",
        "colab_type": "code",
        "outputId": "35ef11fe-d6b2-4fff-f761-8ca2869bf24d",
        "colab": {
          "base_uri": "https://localhost:8080/",
          "height": 68
        }
      },
      "source": [
        "# Images will be resized to(TARGET_SHAPE, TARGET_SHAPE) as they're read off disk.\n",
        "TARGET_SHAPE = 160\n",
        "BATCH_SIZE = 25\n",
        "NUM_CLASSES = 2\n",
        "CLASS_MODE = 'categorical'\n",
        "\n",
        "# image_gen_train = ImageDataGenerator(\n",
        "#       rescale=1./255,\n",
        "#       rotation_range=40,\n",
        "#       width_shift_range=0.2,\n",
        "#       height_shift_range=0.2,\n",
        "#       shear_range=0.2,\n",
        "#       zoom_range=0.2,\n",
        "#       horizontal_flip=True,\n",
        "#       fill_mode='nearest')\n",
        "\n",
        "image_gen_train = ImageDataGenerator(rescale=1./255)\n",
        "train_data_gen = image_gen_train.flow_from_directory(\n",
        "    batch_size=BATCH_SIZE, \n",
        "    directory=LEVEL_TRAIN_DIR, \n",
        "    shuffle=True, \n",
        "    target_size=(TARGET_SHAPE,TARGET_SHAPE),\n",
        "    class_mode=CLASS_MODE)\n",
        "\n",
        "\n",
        "# Validation data should not be augmented!\n",
        "image_gen_val = ImageDataGenerator(rescale=1./255)\n",
        "val_data_gen = image_gen_val.flow_from_directory(\n",
        "    batch_size=BATCH_SIZE, \n",
        "    directory=LEVEL_VAL_DIR,                     \n",
        "    target_size=(TARGET_SHAPE, TARGET_SHAPE),\n",
        "    class_mode=CLASS_MODE)\n",
        "\n",
        "# Test data should not be augmented!\n",
        "image_gen_test = ImageDataGenerator(rescale=1./255)\n",
        "test_data_gen = image_gen_test.flow_from_directory(\n",
        "    batch_size=BATCH_SIZE, \n",
        "    directory=LEVEL_TEST_DIR, \n",
        "    target_size=(TARGET_SHAPE, TARGET_SHAPE),\n",
        "    class_mode=CLASS_MODE)\n"
      ],
      "execution_count": 33,
      "outputs": [
        {
          "output_type": "stream",
          "text": [
            "Found 424 images belonging to 2 classes.\n",
            "Found 82 images belonging to 2 classes.\n",
            "Found 123 images belonging to 2 classes.\n"
          ],
          "name": "stdout"
        }
      ]
    },
    {
      "cell_type": "markdown",
      "metadata": {
        "id": "WAkQv7V9A01A",
        "colab_type": "text"
      },
      "source": [
        "### Sample Training Data after Data Augmentation"
      ]
    },
    {
      "cell_type": "code",
      "metadata": {
        "id": "zi2amzzK9vSr",
        "colab_type": "code",
        "outputId": "bb3aa7c7-2cb3-4b6c-8c21-963c880b13fc",
        "colab": {
          "base_uri": "https://localhost:8080/",
          "height": 317
        }
      },
      "source": [
        "sample_training_images, sample_training_labels = next(train_data_gen)\n",
        "\n",
        "plotImages(sample_training_images[:5])"
      ],
      "execution_count": 34,
      "outputs": [
        {
          "output_type": "display_data",
          "data": {
            "image/png": "[encoded data removed]",
            "text/plain": [
              "<Figure size 1440x1440 with 5 Axes>"
            ]
          },
          "metadata": {
            "tags": []
          }
        }
      ]
    },
    {
      "cell_type": "markdown",
      "metadata": {
        "id": "_sWsseHbA33z",
        "colab_type": "text"
      },
      "source": [
        "### Sample Validation data"
      ]
    },
    {
      "cell_type": "code",
      "metadata": {
        "id": "xmUZMD_U94W1",
        "colab_type": "code",
        "outputId": "2ce1096b-b79c-48ff-b8b6-d6bacee0e72d",
        "colab": {
          "base_uri": "https://localhost:8080/",
          "height": 317
        }
      },
      "source": [
        "sample_val_images, sample_val_labels = next(val_data_gen)\n",
        "\n",
        "plotImages(sample_val_images[:5])"
      ],
      "execution_count": 35,
      "outputs": [
        {
          "output_type": "display_data",
          "data": {
            "image/png": "[encoded data removed]",
            "text/plain": [
              "<Figure size 1440x1440 with 5 Axes>"
            ]
          },
          "metadata": {
            "tags": []
          }
        }
      ]
    },
    {
      "cell_type": "markdown",
      "metadata": {
        "id": "Dn7C7pUSA-vz",
        "colab_type": "text"
      },
      "source": [
        "### Sample Test Data"
      ]
    },
    {
      "cell_type": "code",
      "metadata": {
        "id": "6quBIltoA9Vc",
        "colab_type": "code",
        "outputId": "4151bb6a-7405-4a44-ce8e-0744592dacbe",
        "colab": {
          "base_uri": "https://localhost:8080/",
          "height": 317
        }
      },
      "source": [
        "sample_test_images, sample_test_labels = next(test_data_gen)\n",
        "\n",
        "plotImages(sample_test_images[:5])"
      ],
      "execution_count": 36,
      "outputs": [
        {
          "output_type": "display_data",
          "data": {
            "image/png": "[encoded data removed]",
            "text/plain": [
              "<Figure size 1440x1440 with 5 Axes>"
            ]
          },
          "metadata": {
            "tags": []
          }
        }
      ]
    },
    {
      "cell_type": "markdown",
      "metadata": {
        "id": "ZzEByvuFEooP",
        "colab_type": "text"
      },
      "source": [
        "### Train with Mobile Net"
      ]
    },
    {
      "cell_type": "code",
      "metadata": {
        "id": "DSZBpWq5ASKS",
        "colab_type": "code",
        "colab": {
          "base_uri": "https://localhost:8080/",
          "height": 71
        },
        "outputId": "1c3456ae-f8cb-4b66-e271-f46d98ef9a2c"
      },
      "source": [
        "mobile_net = applications.MobileNetV2(weights='imagenet',include_top=False, input_shape=(TARGET_SHAPE, TARGET_SHAPE, 3))\n",
        "\n",
        "conv_base = mobile_net\n",
        "conv_base.trainable = False\n",
        "\n",
        "model_mobile = getModel(conv_base)"
      ],
      "execution_count": 40,
      "outputs": [
        {
          "output_type": "stream",
          "text": [
            "Downloading data from https://github.com/JonathanCMitchell/mobilenet_v2_keras/releases/download/v1.1/mobilenet_v2_weights_tf_dim_ordering_tf_kernels_1.0_160_no_top.h5\n",
            "9412608/9406464 [==============================] - 1s 0us/step\n"
          ],
          "name": "stdout"
        }
      ]
    },
    {
      "cell_type": "code",
      "metadata": {
        "id": "W96ZK3KiE128",
        "colab_type": "code",
        "outputId": "668edfcf-f3cf-40a4-956e-48d8752a0e73",
        "colab": {
          "base_uri": "https://localhost:8080/",
          "height": 323
        }
      },
      "source": [
        "model_mobile.summary()"
      ],
      "execution_count": 41,
      "outputs": [
        {
          "output_type": "stream",
          "text": [
            "Model: \"sequential_1\"\n",
            "_________________________________________________________________\n",
            "Layer (type)                 Output Shape              Param #   \n",
            "=================================================================\n",
            "mobilenetv2_1.00_160 (Model) (None, 5, 5, 1280)        2257984   \n",
            "_________________________________________________________________\n",
            "flatten_1 (Flatten)          (None, 32000)             0         \n",
            "_________________________________________________________________\n",
            "dropout_1 (Dropout)          (None, 32000)             0         \n",
            "_________________________________________________________________\n",
            "dense_2 (Dense)              (None, 216)               6912216   \n",
            "_________________________________________________________________\n",
            "dense_3 (Dense)              (None, 2)                 434       \n",
            "=================================================================\n",
            "Total params: 9,170,634\n",
            "Trainable params: 6,912,650\n",
            "Non-trainable params: 2,257,984\n",
            "_________________________________________________________________\n"
          ],
          "name": "stdout"
        }
      ]
    },
    {
      "cell_type": "code",
      "metadata": {
        "id": "b9LyUqzEF5pE",
        "colab_type": "code",
        "outputId": "061d2e8b-800f-4ed0-d56d-4289b3b8176a",
        "colab": {
          "base_uri": "https://localhost:8080/",
          "height": 731
        }
      },
      "source": [
        "%%time\n",
        "\n",
        "EPOCHS = 20\n",
        "\n",
        "history_mobile = trainModel(model_mobile, total_train, total_val, \n",
        "           train_data_gen, val_data_gen, EPOCHS)"
      ],
      "execution_count": 42,
      "outputs": [
        {
          "output_type": "stream",
          "text": [
            "Epoch 1/20\n",
            "17/17 - 54s - loss: 6.5798 - acc: 0.5283 - val_loss: 2.2512 - val_acc: 0.7317\n",
            "Epoch 2/20\n",
            "17/17 - 42s - loss: 3.7001 - acc: 0.6840 - val_loss: 4.9200 - val_acc: 0.5366\n",
            "Epoch 3/20\n",
            "17/17 - 44s - loss: 1.9102 - acc: 0.8090 - val_loss: 4.1080 - val_acc: 0.5122\n",
            "Epoch 4/20\n",
            "17/17 - 40s - loss: 1.2524 - acc: 0.8561 - val_loss: 6.6341 - val_acc: 0.4878\n",
            "Epoch 5/20\n",
            "17/17 - 44s - loss: 0.9143 - acc: 0.8844 - val_loss: 3.9717 - val_acc: 0.4878\n",
            "Epoch 6/20\n",
            "17/17 - 42s - loss: 0.6229 - acc: 0.8868 - val_loss: 4.1493 - val_acc: 0.5122\n",
            "Epoch 7/20\n",
            "17/17 - 42s - loss: 0.3684 - acc: 0.9316 - val_loss: 3.6840 - val_acc: 0.5244\n",
            "Epoch 8/20\n",
            "17/17 - 41s - loss: 0.3003 - acc: 0.9458 - val_loss: 2.3932 - val_acc: 0.5244\n",
            "Epoch 9/20\n",
            "17/17 - 41s - loss: 0.3103 - acc: 0.9387 - val_loss: 2.3405 - val_acc: 0.5976\n",
            "Epoch 10/20\n",
            "17/17 - 41s - loss: 0.2056 - acc: 0.9575 - val_loss: 1.8252 - val_acc: 0.6829\n",
            "Epoch 11/20\n",
            "17/17 - 40s - loss: 0.0725 - acc: 0.9811 - val_loss: 2.2605 - val_acc: 0.5976\n",
            "Epoch 12/20\n",
            "17/17 - 40s - loss: 0.1026 - acc: 0.9717 - val_loss: 2.2220 - val_acc: 0.5000\n",
            "Epoch 13/20\n",
            "17/17 - 39s - loss: 0.0567 - acc: 0.9788 - val_loss: 1.9016 - val_acc: 0.6951\n",
            "Epoch 14/20\n",
            "17/17 - 40s - loss: 0.0951 - acc: 0.9835 - val_loss: 1.8088 - val_acc: 0.6463\n",
            "Epoch 15/20\n",
            "17/17 - 40s - loss: 0.0082 - acc: 0.9976 - val_loss: 1.6888 - val_acc: 0.6707\n",
            "Epoch 16/20\n",
            "17/17 - 41s - loss: 0.0508 - acc: 0.9858 - val_loss: 2.1188 - val_acc: 0.5732\n",
            "Epoch 17/20\n",
            "17/17 - 41s - loss: 0.0142 - acc: 0.9906 - val_loss: 1.8856 - val_acc: 0.6463\n",
            "Epoch 18/20\n",
            "17/17 - 42s - loss: 0.0144 - acc: 0.9953 - val_loss: 2.4842 - val_acc: 0.5976\n",
            "Epoch 19/20\n",
            "17/17 - 39s - loss: 0.0370 - acc: 0.9882 - val_loss: 1.7720 - val_acc: 0.6220\n",
            "Epoch 20/20\n",
            "17/17 - 41s - loss: 0.0126 - acc: 0.9953 - val_loss: 2.1951 - val_acc: 0.5976\n",
            "CPU times: user 19min 10s, sys: 25.9 s, total: 19min 36s\n",
            "Wall time: 13min 53s\n"
          ],
          "name": "stdout"
        }
      ]
    },
    {
      "cell_type": "code",
      "metadata": {
        "id": "KVEkqUk1KqmH",
        "colab_type": "code",
        "outputId": "0134adb2-102e-492e-b0b6-e23439026a95",
        "colab": {
          "base_uri": "https://localhost:8080/",
          "height": 499
        }
      },
      "source": [
        "plotTrainVal(history_mobile, EPOCHS)"
      ],
      "execution_count": 43,
      "outputs": [
        {
          "output_type": "display_data",
          "data": {
            "image/png": "[encoded data removed]",
            "text/plain": [
              "<Figure size 576x576 with 2 Axes>"
            ]
          },
          "metadata": {
            "tags": []
          }
        }
      ]
    },
    {
      "cell_type": "code",
      "metadata": {
        "id": "dvPt31fKF-aD",
        "colab_type": "code",
        "outputId": "af5023cb-6f52-4dd7-ebe3-72a0a81f4c9c",
        "colab": {
          "base_uri": "https://localhost:8080/",
          "height": 348
        }
      },
      "source": [
        "predictions_mobile = model_mobile.predict(sample_test_images)\n",
        "y_pred_1= np.argmax(predictions_mobile, axis=1)\n",
        "\n",
        "confusion_matrix_mobile = confusion_matrix(np.argmax(sample_test_labels, axis=1), y_pred_1)\n",
        "plot_confusion_matrix(confusion_matrix_mobile, CLASS_NAMES)"
      ],
      "execution_count": 44,
      "outputs": [
        {
          "output_type": "stream",
          "text": [
            "Confusion matrix, without normalization\n",
            "[[17  5]\n",
            " [ 2  1]]\n"
          ],
          "name": "stdout"
        },
        {
          "output_type": "display_data",
          "data": {
            "image/png": "[encoded data removed]",
            "text/plain": [
              "<Figure size 432x288 with 2 Axes>"
            ]
          },
          "metadata": {
            "tags": []
          }
        }
      ]
    },
    {
      "cell_type": "markdown",
      "metadata": {
        "id": "hHULeNbldB_Y",
        "colab_type": "text"
      },
      "source": [
        "### Saving Model to GCP"
      ]
    },
    {
      "cell_type": "code",
      "metadata": {
        "id": "sZgPb97EHYzX",
        "colab_type": "code",
        "colab": {}
      },
      "source": [
        "from google.colab import auth\n",
        "auth.authenticate_user()"
      ],
      "execution_count": 0,
      "outputs": []
    },
    {
      "cell_type": "code",
      "metadata": {
        "id": "I3JS8I7nHY2O",
        "colab_type": "code",
        "outputId": "bf8adf7f-5fe0-419b-ced8-e7ce8e88984c",
        "colab": {
          "base_uri": "https://localhost:8080/",
          "height": 54
        }
      },
      "source": [
        "from google.cloud import storage\n",
        "\n",
        "CLIENT = storage.Client(project=GCP_PROJECT_ID)\n",
        "BUCKET_ = CLIENT.bucket(GCP_BUCKET_NAME)\n",
        "\n",
        "def save_model_to_gcp(model, model_name):\n",
        "   \n",
        "  \n",
        "  # Save Keras ModelCheckpoints locally\n",
        "  model.save(os.path.join(\"/tmp\", model_name))\n",
        "\n",
        "\n",
        "  # Copy over to Google Cloud Storage\n",
        "  BLOB_DESTINATION = os.path.join(\"model\", model_name)\n",
        "  blob = BUCKET_.blob(BLOB_DESTINATION)\n",
        "  blob.upload_from_filename(os.path.join(\"/tmp\", model_name))\n",
        "  \n",
        "  # gcs url to uploaded matplotlib image\n",
        "  url = blob.public_url\n",
        "  \n",
        "  print(\"Model saved at {}\".format(url))"
      ],
      "execution_count": 50,
      "outputs": [
        {
          "output_type": "stream",
          "text": [
            "W0514 01:45:37.036163 139905328355200 _default.py:280] No project ID could be determined. Consider running `gcloud config set project` or setting the GOOGLE_CLOUD_PROJECT environment variable\n"
          ],
          "name": "stderr"
        }
      ]
    },
    {
      "cell_type": "code",
      "metadata": {
        "id": "nhiVJ0_hHY40",
        "colab_type": "code",
        "outputId": "e876868e-e240-4122-9df1-003e916afa33",
        "colab": {
          "base_uri": "https://localhost:8080/",
          "height": 34
        }
      },
      "source": [
        "model_name = \"level{}_window_{}.h5\".format(LEVEL, WINDOW)\n",
        "save_model_to_gcp(model_mobile, model_name)"
      ],
      "execution_count": 51,
      "outputs": [
        {
          "output_type": "stream",
          "text": [
            "Model saved at https://storage.googleapis.com/vaa2114_dl_2019/model/level7_window_50.h5\n"
          ],
          "name": "stdout"
        }
      ]
    },
    {
      "cell_type": "markdown",
      "metadata": {
        "id": "udItIwgHfEzm",
        "colab_type": "text"
      },
      "source": [
        "### Load and Test Model"
      ]
    },
    {
      "cell_type": "code",
      "metadata": {
        "id": "H7PD3KBvf9-O",
        "colab_type": "code",
        "colab": {}
      },
      "source": [
        "LOCAL_MODEL_DIR = \"/tmp/model\""
      ],
      "execution_count": 0,
      "outputs": []
    },
    {
      "cell_type": "code",
      "metadata": {
        "id": "5mS779qVHZGe",
        "colab_type": "code",
        "outputId": "9800f860-3764-4b31-9f66-2dc890b84855",
        "colab": {
          "base_uri": "https://localhost:8080/",
          "height": 68
        }
      },
      "source": [
        "!gsutil -m cp gs://{GCP_BUCKET_NAME}/model/{model_name} {LOCAL_MODEL_DIR}/{model_name}"
      ],
      "execution_count": 53,
      "outputs": [
        {
          "output_type": "stream",
          "text": [
            "Copying gs://vaa2114_dl_2019/model/level7_window_50.h5...\n",
            "| [1/1 files][ 88.0 MiB/ 88.0 MiB] 100% Done                                    \n",
            "Operation completed over 1 objects/88.0 MiB.                                     \n"
          ],
          "name": "stdout"
        }
      ]
    },
    {
      "cell_type": "code",
      "metadata": {
        "id": "0nSyyoe_fOBe",
        "colab_type": "code",
        "colab": {}
      },
      "source": [
        "loaded_model = load_model(\"{}/{}\".format(LOCAL_MODEL_DIR, model_name))"
      ],
      "execution_count": 0,
      "outputs": []
    },
    {
      "cell_type": "code",
      "metadata": {
        "id": "KIU0wlqKfm7Y",
        "colab_type": "code",
        "outputId": "893c83cb-fd1c-41fe-d11c-266acb346384",
        "colab": {
          "base_uri": "https://localhost:8080/",
          "height": 348
        }
      },
      "source": [
        "predictions_new = loaded_model.predict(sample_test_images)\n",
        "y_preds= np.argmax(predictions_new, axis=1)\n",
        "\n",
        "confusion_matrix_new = confusion_matrix(np.argmax(sample_test_labels, axis=1), y_preds)\n",
        "plot_confusion_matrix(confusion_matrix_new, CLASS_NAMES)"
      ],
      "execution_count": 55,
      "outputs": [
        {
          "output_type": "stream",
          "text": [
            "Confusion matrix, without normalization\n",
            "[[17  5]\n",
            " [ 2  1]]\n"
          ],
          "name": "stdout"
        },
        {
          "output_type": "display_data",
          "data": {
            "image/png": "[encoded data removed]",
            "text/plain": [
              "<Figure size 432x288 with 2 Axes>"
            ]
          },
          "metadata": {
            "tags": []
          }
        }
      ]
    },
    {
      "cell_type": "code",
      "metadata": {
        "id": "mnJPqOPjhIQj",
        "colab_type": "code",
        "colab": {}
      },
      "source": [
        ""
      ],
      "execution_count": 0,
      "outputs": []
    }
  ]
}