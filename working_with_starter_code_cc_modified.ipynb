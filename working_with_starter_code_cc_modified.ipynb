{
  "nbformat": 4,
  "nbformat_minor": 0,
  "metadata": {
    "colab": {
      "name": "working with starter code_cc_modified",
      "version": "0.3.2",
      "provenance": [],
      "collapsed_sections": [],
      "include_colab_link": true
    },
    "kernelspec": {
      "name": "python3",
      "display_name": "Python 3"
    }
  },
  "cells": [
    {
      "cell_type": "markdown",
      "metadata": {
        "id": "view-in-github",
        "colab_type": "text"
      },
      "source": [
        "<a href=\"https://colab.research.google.com/github/vaguiar/camelyon_dl_2019/blob/cc_explore/working_with_starter_code_cc_modified.ipynb\" target=\"_parent\"><img src=\"https://colab.research.google.com/assets/colab-badge.svg\" alt=\"Open In Colab\"/></a>"
      ]
    },
    {
      "cell_type": "code",
      "metadata": {
        "id": "4Q-ICxs-kqEK",
        "colab_type": "code",
        "outputId": "873122e5-9d96-492a-b94f-75e2c99fcba7",
        "colab": {
          "base_uri": "https://localhost:8080/",
          "height": 721
        }
      },
      "source": [
        "# Install the OpenSlide C library and Python bindings\n",
        "!apt-get install openslide-tools\n",
        "!pip install openslide-python"
      ],
      "execution_count": 0,
      "outputs": [
        {
          "output_type": "stream",
          "text": [
            "Reading package lists... Done\n",
            "Building dependency tree       \n",
            "Reading state information... Done\n",
            "The following package was automatically installed and is no longer required:\n",
            "  libnvidia-common-410\n",
            "Use 'apt autoremove' to remove it.\n",
            "The following additional packages will be installed:\n",
            "  libopenslide0\n",
            "Suggested packages:\n",
            "  libtiff-tools\n",
            "The following NEW packages will be installed:\n",
            "  libopenslide0 openslide-tools\n",
            "0 upgraded, 2 newly installed, 0 to remove and 11 not upgraded.\n",
            "Need to get 92.5 kB of archives.\n",
            "After this operation, 268 kB of additional disk space will be used.\n",
            "Get:1 http://archive.ubuntu.com/ubuntu bionic/universe amd64 libopenslide0 amd64 3.4.1+dfsg-2 [79.8 kB]\n",
            "Get:2 http://archive.ubuntu.com/ubuntu bionic/universe amd64 openslide-tools amd64 3.4.1+dfsg-2 [12.7 kB]\n",
            "Fetched 92.5 kB in 1s (80.4 kB/s)\n",
            "Selecting previously unselected package libopenslide0.\n",
            "(Reading database ... 130812 files and directories currently installed.)\n",
            "Preparing to unpack .../libopenslide0_3.4.1+dfsg-2_amd64.deb ...\n",
            "Unpacking libopenslide0 (3.4.1+dfsg-2) ...\n",
            "Selecting previously unselected package openslide-tools.\n",
            "Preparing to unpack .../openslide-tools_3.4.1+dfsg-2_amd64.deb ...\n",
            "Unpacking openslide-tools (3.4.1+dfsg-2) ...\n",
            "Setting up libopenslide0 (3.4.1+dfsg-2) ...\n",
            "Processing triggers for libc-bin (2.27-3ubuntu1) ...\n",
            "Setting up openslide-tools (3.4.1+dfsg-2) ...\n",
            "Processing triggers for man-db (2.8.3-2ubuntu0.1) ...\n",
            "Collecting openslide-python\n",
            "\u001b[?25l  Downloading https://files.pythonhosted.org/packages/26/5a/5b0adeabce81f018a9e4ffe9a419536064bc95c1b12194aff9b7e48f91f7/openslide-python-1.1.1.tar.gz (312kB)\n",
            "\u001b[K     |████████████████████████████████| 317kB 5.0MB/s \n",
            "\u001b[?25hRequirement already satisfied: Pillow in /usr/local/lib/python3.6/dist-packages (from openslide-python) (4.3.0)\n",
            "Requirement already satisfied: olefile in /usr/local/lib/python3.6/dist-packages (from Pillow->openslide-python) (0.46)\n",
            "Building wheels for collected packages: openslide-python\n",
            "  Building wheel for openslide-python (setup.py) ... \u001b[?25l\u001b[?25hdone\n",
            "  Stored in directory: /root/.cache/pip/wheels/56/44/7e/16c9fc72cfbf1bffe48676b6835843d21abcc56566e958e7d6\n",
            "Successfully built openslide-python\n",
            "Installing collected packages: openslide-python\n",
            "Successfully installed openslide-python-1.1.1\n"
          ],
          "name": "stdout"
        }
      ]
    },
    {
      "cell_type": "code",
      "metadata": {
        "id": "zxAR3TmatePH",
        "colab_type": "code",
        "colab": {}
      },
      "source": [
        "%matplotlib inline\n",
        "import matplotlib.pyplot as plt\n",
        "import numpy as np\n",
        "from openslide import open_slide, __library_version__ as openslide_version\n",
        "import os\n",
        "from PIL import Image\n",
        "from skimage.color import rgb2gray"
      ],
      "execution_count": 0,
      "outputs": []
    },
    {
      "cell_type": "code",
      "metadata": {
        "id": "86mc0fyu4_vf",
        "colab_type": "code",
        "outputId": "2cd50dd0-82ac-4f69-873a-7c3bc8f9ca81",
        "colab": {
          "base_uri": "https://localhost:8080/",
          "height": 223
        }
      },
      "source": [
        "## load data fom google drive \n",
        "from google.colab import drive\n",
        "drive.mount('/content/drive')"
      ],
      "execution_count": 0,
      "outputs": [
        {
          "output_type": "stream",
          "text": [
            "Go to this URL in a browser: https://accounts.google.com/o/oauth2/auth?client_id=947318989803-6bn6qk8qdgf4n4g3pfee6491hc0brc4i.apps.googleusercontent.com&redirect_uri=urn%3Aietf%3Awg%3Aoauth%3A2.0%3Aoob&scope=email%20https%3A%2F%2Fwww.googleapis.com%2Fauth%2Fdocs.test%20https%3A%2F%2Fwww.googleapis.com%2Fauth%2Fdrive%20https%3A%2F%2Fwww.googleapis.com%2Fauth%2Fdrive.photos.readonly%20https%3A%2F%2Fwww.googleapis.com%2Fauth%2Fpeopleapi.readonly&response_type=code\n",
            "\n",
            "Enter your authorization code:\n",
            "··········\n",
            "Mounted at /content/drive\n"
          ],
          "name": "stdout"
        }
      ]
    },
    {
      "cell_type": "code",
      "metadata": {
        "id": "G8WVoGKo6-Jq",
        "colab_type": "code",
        "colab": {}
      },
      "source": [
        "base_dir = '/content/drive/My Drive/slides/'\n",
        "\n",
        "CANCER_PATH = 'drive/My Drive/training_data/cancer'\n",
        "NON_CANCER_PATH = 'drive/My Drive/training_data/non_cancer'\n",
        "\n",
        "images = os.listdir(base_dir)\n",
        "\n",
        "masks = [s for s in images if \"_mask.tif\" in s]\n",
        "masks.sort()\n",
        "slides = list(set([s for s in images if \".tif\" in s]) - set(masks))\n",
        "slides.sort()\n",
        "slides.remove('tumor_038.tif')\n",
        "\n",
        "masks_slides = zip(masks, slides)"
      ],
      "execution_count": 0,
      "outputs": []
    },
    {
      "cell_type": "code",
      "metadata": {
        "id": "t9ewr6eiCY4z",
        "colab_type": "code",
        "outputId": "2e09b604-3a59-4077-b1c1-49d1a2bd4ec4",
        "colab": {
          "base_uri": "https://localhost:8080/",
          "height": 32
        }
      },
      "source": [
        "test = list(masks_slides)[17]\n",
        "slide_file = test[1]\n",
        "tumor_mask_file = test[0]"
      ],
      "execution_count": 0,
      "outputs": [
        {
          "output_type": "execute_result",
          "data": {
            "text/plain": [
              "('tumor_094_mask.tif', 'tumor_094.tif')"
            ]
          },
          "metadata": {
            "tags": []
          },
          "execution_count": 31
        }
      ]
    },
    {
      "cell_type": "code",
      "metadata": {
        "id": "_EooEyY3vCrU",
        "colab_type": "code",
        "colab": {}
      },
      "source": [
        "def getSlide_Mask(slide_file, tumor_mask_file):\n",
        "\n",
        "  slide_path = os.path.join(base_dir, slide_file)\n",
        "  tumor_mask_path = os.path.join(base_dir, tumor_mask_file)\n",
        "\n",
        "\n",
        "  slide = open_slide(slide_path)\n",
        "  tumor_mask = open_slide(tumor_mask_path)\n",
        "  \n",
        "  for i in range(len(slide.level_dimensions)):\n",
        "      assert tumor_mask.level_dimensions[i][0] == slide.level_dimensions[i][0]\n",
        "      assert tumor_mask.level_dimensions[i][1] == slide.level_dimensions[i][1]\n",
        "\n",
        "  # Verify downsampling works as expected\n",
        "  width, height = slide.level_dimensions[7]\n",
        "  assert width * slide.level_downsamples[7] == slide.level_dimensions[0][0]\n",
        "  assert height * slide.level_downsamples[7] == slide.level_dimensions[0][1]\n",
        "  \n",
        "  return slide, tumor_mask\n",
        "\n",
        "def read_slide(slide, x, y, level, width, height, as_float=False):\n",
        "    im = slide.read_region((x,y), level, (width, height))\n",
        "    im = im.convert('RGB') # drop the alpha channel\n",
        "    if as_float:\n",
        "        im = np.asarray(im, dtype=np.float32)\n",
        "    else:\n",
        "        im = np.asarray(im)\n",
        "    assert im.shape == (height, width, 3)\n",
        "    return im\n",
        "  \n",
        "\n",
        "  \n",
        "## use a sliding window filter of size (slide_height, slide_width)\n",
        "## save in cancer folder if more than 30% of pixels are cancerous\n",
        "## save in non_cancer folder otherwise\n",
        "\n",
        "\n",
        "def getTraining_Data(level, slide, tumor_mask, slide_width, slide_height, slide_file, min_x = 0, min_y = 0):\n",
        "\n",
        "  down_sample = int(slide.level_downsamples[level])\n",
        "  pixel_width = int(down_sample*slide.level_dimensions[level][0])\n",
        "  pixel_height = int(down_sample*slide.level_dimensions[level][1])\n",
        "\n",
        "  for x in range(min_x*down_sample, pixel_width, slide_width*down_sample):\n",
        "    for y in range(min_y*down_sample, pixel_height, slide_height*down_sample):\n",
        "\n",
        "      slide_width_2 =  min(slide_width, slide.level_dimensions[level][0] - x/down_sample)\n",
        "      slide_height_2 = min(slide_width, slide.level_dimensions[level][1] - y/down_sample)\n",
        "\n",
        "      slide_image = read_slide(slide, \n",
        "                           x=x, \n",
        "                           y=y, \n",
        "                           level=level, \n",
        "                           width= int(slide_width_2) , \n",
        "                           height= int(slide_height_2) )\n",
        "\n",
        "      mask_image = read_slide(tumor_mask,\n",
        "                              x=x, \n",
        "                              y=y, \n",
        "                              level=level, \n",
        "                              width= int(slide_width_2) , \n",
        "                              height= int(slide_height_2) )\n",
        "\n",
        "      mask_image = mask_image[:,:,0]\n",
        "\n",
        "      pcnt_cancer =  np.sum(mask_image)/((slide_width*slide_height)/100)\n",
        "\n",
        "      if pcnt_cancer >=.3:\n",
        "        name = CANCER_PATH + \"/\" + str(x) + \"_\" + str(y)+ \"_\" + slide_file\n",
        "      else:\n",
        "        name = NON_CANCER_PATH + \"/\" + str(x) + \"_\" + str(y)+ \"_\" + slide_file\n",
        "\n",
        "\n",
        "      print(name)\n",
        "      plt.figure(figsize=(10,10), dpi=100)\n",
        "      plt.imshow(slide_image)\n",
        "      plt.imshow(mask_image, cmap='jet', alpha=0.5) # Red regions contains cancer.\n",
        "      plt.savefig(name) \n",
        "\n",
        "\n"
      ],
      "execution_count": 0,
      "outputs": []
    },
    {
      "cell_type": "code",
      "metadata": {
        "id": "P6pus9f8vCoQ",
        "colab_type": "code",
        "colab": {}
      },
      "source": [
        "slide, tumor_mask = getSlide_Mask(slide_file, tumor_mask_file)"
      ],
      "execution_count": 0,
      "outputs": []
    },
    {
      "cell_type": "code",
      "metadata": {
        "id": "Bg5z75QRdy5E",
        "colab_type": "code",
        "colab": {}
      },
      "source": [
        "level = 6\n",
        "slide_width = 300\n",
        "slide_height = 300 "
      ],
      "execution_count": 0,
      "outputs": []
    },
    {
      "cell_type": "code",
      "metadata": {
        "id": "1exmG0W3yvDK",
        "colab_type": "code",
        "colab": {}
      },
      "source": [
        "getTraining_Data(level, slide, tumor_mask, slide_width, slide_height, slide_file)"
      ],
      "execution_count": 0,
      "outputs": []
    },
    {
      "cell_type": "code",
      "metadata": {
        "id": "b9DfIFxRvCf1",
        "colab_type": "code",
        "colab": {}
      },
      "source": [
        "\n",
        "slide_image = read_slide(slide, \n",
        "                         x=550*down_sample, \n",
        "                        y=180*down_sample, \n",
        "                        level=7, \n",
        "                        width=200, \n",
        "                        height= 100)\n",
        "\n",
        "# Example: read the entire mask at the same zoom level\n",
        "mask_image = read_slide(tumor_mask, \n",
        "                        x=610*down_sample, \n",
        "                        y=220*down_sample, \n",
        "                        level=7, \n",
        "                        width=20, \n",
        "                        height= 10)\n",
        "\n",
        "# Note: the program provided by the dataset authors generates a mask with R,G,B channels.\n",
        "# The mask info we need is in the first channel only.\n",
        "# If you skip this step, the mask will be displayed as all black.\n",
        "mask_image = mask_image[:,:,0]\n",
        "\n",
        "plt.figure(figsize=(10,10), dpi=100)\n",
        "plt.imshow(mask_image)"
      ],
      "execution_count": 0,
      "outputs": []
    },
    {
      "cell_type": "code",
      "metadata": {
        "id": "_t7yQKvrvJYq",
        "colab_type": "code",
        "colab": {}
      },
      "source": [
        "np.sum(mask_image)/200"
      ],
      "execution_count": 0,
      "outputs": []
    },
    {
      "cell_type": "code",
      "metadata": {
        "id": "w7awG5pzwPbn",
        "colab_type": "code",
        "colab": {}
      },
      "source": [
        "(200*100)/100.0"
      ],
      "execution_count": 0,
      "outputs": []
    },
    {
      "cell_type": "code",
      "metadata": {
        "id": "jFoFmvNgq4zY",
        "colab_type": "code",
        "colab": {}
      },
      "source": [
        "# Overlay them. The idea is that the mask shows the region of the slide that\n",
        "# contain cancerous cells.\n",
        "plt.figure(figsize=(10,10), dpi=100)\n",
        "plt.imshow(slide_image)\n",
        "plt.imshow(mask_image, cmap='jet', alpha=0.5) # Red regions contains cancer."
      ],
      "execution_count": 0,
      "outputs": []
    },
    {
      "cell_type": "code",
      "metadata": {
        "id": "zpN2OZLhrCQU",
        "colab_type": "code",
        "colab": {}
      },
      "source": [
        "# Example: extract a region from the L7 downsampled image\n",
        "# Notice we're multiplying the x,y coordinates by the downsample factor.\n",
        "# This math can be tricky to get right, debug carefully.\n",
        "# Here, we're \"aiming\" for the top right blob in the image above.\n",
        "region = read_slide(tumor_mask, x=350 * 128, y=120 * 128, level=7, width=50, height=50)[:,:,0]\n",
        "plt.imshow(region)"
      ],
      "execution_count": 0,
      "outputs": []
    },
    {
      "cell_type": "code",
      "metadata": {
        "id": "KQ3jzxUurSrV",
        "colab_type": "code",
        "colab": {}
      },
      "source": [
        "# As mentioned in class, we can improve efficiency by ignoring non-tissue areas \n",
        "# of the slide. We'll find these by looking for all gray regions.\n",
        "def find_tissue_pixels(image, intensity=0.8):\n",
        "    im_gray = rgb2gray(image)\n",
        "    assert im_gray.shape == (image.shape[0], image.shape[1])\n",
        "    indices = np.where(im_gray <= intensity)\n",
        "    return zip(indices[0], indices[1])\n",
        "\n",
        "tissue_pixels = find_tissue_pixels(slide_image)\n",
        "num_pixels = len(list(tissue_pixels))\n",
        "percent_tissue = num_pixels/ float(slide_image.shape[0] * slide_image.shape[0]) * 100\n",
        "print (\"%d tissue_pixels pixels (%.1f percent of the image)\" % (num_pixels , percent_tissue)) \n",
        "\n",
        "def apply_mask(im, mask, color=(255,0,0)):\n",
        "    masked = np.copy(im)\n",
        "    for x,y in mask: masked[x][y] = color\n",
        "    return masked\n",
        "\n",
        "tissue_regions = apply_mask(slide_image, tissue_pixels)\n",
        "plt.imshow(tissue_regions)"
      ],
      "execution_count": 0,
      "outputs": []
    },
    {
      "cell_type": "code",
      "metadata": {
        "id": "xKejSpX7rRws",
        "colab_type": "code",
        "colab": {}
      },
      "source": [
        ""
      ],
      "execution_count": 0,
      "outputs": []
    },
    {
      "cell_type": "code",
      "metadata": {
        "id": "Wl_3CzrCvCcZ",
        "colab_type": "code",
        "colab": {}
      },
      "source": [
        ""
      ],
      "execution_count": 0,
      "outputs": []
    },
    {
      "cell_type": "code",
      "metadata": {
        "id": "ZrOGONKRvCZw",
        "colab_type": "code",
        "colab": {}
      },
      "source": [
        ""
      ],
      "execution_count": 0,
      "outputs": []
    },
    {
      "cell_type": "code",
      "metadata": {
        "id": "Zdq1IOr3vCXO",
        "colab_type": "code",
        "colab": {}
      },
      "source": [
        ""
      ],
      "execution_count": 0,
      "outputs": []
    },
    {
      "cell_type": "code",
      "metadata": {
        "id": "GBk8oOwkvCUc",
        "colab_type": "code",
        "colab": {}
      },
      "source": [
        ""
      ],
      "execution_count": 0,
      "outputs": []
    },
    {
      "cell_type": "code",
      "metadata": {
        "id": "znd0We2xvCRm",
        "colab_type": "code",
        "colab": {}
      },
      "source": [
        ""
      ],
      "execution_count": 0,
      "outputs": []
    }
  ]
}